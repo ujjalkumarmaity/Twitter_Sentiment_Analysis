{
  "nbformat": 4,
  "nbformat_minor": 0,
  "metadata": {
    "kernelspec": {
      "display_name": "Python 3",
      "language": "python",
      "name": "python3"
    },
    "language_info": {
      "codemirror_mode": {
        "name": "ipython",
        "version": 3
      },
      "file_extension": ".py",
      "mimetype": "text/x-python",
      "name": "python",
      "nbconvert_exporter": "python",
      "pygments_lexer": "ipython3",
      "version": "3.7.4"
    },
    "colab": {
      "name": "Twitter Sentiment Analysis naive bayes .ipynb",
      "provenance": [],
      "collapsed_sections": [],
      "toc_visible": true,
      "include_colab_link": true
    }
  },
  "cells": [
    {
      "cell_type": "markdown",
      "metadata": {
        "id": "view-in-github",
        "colab_type": "text"
      },
      "source": [
        "<a href=\"https://colab.research.google.com/github/ujjalkumarmaity/Twitter_Sentiment_Analysis/blob/master/Twitter_Sentiment_Analysis_naive_bayes_.ipynb\" target=\"_parent\"><img src=\"https://colab.research.google.com/assets/colab-badge.svg\" alt=\"Open In Colab\"/></a>"
      ]
    },
    {
      "cell_type": "markdown",
      "metadata": {
        "id": "y5PJwEdfWXxC",
        "colab_type": "text"
      },
      "source": [
        "__What is Sentiment Analysis?__\n",
        "\n",
        "Sentiment analysis is a process of identifying an attitude of the author on a topic that is being written about. "
      ]
    },
    {
      "cell_type": "markdown",
      "metadata": {
        "id": "Yunc9XDuWXxF",
        "colab_type": "text"
      },
      "source": [
        "#### Table of contents\n",
        "\n",
        "1. Load the libraries\n",
        "1. Load Dataset\n",
        "1. EDA\n",
        "1. Preprocessing Tweet Text\n",
        "1. Featurization\n",
        "    1. Bag-of-Words\n",
        "    1. TF-IDF\n",
        "    1. Word2vec\n",
        "1. Resample\n",
        "    1. Upsampling BOW\n",
        "    2. Upsampling TF-IDF\n",
        "    1. Upsampling word2vec\n",
        "1. Split Dataset\n",
        "1. Model Selection\n",
        "    1. naive bayes  \n",
        "1. Summary\n"
      ]
    },
    {
      "cell_type": "markdown",
      "metadata": {
        "id": "EVQhlPDoWXxK",
        "colab_type": "text"
      },
      "source": [
        "# Load the libraries"
      ]
    },
    {
      "cell_type": "code",
      "metadata": {
        "id": "wLBHYO2EWt2Z",
        "colab_type": "code",
        "colab": {
          "base_uri": "https://localhost:8080/",
          "height": 55
        },
        "outputId": "2eab189e-ef45-4e22-89ed-4f595b66d7b8"
      },
      "source": [
        "from google.colab import drive\n",
        "drive.mount('/content/drive')"
      ],
      "execution_count": 2,
      "outputs": [
        {
          "output_type": "stream",
          "text": [
            "Drive already mounted at /content/drive; to attempt to forcibly remount, call drive.mount(\"/content/drive\", force_remount=True).\n"
          ],
          "name": "stdout"
        }
      ]
    },
    {
      "cell_type": "code",
      "metadata": {
        "id": "gln-z21xWXxN",
        "colab_type": "code",
        "colab": {}
      },
      "source": [
        "import warnings\n",
        "warnings.filterwarnings('ignore')\n",
        "import pandas as pd\n",
        "import numpy as np\n",
        "import matplotlib.pyplot as plt\n",
        "import seaborn as sns\n",
        "import nltk\n",
        "from nltk.stem import PorterStemmer,WordNetLemmatizer\n",
        "from wordcloud import WordCloud\n",
        "import re\n",
        "import gensim\n",
        "from sklearn.model_selection import train_test_split\n",
        "from sklearn.feature_extraction.text import CountVectorizer,TfidfVectorizer\n",
        "from sklearn.utils import resample\n",
        "from sklearn.metrics import accuracy_score,f1_score"
      ],
      "execution_count": 3,
      "outputs": []
    },
    {
      "cell_type": "markdown",
      "metadata": {
        "id": "4aGXyK-mWXxd",
        "colab_type": "text"
      },
      "source": [
        "# Load Dataset"
      ]
    },
    {
      "cell_type": "code",
      "metadata": {
        "id": "3Mvcs9BjWXxf",
        "colab_type": "code",
        "colab": {
          "base_uri": "https://localhost:8080/",
          "height": 175
        },
        "outputId": "c39896ae-aac2-422f-f4ce-b73643eed76b"
      },
      "source": [
        "df=pd.read_csv('/content/drive/My Drive/Colab Notebooks/Twitter/train.csv.zip')\n",
        "test=pd.read_csv('/content/drive/My Drive/Colab Notebooks/Twitter/test.csv.zip')\n",
        "df.head(4)"
      ],
      "execution_count": 4,
      "outputs": [
        {
          "output_type": "execute_result",
          "data": {
            "text/html": [
              "<div>\n",
              "<style scoped>\n",
              "    .dataframe tbody tr th:only-of-type {\n",
              "        vertical-align: middle;\n",
              "    }\n",
              "\n",
              "    .dataframe tbody tr th {\n",
              "        vertical-align: top;\n",
              "    }\n",
              "\n",
              "    .dataframe thead th {\n",
              "        text-align: right;\n",
              "    }\n",
              "</style>\n",
              "<table border=\"1\" class=\"dataframe\">\n",
              "  <thead>\n",
              "    <tr style=\"text-align: right;\">\n",
              "      <th></th>\n",
              "      <th>id</th>\n",
              "      <th>label</th>\n",
              "      <th>tweet</th>\n",
              "    </tr>\n",
              "  </thead>\n",
              "  <tbody>\n",
              "    <tr>\n",
              "      <th>0</th>\n",
              "      <td>1</td>\n",
              "      <td>0</td>\n",
              "      <td>@user when a father is dysfunctional and is s...</td>\n",
              "    </tr>\n",
              "    <tr>\n",
              "      <th>1</th>\n",
              "      <td>2</td>\n",
              "      <td>0</td>\n",
              "      <td>@user @user thanks for #lyft credit i can't us...</td>\n",
              "    </tr>\n",
              "    <tr>\n",
              "      <th>2</th>\n",
              "      <td>3</td>\n",
              "      <td>0</td>\n",
              "      <td>bihday your majesty</td>\n",
              "    </tr>\n",
              "    <tr>\n",
              "      <th>3</th>\n",
              "      <td>4</td>\n",
              "      <td>0</td>\n",
              "      <td>#model   i love u take with u all the time in ...</td>\n",
              "    </tr>\n",
              "  </tbody>\n",
              "</table>\n",
              "</div>"
            ],
            "text/plain": [
              "   id  label                                              tweet\n",
              "0   1      0   @user when a father is dysfunctional and is s...\n",
              "1   2      0  @user @user thanks for #lyft credit i can't us...\n",
              "2   3      0                                bihday your majesty\n",
              "3   4      0  #model   i love u take with u all the time in ..."
            ]
          },
          "metadata": {
            "tags": []
          },
          "execution_count": 4
        }
      ]
    },
    {
      "cell_type": "markdown",
      "metadata": {
        "id": "nehjc8uFWXxs",
        "colab_type": "text"
      },
      "source": [
        "#  EDA"
      ]
    },
    {
      "cell_type": "code",
      "metadata": {
        "id": "oOmogVsaWXxt",
        "colab_type": "code",
        "colab": {
          "base_uri": "https://localhost:8080/",
          "height": 201
        },
        "outputId": "4866e726-d9f4-40ba-cec9-479d1ed6454c"
      },
      "source": [
        "df.info()"
      ],
      "execution_count": 5,
      "outputs": [
        {
          "output_type": "stream",
          "text": [
            "<class 'pandas.core.frame.DataFrame'>\n",
            "RangeIndex: 31962 entries, 0 to 31961\n",
            "Data columns (total 3 columns):\n",
            " #   Column  Non-Null Count  Dtype \n",
            "---  ------  --------------  ----- \n",
            " 0   id      31962 non-null  int64 \n",
            " 1   label   31962 non-null  int64 \n",
            " 2   tweet   31962 non-null  object\n",
            "dtypes: int64(2), object(1)\n",
            "memory usage: 749.2+ KB\n"
          ],
          "name": "stdout"
        }
      ]
    },
    {
      "cell_type": "code",
      "metadata": {
        "id": "cpLDlr9JWXx2",
        "colab_type": "code",
        "colab": {
          "base_uri": "https://localhost:8080/",
          "height": 90
        },
        "outputId": "8b18605c-7ec5-4de2-e792-81589fca1670"
      },
      "source": [
        "print('shape of train dataset',df.shape)\n",
        "df.label.value_counts()"
      ],
      "execution_count": 6,
      "outputs": [
        {
          "output_type": "stream",
          "text": [
            "shape of train dataset (31962, 3)\n"
          ],
          "name": "stdout"
        },
        {
          "output_type": "execute_result",
          "data": {
            "text/plain": [
              "0    29720\n",
              "1     2242\n",
              "Name: label, dtype: int64"
            ]
          },
          "metadata": {
            "tags": []
          },
          "execution_count": 6
        }
      ]
    },
    {
      "cell_type": "code",
      "metadata": {
        "id": "O8e4ttghWXx-",
        "colab_type": "code",
        "colab": {
          "base_uri": "https://localhost:8080/",
          "height": 279
        },
        "outputId": "4c53fc5b-fcac-40dd-a1d9-337262df16dd"
      },
      "source": [
        "# \n",
        "sns.countplot(df.label,)\n",
        "plt.xlabel('class label')\n",
        "plt.ylabel('number of tweets')\n",
        "plt.show()"
      ],
      "execution_count": 7,
      "outputs": [
        {
          "output_type": "display_data",
          "data": {
            "image/png": "[encoded data removed]",
            "text/plain": [
              "<Figure size 432x288 with 1 Axes>"
            ]
          },
          "metadata": {
            "tags": [],
            "needs_background": "light"
          }
        }
      ]
    },
    {
      "cell_type": "code",
      "metadata": {
        "id": "fWBFmBH4WXyJ",
        "colab_type": "code",
        "colab": {
          "base_uri": "https://localhost:8080/",
          "height": 541
        },
        "outputId": "4476ef71-657c-4e03-ca1b-ff2bb5fbf366"
      },
      "source": [
        "plt.hist(df[df['label']==1].tweet.str.len(),bins=20,label='class 1')\n",
        "plt.legend()\n",
        "plt.xlabel('length of tweets')\n",
        "plt.ylabel('number of tweets')\n",
        "plt.show()\n",
        "plt.hist(df[df['label']==0].tweet.str.len(),color='yellow',bins=20,label='class 0')\n",
        "plt.legend()\n",
        "plt.xlabel('length of tweets')\n",
        "plt.ylabel('number of tweets')\n",
        "plt.show()"
      ],
      "execution_count": 8,
      "outputs": [
        {
          "output_type": "display_data",
          "data": {
            "image/png": "[encoded data removed]",
            "text/plain": [
              "<Figure size 432x288 with 1 Axes>"
            ]
          },
          "metadata": {
            "tags": [],
            "needs_background": "light"
          }
        },
        {
          "output_type": "display_data",
          "data": {
            "image/png": "[encoded data removed]",
            "text/plain": [
              "<Figure size 432x288 with 1 Axes>"
            ]
          },
          "metadata": {
            "tags": [],
            "needs_background": "light"
          }
        }
      ]
    },
    {
      "cell_type": "markdown",
      "metadata": {
        "id": "j2F5HlwPWXyQ",
        "colab_type": "text"
      },
      "source": [
        "#   Preprocessing Tweet Text\n",
        "\n",
        "1. Removing Twitter Handles (@user)\n",
        "2. Removing urls from text \n",
        "3. Removing Punctuations, Numbers, and Special Characters\n",
        "\n",
        "5. Convert the word to lowercase\n",
        "6. Remove Stopwords\n",
        "7. Stemming the word\n",
        "8. Lemmatization<br>\n",
        "\n",
        "After which we collect the words used to describe positive and negative reviews"
      ]
    },
    {
      "cell_type": "code",
      "metadata": {
        "id": "Kl-PSHglWXyR",
        "colab_type": "code",
        "colab": {
          "base_uri": "https://localhost:8080/",
          "height": 35
        },
        "outputId": "59eeb5a6-00a8-497c-dc1b-80e472e88fcd"
      },
      "source": [
        "text=df['tweet'].values.tolist()\n",
        "text_test=test['tweet'].values.tolist()\n",
        "text+=text_test\n",
        "print(len(text))"
      ],
      "execution_count": 9,
      "outputs": [
        {
          "output_type": "stream",
          "text": [
            "49159\n"
          ],
          "name": "stdout"
        }
      ]
    },
    {
      "cell_type": "code",
      "metadata": {
        "id": "QIAPatCtWXyY",
        "colab_type": "code",
        "colab": {}
      },
      "source": [
        "import nltk\n",
        "stopword=nltk.corpus.stopwords.words('english')\n",
        "stopword.remove('not')\n",
        "for index,text_ in enumerate(text):\n",
        "    text_=re.sub(r'@[\\w]*','',text_) #Removing Twitter Handles (@user)\n",
        "    text_=re.sub(r'http/S+','',text_) #Removing urls from text \n",
        "    text_=re.sub(r'[^A-Za-z#]',' ',text_) #Removing Punctuations, Numbers, and Special Characters\n",
        "    text_=\" \".join(i.lower() for i in text_.split() if i.lower() not in stopword) #Removing stopword\n",
        "    text[index]=text_"
      ],
      "execution_count": 12,
      "outputs": []
    },
    {
      "cell_type": "code",
      "metadata": {
        "id": "k8c4eQr6WXyf",
        "colab_type": "code",
        "colab": {}
      },
      "source": [
        "#Stemming the word\n",
        "pt=PorterStemmer()\n",
        "wordnet=WordNetLemmatizer()\n",
        "for index,text_ in enumerate(text):\n",
        "    text_=\" \".join(pt.stem(i) for i in text_.split())\n",
        "    text_=\" \".join(wordnet.lemmatize(i) for i in text_.split())  \n",
        "    text[index]=text_\n"
      ],
      "execution_count": 15,
      "outputs": []
    },
    {
      "cell_type": "code",
      "metadata": {
        "scrolled": true,
        "id": "gjNP4Q6mWXyk",
        "colab_type": "code",
        "colab": {
          "base_uri": "https://localhost:8080/",
          "height": 206
        },
        "outputId": "156c1738-bbc6-4eeb-8781-902439bee564"
      },
      "source": [
        "df['preprocess_tweet']=text[:len(df)]\n",
        "df['length_tweet']=df['preprocess_tweet'].str.len()\n",
        "test['preprocess_tweet']=text[len(df):]\n",
        "df.head()"
      ],
      "execution_count": 16,
      "outputs": [
        {
          "output_type": "execute_result",
          "data": {
            "text/html": [
              "<div>\n",
              "<style scoped>\n",
              "    .dataframe tbody tr th:only-of-type {\n",
              "        vertical-align: middle;\n",
              "    }\n",
              "\n",
              "    .dataframe tbody tr th {\n",
              "        vertical-align: top;\n",
              "    }\n",
              "\n",
              "    .dataframe thead th {\n",
              "        text-align: right;\n",
              "    }\n",
              "</style>\n",
              "<table border=\"1\" class=\"dataframe\">\n",
              "  <thead>\n",
              "    <tr style=\"text-align: right;\">\n",
              "      <th></th>\n",
              "      <th>id</th>\n",
              "      <th>label</th>\n",
              "      <th>tweet</th>\n",
              "      <th>preprocess_tweet</th>\n",
              "      <th>length_tweet</th>\n",
              "    </tr>\n",
              "  </thead>\n",
              "  <tbody>\n",
              "    <tr>\n",
              "      <th>0</th>\n",
              "      <td>1</td>\n",
              "      <td>0</td>\n",
              "      <td>@user when a father is dysfunctional and is s...</td>\n",
              "      <td>father dysfunct selfish drag kid dysfunct #run</td>\n",
              "      <td>46</td>\n",
              "    </tr>\n",
              "    <tr>\n",
              "      <th>1</th>\n",
              "      <td>2</td>\n",
              "      <td>0</td>\n",
              "      <td>@user @user thanks for #lyft credit i can't us...</td>\n",
              "      <td>thank #lyft credit use caus offer wheelchair v...</td>\n",
              "      <td>73</td>\n",
              "    </tr>\n",
              "    <tr>\n",
              "      <th>2</th>\n",
              "      <td>3</td>\n",
              "      <td>0</td>\n",
              "      <td>bihday your majesty</td>\n",
              "      <td>bihday majesti</td>\n",
              "      <td>14</td>\n",
              "    </tr>\n",
              "    <tr>\n",
              "      <th>3</th>\n",
              "      <td>4</td>\n",
              "      <td>0</td>\n",
              "      <td>#model   i love u take with u all the time in ...</td>\n",
              "      <td>#model love u take u time ur</td>\n",
              "      <td>28</td>\n",
              "    </tr>\n",
              "    <tr>\n",
              "      <th>4</th>\n",
              "      <td>5</td>\n",
              "      <td>0</td>\n",
              "      <td>factsguide: society now    #motivation</td>\n",
              "      <td>factsguid societi #motiv</td>\n",
              "      <td>24</td>\n",
              "    </tr>\n",
              "  </tbody>\n",
              "</table>\n",
              "</div>"
            ],
            "text/plain": [
              "   id  label  ...                                   preprocess_tweet length_tweet\n",
              "0   1      0  ...     father dysfunct selfish drag kid dysfunct #run           46\n",
              "1   2      0  ...  thank #lyft credit use caus offer wheelchair v...           73\n",
              "2   3      0  ...                                     bihday majesti           14\n",
              "3   4      0  ...                       #model love u take u time ur           28\n",
              "4   5      0  ...                           factsguid societi #motiv           24\n",
              "\n",
              "[5 rows x 5 columns]"
            ]
          },
          "metadata": {
            "tags": []
          },
          "execution_count": 16
        }
      ]
    },
    {
      "cell_type": "code",
      "metadata": {
        "id": "fSeMUl9LWXyt",
        "colab_type": "code",
        "colab": {}
      },
      "source": [
        ""
      ],
      "execution_count": 16,
      "outputs": []
    },
    {
      "cell_type": "code",
      "metadata": {
        "id": "lGo97BEvWXy0",
        "colab_type": "code",
        "colab": {}
      },
      "source": [
        "\n"
      ],
      "execution_count": 16,
      "outputs": []
    },
    {
      "cell_type": "markdown",
      "metadata": {
        "id": "QAFzJ26TWXy6",
        "colab_type": "text"
      },
      "source": [
        "# Featurization"
      ]
    },
    {
      "cell_type": "markdown",
      "metadata": {
        "id": "KqZzPYAcWXy7",
        "colab_type": "text"
      },
      "source": [
        "###BOW"
      ]
    },
    {
      "cell_type": "code",
      "metadata": {
        "id": "5UoV9n9NWXy9",
        "colab_type": "code",
        "colab": {}
      },
      "source": [
        "train=df.copy()\n",
        "train.drop(columns=['id','tweet','preprocess_tweet'],inplace=True)\n"
      ],
      "execution_count": 17,
      "outputs": []
    },
    {
      "cell_type": "code",
      "metadata": {
        "id": "ijuvNDk-WXzD",
        "colab_type": "code",
        "colab": {
          "base_uri": "https://localhost:8080/",
          "height": 311
        },
        "outputId": "9dc25262-7d0c-411c-a39a-b6099709871a"
      },
      "source": [
        "bow=CountVectorizer( min_df=2, max_features=1000)\n",
        "bow.fit(df['preprocess_tweet'])\n",
        "bow_df=bow.transform(df['preprocess_tweet']).toarray()\n",
        "print('feature name==',bow.get_feature_names()[:10])\n",
        "print('number of uniqe words',bow_df.shape[1])\n",
        "print('shape',bow_df.shape)\n",
        "bow_train=pd.DataFrame(bow_df)\n",
        "bow_train['length_tweet']=df['length_tweet']\n",
        "bow_train['label']=df['label']\n",
        "bow_train.head()"
      ],
      "execution_count": 18,
      "outputs": [
        {
          "output_type": "stream",
          "text": [
            "feature name== ['abl', 'absolut', 'accept', 'account', 'act', 'action', 'actor', 'actual', 'ad', 'adapt']\n",
            "number of uniqe words 1000\n",
            "shape (31962, 1000)\n"
          ],
          "name": "stdout"
        },
        {
          "output_type": "execute_result",
          "data": {
            "text/html": [
              "<div>\n",
              "<style scoped>\n",
              "    .dataframe tbody tr th:only-of-type {\n",
              "        vertical-align: middle;\n",
              "    }\n",
              "\n",
              "    .dataframe tbody tr th {\n",
              "        vertical-align: top;\n",
              "    }\n",
              "\n",
              "    .dataframe thead th {\n",
              "        text-align: right;\n",
              "    }\n",
              "</style>\n",
              "<table border=\"1\" class=\"dataframe\">\n",
              "  <thead>\n",
              "    <tr style=\"text-align: right;\">\n",
              "      <th></th>\n",
              "      <th>0</th>\n",
              "      <th>1</th>\n",
              "      <th>2</th>\n",
              "      <th>3</th>\n",
              "      <th>4</th>\n",
              "      <th>5</th>\n",
              "      <th>6</th>\n",
              "      <th>7</th>\n",
              "      <th>8</th>\n",
              "      <th>9</th>\n",
              "      <th>10</th>\n",
              "      <th>11</th>\n",
              "      <th>12</th>\n",
              "      <th>13</th>\n",
              "      <th>14</th>\n",
              "      <th>15</th>\n",
              "      <th>16</th>\n",
              "      <th>17</th>\n",
              "      <th>18</th>\n",
              "      <th>19</th>\n",
              "      <th>20</th>\n",
              "      <th>21</th>\n",
              "      <th>22</th>\n",
              "      <th>23</th>\n",
              "      <th>24</th>\n",
              "      <th>25</th>\n",
              "      <th>26</th>\n",
              "      <th>27</th>\n",
              "      <th>28</th>\n",
              "      <th>29</th>\n",
              "      <th>30</th>\n",
              "      <th>31</th>\n",
              "      <th>32</th>\n",
              "      <th>33</th>\n",
              "      <th>34</th>\n",
              "      <th>35</th>\n",
              "      <th>36</th>\n",
              "      <th>37</th>\n",
              "      <th>38</th>\n",
              "      <th>39</th>\n",
              "      <th>...</th>\n",
              "      <th>962</th>\n",
              "      <th>963</th>\n",
              "      <th>964</th>\n",
              "      <th>965</th>\n",
              "      <th>966</th>\n",
              "      <th>967</th>\n",
              "      <th>968</th>\n",
              "      <th>969</th>\n",
              "      <th>970</th>\n",
              "      <th>971</th>\n",
              "      <th>972</th>\n",
              "      <th>973</th>\n",
              "      <th>974</th>\n",
              "      <th>975</th>\n",
              "      <th>976</th>\n",
              "      <th>977</th>\n",
              "      <th>978</th>\n",
              "      <th>979</th>\n",
              "      <th>980</th>\n",
              "      <th>981</th>\n",
              "      <th>982</th>\n",
              "      <th>983</th>\n",
              "      <th>984</th>\n",
              "      <th>985</th>\n",
              "      <th>986</th>\n",
              "      <th>987</th>\n",
              "      <th>988</th>\n",
              "      <th>989</th>\n",
              "      <th>990</th>\n",
              "      <th>991</th>\n",
              "      <th>992</th>\n",
              "      <th>993</th>\n",
              "      <th>994</th>\n",
              "      <th>995</th>\n",
              "      <th>996</th>\n",
              "      <th>997</th>\n",
              "      <th>998</th>\n",
              "      <th>999</th>\n",
              "      <th>length_tweet</th>\n",
              "      <th>label</th>\n",
              "    </tr>\n",
              "  </thead>\n",
              "  <tbody>\n",
              "    <tr>\n",
              "      <th>0</th>\n",
              "      <td>0</td>\n",
              "      <td>0</td>\n",
              "      <td>0</td>\n",
              "      <td>0</td>\n",
              "      <td>0</td>\n",
              "      <td>0</td>\n",
              "      <td>0</td>\n",
              "      <td>0</td>\n",
              "      <td>0</td>\n",
              "      <td>0</td>\n",
              "      <td>0</td>\n",
              "      <td>0</td>\n",
              "      <td>0</td>\n",
              "      <td>0</td>\n",
              "      <td>0</td>\n",
              "      <td>0</td>\n",
              "      <td>0</td>\n",
              "      <td>0</td>\n",
              "      <td>0</td>\n",
              "      <td>0</td>\n",
              "      <td>0</td>\n",
              "      <td>0</td>\n",
              "      <td>0</td>\n",
              "      <td>0</td>\n",
              "      <td>0</td>\n",
              "      <td>0</td>\n",
              "      <td>0</td>\n",
              "      <td>0</td>\n",
              "      <td>0</td>\n",
              "      <td>0</td>\n",
              "      <td>0</td>\n",
              "      <td>0</td>\n",
              "      <td>0</td>\n",
              "      <td>0</td>\n",
              "      <td>0</td>\n",
              "      <td>0</td>\n",
              "      <td>0</td>\n",
              "      <td>0</td>\n",
              "      <td>0</td>\n",
              "      <td>0</td>\n",
              "      <td>...</td>\n",
              "      <td>0</td>\n",
              "      <td>0</td>\n",
              "      <td>0</td>\n",
              "      <td>0</td>\n",
              "      <td>0</td>\n",
              "      <td>0</td>\n",
              "      <td>0</td>\n",
              "      <td>0</td>\n",
              "      <td>0</td>\n",
              "      <td>0</td>\n",
              "      <td>0</td>\n",
              "      <td>0</td>\n",
              "      <td>0</td>\n",
              "      <td>0</td>\n",
              "      <td>0</td>\n",
              "      <td>0</td>\n",
              "      <td>0</td>\n",
              "      <td>0</td>\n",
              "      <td>0</td>\n",
              "      <td>0</td>\n",
              "      <td>0</td>\n",
              "      <td>0</td>\n",
              "      <td>0</td>\n",
              "      <td>0</td>\n",
              "      <td>0</td>\n",
              "      <td>0</td>\n",
              "      <td>0</td>\n",
              "      <td>0</td>\n",
              "      <td>0</td>\n",
              "      <td>0</td>\n",
              "      <td>0</td>\n",
              "      <td>0</td>\n",
              "      <td>0</td>\n",
              "      <td>0</td>\n",
              "      <td>0</td>\n",
              "      <td>0</td>\n",
              "      <td>0</td>\n",
              "      <td>0</td>\n",
              "      <td>46</td>\n",
              "      <td>0</td>\n",
              "    </tr>\n",
              "    <tr>\n",
              "      <th>1</th>\n",
              "      <td>0</td>\n",
              "      <td>0</td>\n",
              "      <td>0</td>\n",
              "      <td>0</td>\n",
              "      <td>0</td>\n",
              "      <td>0</td>\n",
              "      <td>0</td>\n",
              "      <td>0</td>\n",
              "      <td>0</td>\n",
              "      <td>0</td>\n",
              "      <td>0</td>\n",
              "      <td>0</td>\n",
              "      <td>0</td>\n",
              "      <td>0</td>\n",
              "      <td>0</td>\n",
              "      <td>0</td>\n",
              "      <td>0</td>\n",
              "      <td>0</td>\n",
              "      <td>0</td>\n",
              "      <td>0</td>\n",
              "      <td>0</td>\n",
              "      <td>0</td>\n",
              "      <td>0</td>\n",
              "      <td>0</td>\n",
              "      <td>0</td>\n",
              "      <td>0</td>\n",
              "      <td>0</td>\n",
              "      <td>0</td>\n",
              "      <td>0</td>\n",
              "      <td>0</td>\n",
              "      <td>0</td>\n",
              "      <td>0</td>\n",
              "      <td>0</td>\n",
              "      <td>0</td>\n",
              "      <td>0</td>\n",
              "      <td>0</td>\n",
              "      <td>0</td>\n",
              "      <td>0</td>\n",
              "      <td>0</td>\n",
              "      <td>0</td>\n",
              "      <td>...</td>\n",
              "      <td>0</td>\n",
              "      <td>0</td>\n",
              "      <td>0</td>\n",
              "      <td>0</td>\n",
              "      <td>0</td>\n",
              "      <td>0</td>\n",
              "      <td>0</td>\n",
              "      <td>0</td>\n",
              "      <td>0</td>\n",
              "      <td>0</td>\n",
              "      <td>0</td>\n",
              "      <td>0</td>\n",
              "      <td>0</td>\n",
              "      <td>0</td>\n",
              "      <td>0</td>\n",
              "      <td>0</td>\n",
              "      <td>0</td>\n",
              "      <td>0</td>\n",
              "      <td>0</td>\n",
              "      <td>0</td>\n",
              "      <td>0</td>\n",
              "      <td>0</td>\n",
              "      <td>0</td>\n",
              "      <td>0</td>\n",
              "      <td>0</td>\n",
              "      <td>0</td>\n",
              "      <td>0</td>\n",
              "      <td>0</td>\n",
              "      <td>0</td>\n",
              "      <td>0</td>\n",
              "      <td>0</td>\n",
              "      <td>0</td>\n",
              "      <td>0</td>\n",
              "      <td>0</td>\n",
              "      <td>0</td>\n",
              "      <td>0</td>\n",
              "      <td>0</td>\n",
              "      <td>0</td>\n",
              "      <td>73</td>\n",
              "      <td>0</td>\n",
              "    </tr>\n",
              "    <tr>\n",
              "      <th>2</th>\n",
              "      <td>0</td>\n",
              "      <td>0</td>\n",
              "      <td>0</td>\n",
              "      <td>0</td>\n",
              "      <td>0</td>\n",
              "      <td>0</td>\n",
              "      <td>0</td>\n",
              "      <td>0</td>\n",
              "      <td>0</td>\n",
              "      <td>0</td>\n",
              "      <td>0</td>\n",
              "      <td>0</td>\n",
              "      <td>0</td>\n",
              "      <td>0</td>\n",
              "      <td>0</td>\n",
              "      <td>0</td>\n",
              "      <td>0</td>\n",
              "      <td>0</td>\n",
              "      <td>0</td>\n",
              "      <td>0</td>\n",
              "      <td>0</td>\n",
              "      <td>0</td>\n",
              "      <td>0</td>\n",
              "      <td>0</td>\n",
              "      <td>0</td>\n",
              "      <td>0</td>\n",
              "      <td>0</td>\n",
              "      <td>0</td>\n",
              "      <td>0</td>\n",
              "      <td>0</td>\n",
              "      <td>0</td>\n",
              "      <td>0</td>\n",
              "      <td>0</td>\n",
              "      <td>0</td>\n",
              "      <td>0</td>\n",
              "      <td>0</td>\n",
              "      <td>0</td>\n",
              "      <td>0</td>\n",
              "      <td>0</td>\n",
              "      <td>0</td>\n",
              "      <td>...</td>\n",
              "      <td>0</td>\n",
              "      <td>0</td>\n",
              "      <td>0</td>\n",
              "      <td>0</td>\n",
              "      <td>0</td>\n",
              "      <td>0</td>\n",
              "      <td>0</td>\n",
              "      <td>0</td>\n",
              "      <td>0</td>\n",
              "      <td>0</td>\n",
              "      <td>0</td>\n",
              "      <td>0</td>\n",
              "      <td>0</td>\n",
              "      <td>0</td>\n",
              "      <td>0</td>\n",
              "      <td>0</td>\n",
              "      <td>0</td>\n",
              "      <td>0</td>\n",
              "      <td>0</td>\n",
              "      <td>0</td>\n",
              "      <td>0</td>\n",
              "      <td>0</td>\n",
              "      <td>0</td>\n",
              "      <td>0</td>\n",
              "      <td>0</td>\n",
              "      <td>0</td>\n",
              "      <td>0</td>\n",
              "      <td>0</td>\n",
              "      <td>0</td>\n",
              "      <td>0</td>\n",
              "      <td>0</td>\n",
              "      <td>0</td>\n",
              "      <td>0</td>\n",
              "      <td>0</td>\n",
              "      <td>0</td>\n",
              "      <td>0</td>\n",
              "      <td>0</td>\n",
              "      <td>0</td>\n",
              "      <td>14</td>\n",
              "      <td>0</td>\n",
              "    </tr>\n",
              "    <tr>\n",
              "      <th>3</th>\n",
              "      <td>0</td>\n",
              "      <td>0</td>\n",
              "      <td>0</td>\n",
              "      <td>0</td>\n",
              "      <td>0</td>\n",
              "      <td>0</td>\n",
              "      <td>0</td>\n",
              "      <td>0</td>\n",
              "      <td>0</td>\n",
              "      <td>0</td>\n",
              "      <td>0</td>\n",
              "      <td>0</td>\n",
              "      <td>0</td>\n",
              "      <td>0</td>\n",
              "      <td>0</td>\n",
              "      <td>0</td>\n",
              "      <td>0</td>\n",
              "      <td>0</td>\n",
              "      <td>0</td>\n",
              "      <td>0</td>\n",
              "      <td>0</td>\n",
              "      <td>0</td>\n",
              "      <td>0</td>\n",
              "      <td>0</td>\n",
              "      <td>0</td>\n",
              "      <td>0</td>\n",
              "      <td>0</td>\n",
              "      <td>0</td>\n",
              "      <td>0</td>\n",
              "      <td>0</td>\n",
              "      <td>0</td>\n",
              "      <td>0</td>\n",
              "      <td>0</td>\n",
              "      <td>0</td>\n",
              "      <td>0</td>\n",
              "      <td>0</td>\n",
              "      <td>0</td>\n",
              "      <td>0</td>\n",
              "      <td>0</td>\n",
              "      <td>0</td>\n",
              "      <td>...</td>\n",
              "      <td>0</td>\n",
              "      <td>0</td>\n",
              "      <td>0</td>\n",
              "      <td>0</td>\n",
              "      <td>0</td>\n",
              "      <td>0</td>\n",
              "      <td>0</td>\n",
              "      <td>0</td>\n",
              "      <td>0</td>\n",
              "      <td>0</td>\n",
              "      <td>0</td>\n",
              "      <td>0</td>\n",
              "      <td>0</td>\n",
              "      <td>0</td>\n",
              "      <td>0</td>\n",
              "      <td>0</td>\n",
              "      <td>0</td>\n",
              "      <td>0</td>\n",
              "      <td>0</td>\n",
              "      <td>0</td>\n",
              "      <td>0</td>\n",
              "      <td>0</td>\n",
              "      <td>0</td>\n",
              "      <td>0</td>\n",
              "      <td>0</td>\n",
              "      <td>0</td>\n",
              "      <td>0</td>\n",
              "      <td>0</td>\n",
              "      <td>0</td>\n",
              "      <td>0</td>\n",
              "      <td>0</td>\n",
              "      <td>0</td>\n",
              "      <td>0</td>\n",
              "      <td>0</td>\n",
              "      <td>0</td>\n",
              "      <td>0</td>\n",
              "      <td>0</td>\n",
              "      <td>0</td>\n",
              "      <td>28</td>\n",
              "      <td>0</td>\n",
              "    </tr>\n",
              "    <tr>\n",
              "      <th>4</th>\n",
              "      <td>0</td>\n",
              "      <td>0</td>\n",
              "      <td>0</td>\n",
              "      <td>0</td>\n",
              "      <td>0</td>\n",
              "      <td>0</td>\n",
              "      <td>0</td>\n",
              "      <td>0</td>\n",
              "      <td>0</td>\n",
              "      <td>0</td>\n",
              "      <td>0</td>\n",
              "      <td>0</td>\n",
              "      <td>0</td>\n",
              "      <td>0</td>\n",
              "      <td>0</td>\n",
              "      <td>0</td>\n",
              "      <td>0</td>\n",
              "      <td>0</td>\n",
              "      <td>0</td>\n",
              "      <td>0</td>\n",
              "      <td>0</td>\n",
              "      <td>0</td>\n",
              "      <td>0</td>\n",
              "      <td>0</td>\n",
              "      <td>0</td>\n",
              "      <td>0</td>\n",
              "      <td>0</td>\n",
              "      <td>0</td>\n",
              "      <td>0</td>\n",
              "      <td>0</td>\n",
              "      <td>0</td>\n",
              "      <td>0</td>\n",
              "      <td>0</td>\n",
              "      <td>0</td>\n",
              "      <td>0</td>\n",
              "      <td>0</td>\n",
              "      <td>0</td>\n",
              "      <td>0</td>\n",
              "      <td>0</td>\n",
              "      <td>0</td>\n",
              "      <td>...</td>\n",
              "      <td>0</td>\n",
              "      <td>0</td>\n",
              "      <td>0</td>\n",
              "      <td>0</td>\n",
              "      <td>0</td>\n",
              "      <td>0</td>\n",
              "      <td>0</td>\n",
              "      <td>0</td>\n",
              "      <td>0</td>\n",
              "      <td>0</td>\n",
              "      <td>0</td>\n",
              "      <td>0</td>\n",
              "      <td>0</td>\n",
              "      <td>0</td>\n",
              "      <td>0</td>\n",
              "      <td>0</td>\n",
              "      <td>0</td>\n",
              "      <td>0</td>\n",
              "      <td>0</td>\n",
              "      <td>0</td>\n",
              "      <td>0</td>\n",
              "      <td>0</td>\n",
              "      <td>0</td>\n",
              "      <td>0</td>\n",
              "      <td>0</td>\n",
              "      <td>0</td>\n",
              "      <td>0</td>\n",
              "      <td>0</td>\n",
              "      <td>0</td>\n",
              "      <td>0</td>\n",
              "      <td>0</td>\n",
              "      <td>0</td>\n",
              "      <td>0</td>\n",
              "      <td>0</td>\n",
              "      <td>0</td>\n",
              "      <td>0</td>\n",
              "      <td>0</td>\n",
              "      <td>0</td>\n",
              "      <td>24</td>\n",
              "      <td>0</td>\n",
              "    </tr>\n",
              "  </tbody>\n",
              "</table>\n",
              "<p>5 rows × 1002 columns</p>\n",
              "</div>"
            ],
            "text/plain": [
              "   0  1  2  3  4  5  6  7  ...  994  995  996  997  998  999  length_tweet  label\n",
              "0  0  0  0  0  0  0  0  0  ...    0    0    0    0    0    0            46      0\n",
              "1  0  0  0  0  0  0  0  0  ...    0    0    0    0    0    0            73      0\n",
              "2  0  0  0  0  0  0  0  0  ...    0    0    0    0    0    0            14      0\n",
              "3  0  0  0  0  0  0  0  0  ...    0    0    0    0    0    0            28      0\n",
              "4  0  0  0  0  0  0  0  0  ...    0    0    0    0    0    0            24      0\n",
              "\n",
              "[5 rows x 1002 columns]"
            ]
          },
          "metadata": {
            "tags": []
          },
          "execution_count": 18
        }
      ]
    },
    {
      "cell_type": "markdown",
      "metadata": {
        "id": "snfas7BtthC3",
        "colab_type": "text"
      },
      "source": [
        "### TF-IDF Features (Bi-Grams)"
      ]
    },
    {
      "cell_type": "code",
      "metadata": {
        "id": "tI0wLzBwcjHx",
        "colab_type": "code",
        "colab": {
          "base_uri": "https://localhost:8080/",
          "height": 292
        },
        "outputId": "2133775c-e73f-41d9-b711-4b111ba8e9ec"
      },
      "source": [
        "tfidf=TfidfVectorizer(ngram_range=(1, 2),min_df=2,max_features=1000)\n",
        "tfidf.fit(df['preprocess_tweet'])\n",
        "tfidf_df=tfidf.transform(df['preprocess_tweet']).toarray()\n",
        "print('number of uniqe words',bow_df.shape[1])\n",
        "print('shape',tfidf_df.shape)\n",
        "tfidf_train=pd.DataFrame(tfidf_df)\n",
        "tfidf_train['length_tweet']=df['length_tweet']\n",
        "tfidf_train['label']=df['label']\n",
        "tfidf_train.head()"
      ],
      "execution_count": 19,
      "outputs": [
        {
          "output_type": "stream",
          "text": [
            "number of uniqe words 1000\n",
            "shape (31962, 1000)\n"
          ],
          "name": "stdout"
        },
        {
          "output_type": "execute_result",
          "data": {
            "text/html": [
              "<div>\n",
              "<style scoped>\n",
              "    .dataframe tbody tr th:only-of-type {\n",
              "        vertical-align: middle;\n",
              "    }\n",
              "\n",
              "    .dataframe tbody tr th {\n",
              "        vertical-align: top;\n",
              "    }\n",
              "\n",
              "    .dataframe thead th {\n",
              "        text-align: right;\n",
              "    }\n",
              "</style>\n",
              "<table border=\"1\" class=\"dataframe\">\n",
              "  <thead>\n",
              "    <tr style=\"text-align: right;\">\n",
              "      <th></th>\n",
              "      <th>0</th>\n",
              "      <th>1</th>\n",
              "      <th>2</th>\n",
              "      <th>3</th>\n",
              "      <th>4</th>\n",
              "      <th>5</th>\n",
              "      <th>6</th>\n",
              "      <th>7</th>\n",
              "      <th>8</th>\n",
              "      <th>9</th>\n",
              "      <th>10</th>\n",
              "      <th>11</th>\n",
              "      <th>12</th>\n",
              "      <th>13</th>\n",
              "      <th>14</th>\n",
              "      <th>15</th>\n",
              "      <th>16</th>\n",
              "      <th>17</th>\n",
              "      <th>18</th>\n",
              "      <th>19</th>\n",
              "      <th>20</th>\n",
              "      <th>21</th>\n",
              "      <th>22</th>\n",
              "      <th>23</th>\n",
              "      <th>24</th>\n",
              "      <th>25</th>\n",
              "      <th>26</th>\n",
              "      <th>27</th>\n",
              "      <th>28</th>\n",
              "      <th>29</th>\n",
              "      <th>30</th>\n",
              "      <th>31</th>\n",
              "      <th>32</th>\n",
              "      <th>33</th>\n",
              "      <th>34</th>\n",
              "      <th>35</th>\n",
              "      <th>36</th>\n",
              "      <th>37</th>\n",
              "      <th>38</th>\n",
              "      <th>39</th>\n",
              "      <th>...</th>\n",
              "      <th>962</th>\n",
              "      <th>963</th>\n",
              "      <th>964</th>\n",
              "      <th>965</th>\n",
              "      <th>966</th>\n",
              "      <th>967</th>\n",
              "      <th>968</th>\n",
              "      <th>969</th>\n",
              "      <th>970</th>\n",
              "      <th>971</th>\n",
              "      <th>972</th>\n",
              "      <th>973</th>\n",
              "      <th>974</th>\n",
              "      <th>975</th>\n",
              "      <th>976</th>\n",
              "      <th>977</th>\n",
              "      <th>978</th>\n",
              "      <th>979</th>\n",
              "      <th>980</th>\n",
              "      <th>981</th>\n",
              "      <th>982</th>\n",
              "      <th>983</th>\n",
              "      <th>984</th>\n",
              "      <th>985</th>\n",
              "      <th>986</th>\n",
              "      <th>987</th>\n",
              "      <th>988</th>\n",
              "      <th>989</th>\n",
              "      <th>990</th>\n",
              "      <th>991</th>\n",
              "      <th>992</th>\n",
              "      <th>993</th>\n",
              "      <th>994</th>\n",
              "      <th>995</th>\n",
              "      <th>996</th>\n",
              "      <th>997</th>\n",
              "      <th>998</th>\n",
              "      <th>999</th>\n",
              "      <th>length_tweet</th>\n",
              "      <th>label</th>\n",
              "    </tr>\n",
              "  </thead>\n",
              "  <tbody>\n",
              "    <tr>\n",
              "      <th>0</th>\n",
              "      <td>0.0</td>\n",
              "      <td>0.0</td>\n",
              "      <td>0.0</td>\n",
              "      <td>0.0</td>\n",
              "      <td>0.0</td>\n",
              "      <td>0.0</td>\n",
              "      <td>0.0</td>\n",
              "      <td>0.0</td>\n",
              "      <td>0.0</td>\n",
              "      <td>0.0</td>\n",
              "      <td>0.0</td>\n",
              "      <td>0.0</td>\n",
              "      <td>0.0</td>\n",
              "      <td>0.0</td>\n",
              "      <td>0.0</td>\n",
              "      <td>0.0</td>\n",
              "      <td>0.0</td>\n",
              "      <td>0.0</td>\n",
              "      <td>0.0</td>\n",
              "      <td>0.0</td>\n",
              "      <td>0.0</td>\n",
              "      <td>0.0</td>\n",
              "      <td>0.0</td>\n",
              "      <td>0.0</td>\n",
              "      <td>0.0</td>\n",
              "      <td>0.0</td>\n",
              "      <td>0.0</td>\n",
              "      <td>0.0</td>\n",
              "      <td>0.0</td>\n",
              "      <td>0.0</td>\n",
              "      <td>0.0</td>\n",
              "      <td>0.0</td>\n",
              "      <td>0.0</td>\n",
              "      <td>0.0</td>\n",
              "      <td>0.0</td>\n",
              "      <td>0.0</td>\n",
              "      <td>0.0</td>\n",
              "      <td>0.0</td>\n",
              "      <td>0.0</td>\n",
              "      <td>0.0</td>\n",
              "      <td>...</td>\n",
              "      <td>0.0</td>\n",
              "      <td>0.0</td>\n",
              "      <td>0.0</td>\n",
              "      <td>0.0</td>\n",
              "      <td>0.0</td>\n",
              "      <td>0.0</td>\n",
              "      <td>0.0</td>\n",
              "      <td>0.0</td>\n",
              "      <td>0.0</td>\n",
              "      <td>0.0</td>\n",
              "      <td>0.0</td>\n",
              "      <td>0.0</td>\n",
              "      <td>0.0</td>\n",
              "      <td>0.0</td>\n",
              "      <td>0.0</td>\n",
              "      <td>0.0</td>\n",
              "      <td>0.0</td>\n",
              "      <td>0.0</td>\n",
              "      <td>0.0</td>\n",
              "      <td>0.0</td>\n",
              "      <td>0.0</td>\n",
              "      <td>0.0</td>\n",
              "      <td>0.0</td>\n",
              "      <td>0.0</td>\n",
              "      <td>0.0</td>\n",
              "      <td>0.0</td>\n",
              "      <td>0.0</td>\n",
              "      <td>0.0</td>\n",
              "      <td>0.0</td>\n",
              "      <td>0.0</td>\n",
              "      <td>0.0</td>\n",
              "      <td>0.0</td>\n",
              "      <td>0.0</td>\n",
              "      <td>0.0</td>\n",
              "      <td>0.0</td>\n",
              "      <td>0.0</td>\n",
              "      <td>0.0</td>\n",
              "      <td>0.0</td>\n",
              "      <td>46</td>\n",
              "      <td>0</td>\n",
              "    </tr>\n",
              "    <tr>\n",
              "      <th>1</th>\n",
              "      <td>0.0</td>\n",
              "      <td>0.0</td>\n",
              "      <td>0.0</td>\n",
              "      <td>0.0</td>\n",
              "      <td>0.0</td>\n",
              "      <td>0.0</td>\n",
              "      <td>0.0</td>\n",
              "      <td>0.0</td>\n",
              "      <td>0.0</td>\n",
              "      <td>0.0</td>\n",
              "      <td>0.0</td>\n",
              "      <td>0.0</td>\n",
              "      <td>0.0</td>\n",
              "      <td>0.0</td>\n",
              "      <td>0.0</td>\n",
              "      <td>0.0</td>\n",
              "      <td>0.0</td>\n",
              "      <td>0.0</td>\n",
              "      <td>0.0</td>\n",
              "      <td>0.0</td>\n",
              "      <td>0.0</td>\n",
              "      <td>0.0</td>\n",
              "      <td>0.0</td>\n",
              "      <td>0.0</td>\n",
              "      <td>0.0</td>\n",
              "      <td>0.0</td>\n",
              "      <td>0.0</td>\n",
              "      <td>0.0</td>\n",
              "      <td>0.0</td>\n",
              "      <td>0.0</td>\n",
              "      <td>0.0</td>\n",
              "      <td>0.0</td>\n",
              "      <td>0.0</td>\n",
              "      <td>0.0</td>\n",
              "      <td>0.0</td>\n",
              "      <td>0.0</td>\n",
              "      <td>0.0</td>\n",
              "      <td>0.0</td>\n",
              "      <td>0.0</td>\n",
              "      <td>0.0</td>\n",
              "      <td>...</td>\n",
              "      <td>0.0</td>\n",
              "      <td>0.0</td>\n",
              "      <td>0.0</td>\n",
              "      <td>0.0</td>\n",
              "      <td>0.0</td>\n",
              "      <td>0.0</td>\n",
              "      <td>0.0</td>\n",
              "      <td>0.0</td>\n",
              "      <td>0.0</td>\n",
              "      <td>0.0</td>\n",
              "      <td>0.0</td>\n",
              "      <td>0.0</td>\n",
              "      <td>0.0</td>\n",
              "      <td>0.0</td>\n",
              "      <td>0.0</td>\n",
              "      <td>0.0</td>\n",
              "      <td>0.0</td>\n",
              "      <td>0.0</td>\n",
              "      <td>0.0</td>\n",
              "      <td>0.0</td>\n",
              "      <td>0.0</td>\n",
              "      <td>0.0</td>\n",
              "      <td>0.0</td>\n",
              "      <td>0.0</td>\n",
              "      <td>0.0</td>\n",
              "      <td>0.0</td>\n",
              "      <td>0.0</td>\n",
              "      <td>0.0</td>\n",
              "      <td>0.0</td>\n",
              "      <td>0.0</td>\n",
              "      <td>0.0</td>\n",
              "      <td>0.0</td>\n",
              "      <td>0.0</td>\n",
              "      <td>0.0</td>\n",
              "      <td>0.0</td>\n",
              "      <td>0.0</td>\n",
              "      <td>0.0</td>\n",
              "      <td>0.0</td>\n",
              "      <td>73</td>\n",
              "      <td>0</td>\n",
              "    </tr>\n",
              "    <tr>\n",
              "      <th>2</th>\n",
              "      <td>0.0</td>\n",
              "      <td>0.0</td>\n",
              "      <td>0.0</td>\n",
              "      <td>0.0</td>\n",
              "      <td>0.0</td>\n",
              "      <td>0.0</td>\n",
              "      <td>0.0</td>\n",
              "      <td>0.0</td>\n",
              "      <td>0.0</td>\n",
              "      <td>0.0</td>\n",
              "      <td>0.0</td>\n",
              "      <td>0.0</td>\n",
              "      <td>0.0</td>\n",
              "      <td>0.0</td>\n",
              "      <td>0.0</td>\n",
              "      <td>0.0</td>\n",
              "      <td>0.0</td>\n",
              "      <td>0.0</td>\n",
              "      <td>0.0</td>\n",
              "      <td>0.0</td>\n",
              "      <td>0.0</td>\n",
              "      <td>0.0</td>\n",
              "      <td>0.0</td>\n",
              "      <td>0.0</td>\n",
              "      <td>0.0</td>\n",
              "      <td>0.0</td>\n",
              "      <td>0.0</td>\n",
              "      <td>0.0</td>\n",
              "      <td>0.0</td>\n",
              "      <td>0.0</td>\n",
              "      <td>0.0</td>\n",
              "      <td>0.0</td>\n",
              "      <td>0.0</td>\n",
              "      <td>0.0</td>\n",
              "      <td>0.0</td>\n",
              "      <td>0.0</td>\n",
              "      <td>0.0</td>\n",
              "      <td>0.0</td>\n",
              "      <td>0.0</td>\n",
              "      <td>0.0</td>\n",
              "      <td>...</td>\n",
              "      <td>0.0</td>\n",
              "      <td>0.0</td>\n",
              "      <td>0.0</td>\n",
              "      <td>0.0</td>\n",
              "      <td>0.0</td>\n",
              "      <td>0.0</td>\n",
              "      <td>0.0</td>\n",
              "      <td>0.0</td>\n",
              "      <td>0.0</td>\n",
              "      <td>0.0</td>\n",
              "      <td>0.0</td>\n",
              "      <td>0.0</td>\n",
              "      <td>0.0</td>\n",
              "      <td>0.0</td>\n",
              "      <td>0.0</td>\n",
              "      <td>0.0</td>\n",
              "      <td>0.0</td>\n",
              "      <td>0.0</td>\n",
              "      <td>0.0</td>\n",
              "      <td>0.0</td>\n",
              "      <td>0.0</td>\n",
              "      <td>0.0</td>\n",
              "      <td>0.0</td>\n",
              "      <td>0.0</td>\n",
              "      <td>0.0</td>\n",
              "      <td>0.0</td>\n",
              "      <td>0.0</td>\n",
              "      <td>0.0</td>\n",
              "      <td>0.0</td>\n",
              "      <td>0.0</td>\n",
              "      <td>0.0</td>\n",
              "      <td>0.0</td>\n",
              "      <td>0.0</td>\n",
              "      <td>0.0</td>\n",
              "      <td>0.0</td>\n",
              "      <td>0.0</td>\n",
              "      <td>0.0</td>\n",
              "      <td>0.0</td>\n",
              "      <td>14</td>\n",
              "      <td>0</td>\n",
              "    </tr>\n",
              "    <tr>\n",
              "      <th>3</th>\n",
              "      <td>0.0</td>\n",
              "      <td>0.0</td>\n",
              "      <td>0.0</td>\n",
              "      <td>0.0</td>\n",
              "      <td>0.0</td>\n",
              "      <td>0.0</td>\n",
              "      <td>0.0</td>\n",
              "      <td>0.0</td>\n",
              "      <td>0.0</td>\n",
              "      <td>0.0</td>\n",
              "      <td>0.0</td>\n",
              "      <td>0.0</td>\n",
              "      <td>0.0</td>\n",
              "      <td>0.0</td>\n",
              "      <td>0.0</td>\n",
              "      <td>0.0</td>\n",
              "      <td>0.0</td>\n",
              "      <td>0.0</td>\n",
              "      <td>0.0</td>\n",
              "      <td>0.0</td>\n",
              "      <td>0.0</td>\n",
              "      <td>0.0</td>\n",
              "      <td>0.0</td>\n",
              "      <td>0.0</td>\n",
              "      <td>0.0</td>\n",
              "      <td>0.0</td>\n",
              "      <td>0.0</td>\n",
              "      <td>0.0</td>\n",
              "      <td>0.0</td>\n",
              "      <td>0.0</td>\n",
              "      <td>0.0</td>\n",
              "      <td>0.0</td>\n",
              "      <td>0.0</td>\n",
              "      <td>0.0</td>\n",
              "      <td>0.0</td>\n",
              "      <td>0.0</td>\n",
              "      <td>0.0</td>\n",
              "      <td>0.0</td>\n",
              "      <td>0.0</td>\n",
              "      <td>0.0</td>\n",
              "      <td>...</td>\n",
              "      <td>0.0</td>\n",
              "      <td>0.0</td>\n",
              "      <td>0.0</td>\n",
              "      <td>0.0</td>\n",
              "      <td>0.0</td>\n",
              "      <td>0.0</td>\n",
              "      <td>0.0</td>\n",
              "      <td>0.0</td>\n",
              "      <td>0.0</td>\n",
              "      <td>0.0</td>\n",
              "      <td>0.0</td>\n",
              "      <td>0.0</td>\n",
              "      <td>0.0</td>\n",
              "      <td>0.0</td>\n",
              "      <td>0.0</td>\n",
              "      <td>0.0</td>\n",
              "      <td>0.0</td>\n",
              "      <td>0.0</td>\n",
              "      <td>0.0</td>\n",
              "      <td>0.0</td>\n",
              "      <td>0.0</td>\n",
              "      <td>0.0</td>\n",
              "      <td>0.0</td>\n",
              "      <td>0.0</td>\n",
              "      <td>0.0</td>\n",
              "      <td>0.0</td>\n",
              "      <td>0.0</td>\n",
              "      <td>0.0</td>\n",
              "      <td>0.0</td>\n",
              "      <td>0.0</td>\n",
              "      <td>0.0</td>\n",
              "      <td>0.0</td>\n",
              "      <td>0.0</td>\n",
              "      <td>0.0</td>\n",
              "      <td>0.0</td>\n",
              "      <td>0.0</td>\n",
              "      <td>0.0</td>\n",
              "      <td>0.0</td>\n",
              "      <td>28</td>\n",
              "      <td>0</td>\n",
              "    </tr>\n",
              "    <tr>\n",
              "      <th>4</th>\n",
              "      <td>0.0</td>\n",
              "      <td>0.0</td>\n",
              "      <td>0.0</td>\n",
              "      <td>0.0</td>\n",
              "      <td>0.0</td>\n",
              "      <td>0.0</td>\n",
              "      <td>0.0</td>\n",
              "      <td>0.0</td>\n",
              "      <td>0.0</td>\n",
              "      <td>0.0</td>\n",
              "      <td>0.0</td>\n",
              "      <td>0.0</td>\n",
              "      <td>0.0</td>\n",
              "      <td>0.0</td>\n",
              "      <td>0.0</td>\n",
              "      <td>0.0</td>\n",
              "      <td>0.0</td>\n",
              "      <td>0.0</td>\n",
              "      <td>0.0</td>\n",
              "      <td>0.0</td>\n",
              "      <td>0.0</td>\n",
              "      <td>0.0</td>\n",
              "      <td>0.0</td>\n",
              "      <td>0.0</td>\n",
              "      <td>0.0</td>\n",
              "      <td>0.0</td>\n",
              "      <td>0.0</td>\n",
              "      <td>0.0</td>\n",
              "      <td>0.0</td>\n",
              "      <td>0.0</td>\n",
              "      <td>0.0</td>\n",
              "      <td>0.0</td>\n",
              "      <td>0.0</td>\n",
              "      <td>0.0</td>\n",
              "      <td>0.0</td>\n",
              "      <td>0.0</td>\n",
              "      <td>0.0</td>\n",
              "      <td>0.0</td>\n",
              "      <td>0.0</td>\n",
              "      <td>0.0</td>\n",
              "      <td>...</td>\n",
              "      <td>0.0</td>\n",
              "      <td>0.0</td>\n",
              "      <td>0.0</td>\n",
              "      <td>0.0</td>\n",
              "      <td>0.0</td>\n",
              "      <td>0.0</td>\n",
              "      <td>0.0</td>\n",
              "      <td>0.0</td>\n",
              "      <td>0.0</td>\n",
              "      <td>0.0</td>\n",
              "      <td>0.0</td>\n",
              "      <td>0.0</td>\n",
              "      <td>0.0</td>\n",
              "      <td>0.0</td>\n",
              "      <td>0.0</td>\n",
              "      <td>0.0</td>\n",
              "      <td>0.0</td>\n",
              "      <td>0.0</td>\n",
              "      <td>0.0</td>\n",
              "      <td>0.0</td>\n",
              "      <td>0.0</td>\n",
              "      <td>0.0</td>\n",
              "      <td>0.0</td>\n",
              "      <td>0.0</td>\n",
              "      <td>0.0</td>\n",
              "      <td>0.0</td>\n",
              "      <td>0.0</td>\n",
              "      <td>0.0</td>\n",
              "      <td>0.0</td>\n",
              "      <td>0.0</td>\n",
              "      <td>0.0</td>\n",
              "      <td>0.0</td>\n",
              "      <td>0.0</td>\n",
              "      <td>0.0</td>\n",
              "      <td>0.0</td>\n",
              "      <td>0.0</td>\n",
              "      <td>0.0</td>\n",
              "      <td>0.0</td>\n",
              "      <td>24</td>\n",
              "      <td>0</td>\n",
              "    </tr>\n",
              "  </tbody>\n",
              "</table>\n",
              "<p>5 rows × 1002 columns</p>\n",
              "</div>"
            ],
            "text/plain": [
              "     0    1    2    3    4    5  ...  996  997  998  999  length_tweet  label\n",
              "0  0.0  0.0  0.0  0.0  0.0  0.0  ...  0.0  0.0  0.0  0.0            46      0\n",
              "1  0.0  0.0  0.0  0.0  0.0  0.0  ...  0.0  0.0  0.0  0.0            73      0\n",
              "2  0.0  0.0  0.0  0.0  0.0  0.0  ...  0.0  0.0  0.0  0.0            14      0\n",
              "3  0.0  0.0  0.0  0.0  0.0  0.0  ...  0.0  0.0  0.0  0.0            28      0\n",
              "4  0.0  0.0  0.0  0.0  0.0  0.0  ...  0.0  0.0  0.0  0.0            24      0\n",
              "\n",
              "[5 rows x 1002 columns]"
            ]
          },
          "metadata": {
            "tags": []
          },
          "execution_count": 19
        }
      ]
    },
    {
      "cell_type": "markdown",
      "metadata": {
        "id": "vVnvNDOSwkNw",
        "colab_type": "text"
      },
      "source": [
        "###Word2vec\n",
        "__size:__ The number of dimensions of the embeddings and the default is 100.\n",
        "\n",
        "__window:__ The maximum distance between a target word and words around the target word. The default window is 5.\n",
        "\n",
        "__min_count:__ The minimum count of words to consider when training the model; words with occurrence less than this count will be ignored. The default for min_count is 5.\n",
        "\n",
        "__workers:__ The number of partitions during training and the default workers is 3.\n",
        "\n",
        "__sg:__ The training algorithm, either CBOW(0) or skip gram(1). The default training algorithm is CBOW."
      ]
    },
    {
      "cell_type": "code",
      "metadata": {
        "id": "ktHTDqEUxvOd",
        "colab_type": "code",
        "colab": {
          "base_uri": "https://localhost:8080/",
          "height": 35
        },
        "outputId": "13b593cd-001a-400f-9d58-189a21c09391"
      },
      "source": [
        "tokenize=df['preprocess_tweet'].apply(lambda x: x.split())\n",
        "w2vec_model=gensim.models.Word2Vec(tokenize,min_count = 1, size = 100, window = 5, sg = 1)\n",
        "w2vec_model.train(tokenize,total_examples= len(df['preprocess_tweet']),epochs=20)"
      ],
      "execution_count": 20,
      "outputs": [
        {
          "output_type": "execute_result",
          "data": {
            "text/plain": [
              "(4814805, 5011220)"
            ]
          },
          "metadata": {
            "tags": []
          },
          "execution_count": 20
        }
      ]
    },
    {
      "cell_type": "code",
      "metadata": {
        "id": "irG-nBTh5yvX",
        "colab_type": "code",
        "colab": {
          "base_uri": "https://localhost:8080/",
          "height": 201
        },
        "outputId": "2dc9e2b2-4fae-4ace-82b2-df43911f5426"
      },
      "source": [
        "w2vec_model.most_similar('father')"
      ],
      "execution_count": 21,
      "outputs": [
        {
          "output_type": "execute_result",
          "data": {
            "text/plain": [
              "[('#fathersday', 0.7955729961395264),\n",
              " ('dad', 0.7825347781181335),\n",
              " ('#father', 0.755081295967102),\n",
              " ('fathersday', 0.732908308506012),\n",
              " ('papa', 0.713297426700592),\n",
              " ('#dad', 0.7117035388946533),\n",
              " ('#daddi', 0.7028311491012573),\n",
              " ('#clapton', 0.6992714405059814),\n",
              " ('day#', 0.6938574314117432),\n",
              " ('#hackney', 0.6931199431419373)]"
            ]
          },
          "metadata": {
            "tags": []
          },
          "execution_count": 21
        }
      ]
    },
    {
      "cell_type": "code",
      "metadata": {
        "id": "JY1phcBQ9H09",
        "colab_type": "code",
        "colab": {
          "base_uri": "https://localhost:8080/",
          "height": 74
        },
        "outputId": "73e5aca3-49a4-4c3e-adcd-96f19f71ad67"
      },
      "source": [
        "w2v_words = list(w2vec_model.wv.vocab)\n",
        "print(\"number of words that occured minimum 5 times \",len(w2v_words))\n",
        "print(\"sample words \", w2v_words[0:50])"
      ],
      "execution_count": 22,
      "outputs": [
        {
          "output_type": "stream",
          "text": [
            "number of words that occured minimum 5 times  36842\n",
            "sample words  ['father', 'dysfunct', 'selfish', 'drag', 'kid', '#run', 'thank', '#lyft', 'credit', 'use', 'caus', 'offer', 'wheelchair', 'van', 'pdx', '#disapoint', '#getthank', 'bihday', 'majesti', '#model', 'love', 'u', 'take', 'time', 'ur', 'factsguid', 'societi', '#motiv', 'huge', 'fan', 'fare', 'big', 'talk', 'leav', 'chao', 'pay', 'disput', 'get', '#allshowandnogo', 'camp', 'tomorrow', 'danni', 'next', 'school', 'year', 'exam', 'think', '#school', '#exam', '#hate']\n"
          ],
          "name": "stdout"
        }
      ]
    },
    {
      "cell_type": "code",
      "metadata": {
        "id": "tO9YiOU19HyJ",
        "colab_type": "code",
        "colab": {
          "base_uri": "https://localhost:8080/",
          "height": 72
        },
        "outputId": "a95a99a1-a5b6-4127-d1de-ef6340049ddb"
      },
      "source": [
        "vector=[]\n",
        "from tqdm import tqdm\n",
        "for sent in tqdm(tokenize):\n",
        "  sent_vec=np.zeros(100)\n",
        "  count =0\n",
        "  for word in sent: \n",
        "    if word in w2v_words:\n",
        "      vec = w2vec_model.wv[word]\n",
        "      sent_vec += vec \n",
        "      count += 1\n",
        "  if count != 0:\n",
        "    sent_vec /= count #normalize\n",
        "  vector.append(sent_vec)\n",
        "print(len(vector))\n",
        "print(len(vector[0]))        "
      ],
      "execution_count": 23,
      "outputs": [
        {
          "output_type": "stream",
          "text": [
            "100%|██████████| 31962/31962 [00:27<00:00, 1171.18it/s]"
          ],
          "name": "stderr"
        },
        {
          "output_type": "stream",
          "text": [
            "31962\n",
            "100\n"
          ],
          "name": "stdout"
        },
        {
          "output_type": "stream",
          "text": [
            "\n"
          ],
          "name": "stderr"
        }
      ]
    },
    {
      "cell_type": "code",
      "metadata": {
        "id": "8dnm7AIHQZV0",
        "colab_type": "code",
        "colab": {
          "base_uri": "https://localhost:8080/",
          "height": 476
        },
        "outputId": "d54af995-ba35-45e6-d5de-691deff1267d"
      },
      "source": [
        "#example\n",
        "l='father dysfunct selfish drag kid dysfunct'\n",
        "count=0\n",
        "vcc=np.zeros(100)\n",
        "for word in l:\n",
        "  if word in w2v_words:\n",
        "    v=w2vec_model.wv[word]\n",
        "    vcc+=v\n",
        "    count+=1\n",
        "vcc"
      ],
      "execution_count": 24,
      "outputs": [
        {
          "output_type": "execute_result",
          "data": {
            "text/plain": [
              "array([-14.01306087,   1.68960865,  -9.6688134 ,  -0.79945426,\n",
              "        -4.32031102,   1.13948869,  -9.15959865,  -1.53612507,\n",
              "        12.85300905,  -2.50109439, -21.55385613,  -1.46691304,\n",
              "        10.29535834,   1.18136305,   1.07094801,  -6.16914511,\n",
              "        12.82774605,  -0.36617972,   9.11416884,  11.40495959,\n",
              "        12.17745749,   8.51934207,  11.37620583,  -0.05332977,\n",
              "        10.01333436,  -7.59717691,  -2.60241546, -18.08020302,\n",
              "        12.62411554,  -2.09437254,   3.87509414,  -0.30185577,\n",
              "         0.25782927,  -4.01626634,  -7.72648367,   4.53105583,\n",
              "       -21.18498206,   1.34226128,  -2.68843705,   7.10924396,\n",
              "         5.60346666,   0.36707982,   2.97465551,   9.52108746,\n",
              "        13.15729664,  -1.01519357,  -1.49408339,  -2.0938724 ,\n",
              "        -2.86806445,  -1.95933458,   8.97184869,  -1.87315788,\n",
              "        -0.38660387,   4.57955649,  15.18131525,   0.9001895 ,\n",
              "         1.73643552,  11.0177561 ,  -2.08726924,   8.85219911,\n",
              "       -13.69311786, -11.13942399,  -5.11790008, -11.37195536,\n",
              "        -4.79717983,   6.02573943,   8.04453691, -13.19675324,\n",
              "        -2.92321218,  -4.422888  ,  17.37340798, -10.49725864,\n",
              "        -2.59364561,   1.22529802,  -0.35115841, -10.38487034,\n",
              "        12.30520896,  10.56760823,  -5.67982242,  -1.75651448,\n",
              "         2.35517376,   4.52759416,  -1.00596973,   3.26946097,\n",
              "        12.67021904,  10.47282755,  -4.29207732,  -5.26099984,\n",
              "        11.1367102 ,   3.73738472,   8.44144322,   7.89173527,\n",
              "         5.54781433,   3.04476955,  -3.81837019,  -9.85685969,\n",
              "         2.60863418,  15.62171284,  -2.92909081,  -0.92265277])"
            ]
          },
          "metadata": {
            "tags": []
          },
          "execution_count": 24
        }
      ]
    },
    {
      "cell_type": "code",
      "metadata": {
        "id": "PqDCPRDIOmYT",
        "colab_type": "code",
        "colab": {
          "base_uri": "https://localhost:8080/",
          "height": 274
        },
        "outputId": "b2e30105-0a38-476e-9dbc-d123c0043291"
      },
      "source": [
        "\n",
        "print('number of uniqe words',len(vector[1]))\n",
        "w2v_train=pd.DataFrame(vector)\n",
        "w2v_train['length_tweet']=df['length_tweet']\n",
        "w2v_train['label']=df['label']\n",
        "w2v_train.head()"
      ],
      "execution_count": 25,
      "outputs": [
        {
          "output_type": "stream",
          "text": [
            "number of uniqe words 100\n"
          ],
          "name": "stdout"
        },
        {
          "output_type": "execute_result",
          "data": {
            "text/html": [
              "<div>\n",
              "<style scoped>\n",
              "    .dataframe tbody tr th:only-of-type {\n",
              "        vertical-align: middle;\n",
              "    }\n",
              "\n",
              "    .dataframe tbody tr th {\n",
              "        vertical-align: top;\n",
              "    }\n",
              "\n",
              "    .dataframe thead th {\n",
              "        text-align: right;\n",
              "    }\n",
              "</style>\n",
              "<table border=\"1\" class=\"dataframe\">\n",
              "  <thead>\n",
              "    <tr style=\"text-align: right;\">\n",
              "      <th></th>\n",
              "      <th>0</th>\n",
              "      <th>1</th>\n",
              "      <th>2</th>\n",
              "      <th>3</th>\n",
              "      <th>4</th>\n",
              "      <th>5</th>\n",
              "      <th>6</th>\n",
              "      <th>7</th>\n",
              "      <th>8</th>\n",
              "      <th>9</th>\n",
              "      <th>10</th>\n",
              "      <th>11</th>\n",
              "      <th>12</th>\n",
              "      <th>13</th>\n",
              "      <th>14</th>\n",
              "      <th>15</th>\n",
              "      <th>16</th>\n",
              "      <th>17</th>\n",
              "      <th>18</th>\n",
              "      <th>19</th>\n",
              "      <th>20</th>\n",
              "      <th>21</th>\n",
              "      <th>22</th>\n",
              "      <th>23</th>\n",
              "      <th>24</th>\n",
              "      <th>25</th>\n",
              "      <th>26</th>\n",
              "      <th>27</th>\n",
              "      <th>28</th>\n",
              "      <th>29</th>\n",
              "      <th>30</th>\n",
              "      <th>31</th>\n",
              "      <th>32</th>\n",
              "      <th>33</th>\n",
              "      <th>34</th>\n",
              "      <th>35</th>\n",
              "      <th>36</th>\n",
              "      <th>37</th>\n",
              "      <th>38</th>\n",
              "      <th>39</th>\n",
              "      <th>...</th>\n",
              "      <th>62</th>\n",
              "      <th>63</th>\n",
              "      <th>64</th>\n",
              "      <th>65</th>\n",
              "      <th>66</th>\n",
              "      <th>67</th>\n",
              "      <th>68</th>\n",
              "      <th>69</th>\n",
              "      <th>70</th>\n",
              "      <th>71</th>\n",
              "      <th>72</th>\n",
              "      <th>73</th>\n",
              "      <th>74</th>\n",
              "      <th>75</th>\n",
              "      <th>76</th>\n",
              "      <th>77</th>\n",
              "      <th>78</th>\n",
              "      <th>79</th>\n",
              "      <th>80</th>\n",
              "      <th>81</th>\n",
              "      <th>82</th>\n",
              "      <th>83</th>\n",
              "      <th>84</th>\n",
              "      <th>85</th>\n",
              "      <th>86</th>\n",
              "      <th>87</th>\n",
              "      <th>88</th>\n",
              "      <th>89</th>\n",
              "      <th>90</th>\n",
              "      <th>91</th>\n",
              "      <th>92</th>\n",
              "      <th>93</th>\n",
              "      <th>94</th>\n",
              "      <th>95</th>\n",
              "      <th>96</th>\n",
              "      <th>97</th>\n",
              "      <th>98</th>\n",
              "      <th>99</th>\n",
              "      <th>length_tweet</th>\n",
              "      <th>label</th>\n",
              "    </tr>\n",
              "  </thead>\n",
              "  <tbody>\n",
              "    <tr>\n",
              "      <th>0</th>\n",
              "      <td>-0.147460</td>\n",
              "      <td>-0.097678</td>\n",
              "      <td>0.088494</td>\n",
              "      <td>0.004374</td>\n",
              "      <td>-0.062964</td>\n",
              "      <td>-0.328329</td>\n",
              "      <td>-0.714397</td>\n",
              "      <td>0.341717</td>\n",
              "      <td>0.382869</td>\n",
              "      <td>0.147038</td>\n",
              "      <td>-0.464474</td>\n",
              "      <td>0.053450</td>\n",
              "      <td>0.416182</td>\n",
              "      <td>-0.196511</td>\n",
              "      <td>0.224757</td>\n",
              "      <td>-0.447903</td>\n",
              "      <td>0.020688</td>\n",
              "      <td>0.052147</td>\n",
              "      <td>0.170770</td>\n",
              "      <td>0.312297</td>\n",
              "      <td>0.295900</td>\n",
              "      <td>-0.068509</td>\n",
              "      <td>0.017155</td>\n",
              "      <td>0.219935</td>\n",
              "      <td>-0.188711</td>\n",
              "      <td>-0.363942</td>\n",
              "      <td>0.267753</td>\n",
              "      <td>-0.569244</td>\n",
              "      <td>0.168464</td>\n",
              "      <td>-0.326034</td>\n",
              "      <td>-0.035214</td>\n",
              "      <td>-0.394221</td>\n",
              "      <td>-0.415872</td>\n",
              "      <td>-0.075913</td>\n",
              "      <td>0.135408</td>\n",
              "      <td>0.487998</td>\n",
              "      <td>-0.178082</td>\n",
              "      <td>0.422432</td>\n",
              "      <td>0.084338</td>\n",
              "      <td>0.035743</td>\n",
              "      <td>...</td>\n",
              "      <td>-0.188469</td>\n",
              "      <td>-0.184428</td>\n",
              "      <td>0.392246</td>\n",
              "      <td>0.051109</td>\n",
              "      <td>0.407122</td>\n",
              "      <td>-0.072494</td>\n",
              "      <td>-0.143106</td>\n",
              "      <td>0.201330</td>\n",
              "      <td>0.329444</td>\n",
              "      <td>-0.072331</td>\n",
              "      <td>0.233861</td>\n",
              "      <td>-0.217848</td>\n",
              "      <td>0.040891</td>\n",
              "      <td>-0.555924</td>\n",
              "      <td>0.525830</td>\n",
              "      <td>0.131002</td>\n",
              "      <td>-0.164339</td>\n",
              "      <td>0.155274</td>\n",
              "      <td>0.184851</td>\n",
              "      <td>-0.278382</td>\n",
              "      <td>-0.145997</td>\n",
              "      <td>0.081749</td>\n",
              "      <td>0.271423</td>\n",
              "      <td>0.497058</td>\n",
              "      <td>-0.099270</td>\n",
              "      <td>0.231156</td>\n",
              "      <td>0.489525</td>\n",
              "      <td>0.271597</td>\n",
              "      <td>0.027496</td>\n",
              "      <td>0.304206</td>\n",
              "      <td>0.137247</td>\n",
              "      <td>0.248933</td>\n",
              "      <td>-0.236852</td>\n",
              "      <td>-0.097226</td>\n",
              "      <td>0.203395</td>\n",
              "      <td>0.354118</td>\n",
              "      <td>-0.227735</td>\n",
              "      <td>-0.266756</td>\n",
              "      <td>46</td>\n",
              "      <td>0</td>\n",
              "    </tr>\n",
              "    <tr>\n",
              "      <th>1</th>\n",
              "      <td>-0.248506</td>\n",
              "      <td>-0.237401</td>\n",
              "      <td>-0.118447</td>\n",
              "      <td>0.002282</td>\n",
              "      <td>-0.264117</td>\n",
              "      <td>-0.213466</td>\n",
              "      <td>-0.442112</td>\n",
              "      <td>0.157877</td>\n",
              "      <td>0.424557</td>\n",
              "      <td>0.020851</td>\n",
              "      <td>-0.424815</td>\n",
              "      <td>-0.051164</td>\n",
              "      <td>0.290629</td>\n",
              "      <td>-0.017809</td>\n",
              "      <td>0.203737</td>\n",
              "      <td>-0.201438</td>\n",
              "      <td>0.104577</td>\n",
              "      <td>-0.147462</td>\n",
              "      <td>0.077319</td>\n",
              "      <td>0.081846</td>\n",
              "      <td>0.451093</td>\n",
              "      <td>0.046522</td>\n",
              "      <td>0.320480</td>\n",
              "      <td>0.100871</td>\n",
              "      <td>0.145660</td>\n",
              "      <td>-0.381138</td>\n",
              "      <td>0.050285</td>\n",
              "      <td>-0.131739</td>\n",
              "      <td>0.032771</td>\n",
              "      <td>-0.264354</td>\n",
              "      <td>-0.045050</td>\n",
              "      <td>0.045629</td>\n",
              "      <td>-0.301480</td>\n",
              "      <td>-0.042048</td>\n",
              "      <td>-0.215937</td>\n",
              "      <td>0.565174</td>\n",
              "      <td>-0.068848</td>\n",
              "      <td>-0.043755</td>\n",
              "      <td>-0.070155</td>\n",
              "      <td>-0.025475</td>\n",
              "      <td>...</td>\n",
              "      <td>-0.184743</td>\n",
              "      <td>-0.160854</td>\n",
              "      <td>0.179417</td>\n",
              "      <td>0.021772</td>\n",
              "      <td>0.112670</td>\n",
              "      <td>-0.117877</td>\n",
              "      <td>-0.126190</td>\n",
              "      <td>0.222059</td>\n",
              "      <td>0.071635</td>\n",
              "      <td>0.036887</td>\n",
              "      <td>-0.033188</td>\n",
              "      <td>0.138262</td>\n",
              "      <td>-0.242840</td>\n",
              "      <td>-0.296606</td>\n",
              "      <td>0.313950</td>\n",
              "      <td>0.110616</td>\n",
              "      <td>0.006270</td>\n",
              "      <td>-0.030620</td>\n",
              "      <td>0.229740</td>\n",
              "      <td>0.135082</td>\n",
              "      <td>-0.249679</td>\n",
              "      <td>0.285744</td>\n",
              "      <td>0.193301</td>\n",
              "      <td>0.293858</td>\n",
              "      <td>-0.049152</td>\n",
              "      <td>0.232706</td>\n",
              "      <td>0.078876</td>\n",
              "      <td>0.155021</td>\n",
              "      <td>0.080390</td>\n",
              "      <td>-0.040582</td>\n",
              "      <td>0.042223</td>\n",
              "      <td>0.068798</td>\n",
              "      <td>0.058298</td>\n",
              "      <td>-0.073628</td>\n",
              "      <td>0.061461</td>\n",
              "      <td>0.391433</td>\n",
              "      <td>-0.113151</td>\n",
              "      <td>-0.126570</td>\n",
              "      <td>73</td>\n",
              "      <td>0</td>\n",
              "    </tr>\n",
              "    <tr>\n",
              "      <th>2</th>\n",
              "      <td>-0.179936</td>\n",
              "      <td>0.293784</td>\n",
              "      <td>-0.212988</td>\n",
              "      <td>-0.322106</td>\n",
              "      <td>0.352358</td>\n",
              "      <td>0.024212</td>\n",
              "      <td>-0.557215</td>\n",
              "      <td>-0.213535</td>\n",
              "      <td>0.119070</td>\n",
              "      <td>0.014492</td>\n",
              "      <td>-0.507802</td>\n",
              "      <td>0.034378</td>\n",
              "      <td>0.271758</td>\n",
              "      <td>-0.680013</td>\n",
              "      <td>-0.747964</td>\n",
              "      <td>-0.851890</td>\n",
              "      <td>-0.041808</td>\n",
              "      <td>-0.083609</td>\n",
              "      <td>0.284290</td>\n",
              "      <td>0.252335</td>\n",
              "      <td>0.623315</td>\n",
              "      <td>-0.100416</td>\n",
              "      <td>0.680147</td>\n",
              "      <td>-0.380822</td>\n",
              "      <td>-0.188857</td>\n",
              "      <td>-0.839965</td>\n",
              "      <td>0.043943</td>\n",
              "      <td>-0.361800</td>\n",
              "      <td>-0.270911</td>\n",
              "      <td>-0.193946</td>\n",
              "      <td>-0.210341</td>\n",
              "      <td>0.504183</td>\n",
              "      <td>0.361796</td>\n",
              "      <td>0.240540</td>\n",
              "      <td>0.362023</td>\n",
              "      <td>-0.192814</td>\n",
              "      <td>0.585600</td>\n",
              "      <td>-0.166112</td>\n",
              "      <td>-0.304271</td>\n",
              "      <td>1.032141</td>\n",
              "      <td>...</td>\n",
              "      <td>-0.061471</td>\n",
              "      <td>-0.030722</td>\n",
              "      <td>0.370069</td>\n",
              "      <td>-0.192609</td>\n",
              "      <td>0.443559</td>\n",
              "      <td>-0.179047</td>\n",
              "      <td>-0.216688</td>\n",
              "      <td>0.242608</td>\n",
              "      <td>0.487453</td>\n",
              "      <td>-0.318522</td>\n",
              "      <td>-0.340943</td>\n",
              "      <td>0.689147</td>\n",
              "      <td>-0.464785</td>\n",
              "      <td>0.032341</td>\n",
              "      <td>0.044956</td>\n",
              "      <td>1.120929</td>\n",
              "      <td>-0.545029</td>\n",
              "      <td>0.571596</td>\n",
              "      <td>-0.295578</td>\n",
              "      <td>-0.508754</td>\n",
              "      <td>-0.460345</td>\n",
              "      <td>0.354108</td>\n",
              "      <td>-0.134406</td>\n",
              "      <td>-0.282871</td>\n",
              "      <td>0.135864</td>\n",
              "      <td>0.869222</td>\n",
              "      <td>0.151060</td>\n",
              "      <td>0.804975</td>\n",
              "      <td>-0.432120</td>\n",
              "      <td>0.095488</td>\n",
              "      <td>-0.141412</td>\n",
              "      <td>0.681106</td>\n",
              "      <td>-0.139110</td>\n",
              "      <td>-0.173834</td>\n",
              "      <td>0.360844</td>\n",
              "      <td>0.364628</td>\n",
              "      <td>-0.099067</td>\n",
              "      <td>-0.583648</td>\n",
              "      <td>14</td>\n",
              "      <td>0</td>\n",
              "    </tr>\n",
              "    <tr>\n",
              "      <th>3</th>\n",
              "      <td>-0.874540</td>\n",
              "      <td>-0.508389</td>\n",
              "      <td>-0.097178</td>\n",
              "      <td>-0.185592</td>\n",
              "      <td>-0.164945</td>\n",
              "      <td>-0.021888</td>\n",
              "      <td>0.148799</td>\n",
              "      <td>0.176633</td>\n",
              "      <td>1.118791</td>\n",
              "      <td>-0.067648</td>\n",
              "      <td>-1.160098</td>\n",
              "      <td>0.433234</td>\n",
              "      <td>0.976908</td>\n",
              "      <td>-0.074678</td>\n",
              "      <td>0.376586</td>\n",
              "      <td>-0.363000</td>\n",
              "      <td>0.346469</td>\n",
              "      <td>-0.017564</td>\n",
              "      <td>0.188840</td>\n",
              "      <td>0.291289</td>\n",
              "      <td>0.252449</td>\n",
              "      <td>0.070924</td>\n",
              "      <td>0.848680</td>\n",
              "      <td>0.100892</td>\n",
              "      <td>0.174273</td>\n",
              "      <td>-0.445899</td>\n",
              "      <td>-0.677855</td>\n",
              "      <td>-0.658154</td>\n",
              "      <td>0.231274</td>\n",
              "      <td>-0.198834</td>\n",
              "      <td>-0.070111</td>\n",
              "      <td>-0.065212</td>\n",
              "      <td>0.252321</td>\n",
              "      <td>-0.577186</td>\n",
              "      <td>-0.337920</td>\n",
              "      <td>0.283148</td>\n",
              "      <td>-0.169306</td>\n",
              "      <td>0.338651</td>\n",
              "      <td>0.291555</td>\n",
              "      <td>0.193079</td>\n",
              "      <td>...</td>\n",
              "      <td>0.227905</td>\n",
              "      <td>-0.234482</td>\n",
              "      <td>0.062300</td>\n",
              "      <td>0.061664</td>\n",
              "      <td>0.610008</td>\n",
              "      <td>-0.117541</td>\n",
              "      <td>-0.353934</td>\n",
              "      <td>0.086905</td>\n",
              "      <td>0.098282</td>\n",
              "      <td>-0.051869</td>\n",
              "      <td>-0.037448</td>\n",
              "      <td>0.031302</td>\n",
              "      <td>-0.065125</td>\n",
              "      <td>0.168145</td>\n",
              "      <td>0.581184</td>\n",
              "      <td>0.224364</td>\n",
              "      <td>-0.410974</td>\n",
              "      <td>1.092959</td>\n",
              "      <td>-0.287212</td>\n",
              "      <td>0.142931</td>\n",
              "      <td>-0.423685</td>\n",
              "      <td>0.344722</td>\n",
              "      <td>0.333003</td>\n",
              "      <td>0.612093</td>\n",
              "      <td>-0.408202</td>\n",
              "      <td>-0.372804</td>\n",
              "      <td>0.700861</td>\n",
              "      <td>-0.242516</td>\n",
              "      <td>0.131358</td>\n",
              "      <td>0.074990</td>\n",
              "      <td>0.571326</td>\n",
              "      <td>-0.112190</td>\n",
              "      <td>-0.145728</td>\n",
              "      <td>-0.167918</td>\n",
              "      <td>0.284699</td>\n",
              "      <td>0.922275</td>\n",
              "      <td>-0.131792</td>\n",
              "      <td>0.152953</td>\n",
              "      <td>28</td>\n",
              "      <td>0</td>\n",
              "    </tr>\n",
              "    <tr>\n",
              "      <th>4</th>\n",
              "      <td>-0.127830</td>\n",
              "      <td>0.472372</td>\n",
              "      <td>-0.385039</td>\n",
              "      <td>-0.989061</td>\n",
              "      <td>0.476613</td>\n",
              "      <td>-0.496550</td>\n",
              "      <td>-0.385541</td>\n",
              "      <td>0.469353</td>\n",
              "      <td>0.880657</td>\n",
              "      <td>-0.293986</td>\n",
              "      <td>-0.379886</td>\n",
              "      <td>0.338787</td>\n",
              "      <td>0.311469</td>\n",
              "      <td>-0.434966</td>\n",
              "      <td>0.009103</td>\n",
              "      <td>-0.497619</td>\n",
              "      <td>0.112856</td>\n",
              "      <td>-0.188123</td>\n",
              "      <td>-0.114664</td>\n",
              "      <td>-0.336460</td>\n",
              "      <td>0.389804</td>\n",
              "      <td>0.334340</td>\n",
              "      <td>0.139362</td>\n",
              "      <td>0.004538</td>\n",
              "      <td>-0.177729</td>\n",
              "      <td>-0.939102</td>\n",
              "      <td>-0.130015</td>\n",
              "      <td>-0.445822</td>\n",
              "      <td>0.505941</td>\n",
              "      <td>-0.537480</td>\n",
              "      <td>-0.216517</td>\n",
              "      <td>-0.368081</td>\n",
              "      <td>-0.087099</td>\n",
              "      <td>-0.067592</td>\n",
              "      <td>0.315930</td>\n",
              "      <td>0.274959</td>\n",
              "      <td>-0.648208</td>\n",
              "      <td>-0.009660</td>\n",
              "      <td>-0.200667</td>\n",
              "      <td>-0.002576</td>\n",
              "      <td>...</td>\n",
              "      <td>0.108726</td>\n",
              "      <td>0.041894</td>\n",
              "      <td>0.043285</td>\n",
              "      <td>0.101078</td>\n",
              "      <td>0.168881</td>\n",
              "      <td>-0.098179</td>\n",
              "      <td>0.104712</td>\n",
              "      <td>-0.158883</td>\n",
              "      <td>-0.013307</td>\n",
              "      <td>-0.137852</td>\n",
              "      <td>0.133818</td>\n",
              "      <td>0.254561</td>\n",
              "      <td>-0.188396</td>\n",
              "      <td>-0.745429</td>\n",
              "      <td>0.809807</td>\n",
              "      <td>0.384268</td>\n",
              "      <td>0.213787</td>\n",
              "      <td>-0.325210</td>\n",
              "      <td>0.359370</td>\n",
              "      <td>0.054180</td>\n",
              "      <td>-0.529181</td>\n",
              "      <td>0.408845</td>\n",
              "      <td>0.133737</td>\n",
              "      <td>1.053292</td>\n",
              "      <td>-0.248492</td>\n",
              "      <td>-0.347215</td>\n",
              "      <td>-0.216303</td>\n",
              "      <td>0.247768</td>\n",
              "      <td>0.019928</td>\n",
              "      <td>0.439301</td>\n",
              "      <td>-0.533154</td>\n",
              "      <td>0.054625</td>\n",
              "      <td>0.374660</td>\n",
              "      <td>-0.481842</td>\n",
              "      <td>0.087912</td>\n",
              "      <td>0.297434</td>\n",
              "      <td>-0.667158</td>\n",
              "      <td>-0.507274</td>\n",
              "      <td>24</td>\n",
              "      <td>0</td>\n",
              "    </tr>\n",
              "  </tbody>\n",
              "</table>\n",
              "<p>5 rows × 102 columns</p>\n",
              "</div>"
            ],
            "text/plain": [
              "          0         1         2  ...        99  length_tweet  label\n",
              "0 -0.147460 -0.097678  0.088494  ... -0.266756            46      0\n",
              "1 -0.248506 -0.237401 -0.118447  ... -0.126570            73      0\n",
              "2 -0.179936  0.293784 -0.212988  ... -0.583648            14      0\n",
              "3 -0.874540 -0.508389 -0.097178  ...  0.152953            28      0\n",
              "4 -0.127830  0.472372 -0.385039  ... -0.507274            24      0\n",
              "\n",
              "[5 rows x 102 columns]"
            ]
          },
          "metadata": {
            "tags": []
          },
          "execution_count": 25
        }
      ]
    },
    {
      "cell_type": "code",
      "metadata": {
        "id": "bno6BF8uXWj_",
        "colab_type": "code",
        "colab": {}
      },
      "source": [
        ""
      ],
      "execution_count": 25,
      "outputs": []
    },
    {
      "cell_type": "markdown",
      "metadata": {
        "id": "aDAZQPo2ckOA",
        "colab_type": "text"
      },
      "source": [
        "#Resample"
      ]
    },
    {
      "cell_type": "markdown",
      "metadata": {
        "id": "qyBl_7dphiqx",
        "colab_type": "text"
      },
      "source": [
        "##Upsampling BOW"
      ]
    },
    {
      "cell_type": "code",
      "metadata": {
        "id": "_gwsiRZect0l",
        "colab_type": "code",
        "colab": {
          "base_uri": "https://localhost:8080/",
          "height": 316
        },
        "outputId": "8b136182-58ef-4260-ff18-1d491cf1377f"
      },
      "source": [
        "major_class_0,major_class_1=bow_train.label.value_counts()\n",
        "df_major=bow_train[bow_train['label']==0]\n",
        "df_minor=bow_train[bow_train['label']==1]\n",
        "df_minor_upsampled = resample(df_minor, \n",
        "                                 replace=True,     # sample with replacement\n",
        "                                 n_samples=major_class_0)\n",
        "df_bow_upsampled = pd.concat([df_major, df_minor_upsampled])\n",
        "print('shape',df_bow_upsampled.shape)\n",
        "sns.countplot(df_bow_upsampled.label)"
      ],
      "execution_count": 26,
      "outputs": [
        {
          "output_type": "stream",
          "text": [
            "shape (59440, 1002)\n"
          ],
          "name": "stdout"
        },
        {
          "output_type": "execute_result",
          "data": {
            "text/plain": [
              "<matplotlib.axes._subplots.AxesSubplot at 0x7fb0571162e8>"
            ]
          },
          "metadata": {
            "tags": []
          },
          "execution_count": 26
        },
        {
          "output_type": "display_data",
          "data": {
            "image/png": "[encoded data removed]",
            "text/plain": [
              "<Figure size 432x288 with 1 Axes>"
            ]
          },
          "metadata": {
            "tags": [],
            "needs_background": "light"
          }
        }
      ]
    },
    {
      "cell_type": "markdown",
      "metadata": {
        "id": "DcXm4-2nh8qU",
        "colab_type": "text"
      },
      "source": [
        "##Upsampling TF-IDF"
      ]
    },
    {
      "cell_type": "code",
      "metadata": {
        "id": "-92Lrks_ihFr",
        "colab_type": "code",
        "colab": {
          "base_uri": "https://localhost:8080/",
          "height": 316
        },
        "outputId": "467443d4-a474-4965-a6c0-bf138d594667"
      },
      "source": [
        "major_class_0,major_class_1=tfidf_train.label.value_counts()\n",
        "df_major=tfidf_train[tfidf_train['label']==0]\n",
        "df_minor=tfidf_train[tfidf_train['label']==1]\n",
        "df_minor_upsampled = resample(df_minor, \n",
        "                                 replace=True,     # sample with replacement\n",
        "                                 n_samples=major_class_0)\n",
        "df_tfidf_upsampled = pd.concat([df_major, df_minor_upsampled])\n",
        "print('shape',df_tfidf_upsampled.shape)\n",
        "sns.countplot(df_tfidf_upsampled.label)"
      ],
      "execution_count": 27,
      "outputs": [
        {
          "output_type": "stream",
          "text": [
            "shape (59440, 1002)\n"
          ],
          "name": "stdout"
        },
        {
          "output_type": "execute_result",
          "data": {
            "text/plain": [
              "<matplotlib.axes._subplots.AxesSubplot at 0x7fb0570f6ef0>"
            ]
          },
          "metadata": {
            "tags": []
          },
          "execution_count": 27
        },
        {
          "output_type": "display_data",
          "data": {
            "image/png": "[encoded data removed]",
            "text/plain": [
              "<Figure size 432x288 with 1 Axes>"
            ]
          },
          "metadata": {
            "tags": [],
            "needs_background": "light"
          }
        }
      ]
    },
    {
      "cell_type": "markdown",
      "metadata": {
        "id": "otKNRsUOi3uT",
        "colab_type": "text"
      },
      "source": [
        "##Upsampling  word2vec"
      ]
    },
    {
      "cell_type": "code",
      "metadata": {
        "id": "IC_kKXYYihJN",
        "colab_type": "code",
        "colab": {
          "base_uri": "https://localhost:8080/",
          "height": 316
        },
        "outputId": "f2bb73bc-19a4-499e-fbf4-b22b82d74847"
      },
      "source": [
        "major_class_0,major_class_1=w2v_train.label.value_counts()\n",
        "df_major=w2v_train[w2v_train['label']==0]\n",
        "df_minor=w2v_train[w2v_train['label']==1]\n",
        "df_minor_upsampled = resample(df_minor, \n",
        "                                 replace=True,     # sample with replacement\n",
        "                                 n_samples=major_class_0)\n",
        "df_w2v_upsampled = pd.concat([df_major, df_minor_upsampled])\n",
        "print('shape',df_w2v_upsampled.shape)\n",
        "sns.countplot(df_w2v_upsampled.label)"
      ],
      "execution_count": 28,
      "outputs": [
        {
          "output_type": "stream",
          "text": [
            "shape (59440, 102)\n"
          ],
          "name": "stdout"
        },
        {
          "output_type": "execute_result",
          "data": {
            "text/plain": [
              "<matplotlib.axes._subplots.AxesSubplot at 0x7fb057045240>"
            ]
          },
          "metadata": {
            "tags": []
          },
          "execution_count": 28
        },
        {
          "output_type": "display_data",
          "data": {
            "image/png": "[encoded data removed]",
            "text/plain": [
              "<Figure size 432x288 with 1 Axes>"
            ]
          },
          "metadata": {
            "tags": [],
            "needs_background": "light"
          }
        }
      ]
    },
    {
      "cell_type": "markdown",
      "metadata": {
        "id": "_9DKbyeyjY0m",
        "colab_type": "text"
      },
      "source": [
        "# Split Dataset"
      ]
    },
    {
      "cell_type": "code",
      "metadata": {
        "id": "VeBiQFw8WXzK",
        "colab_type": "code",
        "colab": {}
      },
      "source": [
        "x=df_bow_upsampled.iloc[:,0:-1]\n",
        "y=df_bow_upsampled['label']\n",
        "x_train_bow,x_test_bow,y_train_bow,y_test_bow=train_test_split(x,y,test_size=0.2)"
      ],
      "execution_count": 29,
      "outputs": []
    },
    {
      "cell_type": "code",
      "metadata": {
        "id": "jOnl7DRxj4xv",
        "colab_type": "code",
        "colab": {}
      },
      "source": [
        "x=df_tfidf_upsampled.iloc[:,0:-1]\n",
        "y=df_tfidf_upsampled['label']\n",
        "x_train_tfidf,x_test_tfidf,y_train_tfidf,y_test_tfidf=train_test_split(x,y,test_size=0.2)"
      ],
      "execution_count": 30,
      "outputs": []
    },
    {
      "cell_type": "code",
      "metadata": {
        "id": "1NI_sKZ_j6uq",
        "colab_type": "code",
        "colab": {}
      },
      "source": [
        "x=df_w2v_upsampled.iloc[:,0:-1]\n",
        "y=df_w2v_upsampled['label']\n",
        "x_train_w2v,x_test_w2v,y_train_w2v,y_test_w2v=train_test_split(x,y,test_size=0.2)"
      ],
      "execution_count": 31,
      "outputs": []
    },
    {
      "cell_type": "markdown",
      "metadata": {
        "id": "PIMfJGHDkLQd",
        "colab_type": "text"
      },
      "source": [
        "#Model Selection"
      ]
    },
    {
      "cell_type": "code",
      "metadata": {
        "id": "tHoEw3CqlICd",
        "colab_type": "code",
        "colab": {}
      },
      "source": [
        "def f1_score_(y_proba,y_test):\n",
        "  proba = y_proba[:,1] >= 0.3\n",
        "  proba = proba.astype(np.int) \n",
        "  return f1_score( proba,y_test)   \n"
      ],
      "execution_count": 32,
      "outputs": []
    },
    {
      "cell_type": "markdown",
      "metadata": {
        "id": "J0IMkpq3kQHw",
        "colab_type": "text"
      },
      "source": [
        "## Naive bayes "
      ]
    },
    {
      "cell_type": "code",
      "metadata": {
        "scrolled": true,
        "id": "QBKRy0tOWXzO",
        "colab_type": "code",
        "colab": {
          "base_uri": "https://localhost:8080/",
          "height": 54
        },
        "outputId": "f27e24a1-fedb-452b-80e1-296f33a624c5"
      },
      "source": [
        "#use Bow\n",
        "from sklearn.naive_bayes import BernoulliNB\n",
        "\n",
        "model=BernoulliNB()\n",
        "model.fit(x_train_bow,y_train_bow)\n",
        "y_pred=model.predict(x_test_bow)\n",
        "acc=accuracy_score(y_pred,y_test_bow)\n",
        "print('Accuracy Score',acc)\n",
        "y_proba=model.predict_proba(x_test_bow)\n",
        "f1_scor=f1_score_(y_proba,y_test_bow)\n",
        "print('f1 score ',f1_scor)"
      ],
      "execution_count": 34,
      "outputs": [
        {
          "output_type": "stream",
          "text": [
            "Accuracy Score 0.8645693135935397\n",
            "f1 score  0.8682122775937764\n"
          ],
          "name": "stdout"
        }
      ]
    },
    {
      "cell_type": "code",
      "metadata": {
        "id": "0c1jyK2RiPRJ",
        "colab_type": "code",
        "colab": {
          "base_uri": "https://localhost:8080/",
          "height": 54
        },
        "outputId": "845a2c7d-f9c4-4d37-bc48-f94006b21eb4"
      },
      "source": [
        "#use tfidf\n",
        "\n",
        "model=BernoulliNB()\n",
        "model.fit(x_train_tfidf,y_train_tfidf)\n",
        "y_pred=model.predict(x_test_tfidf)\n",
        "acc=accuracy_score(y_pred,y_test_tfidf)\n",
        "print('Accuracy Score',acc)\n",
        "y_proba=model.predict_proba(x_test_tfidf)\n",
        "f1_scor=f1_score_(y_proba,y_test_tfidf)\n",
        "print('f1 score ',f1_scor)"
      ],
      "execution_count": 35,
      "outputs": [
        {
          "output_type": "stream",
          "text": [
            "Accuracy Score 0.8496803499327052\n",
            "f1 score  0.8526435907189045\n"
          ],
          "name": "stdout"
        }
      ]
    },
    {
      "cell_type": "code",
      "metadata": {
        "id": "iMnzsdEZiyad",
        "colab_type": "code",
        "colab": {
          "base_uri": "https://localhost:8080/",
          "height": 54
        },
        "outputId": "cd15d0be-6519-4bd7-ec50-4056b3661a73"
      },
      "source": [
        "#use word2vec\n",
        "model=BernoulliNB()\n",
        "model.fit(x_train_w2v,y_train_w2v)\n",
        "y_pred=model.predict(x_test_w2v)\n",
        "acc=accuracy_score(y_pred,y_test_w2v)\n",
        "print('Accuracy Score',acc)\n",
        "y_proba=model.predict_proba(x_test_w2v)\n",
        "f1_scor=f1_score_(y_proba,y_test_w2v)\n",
        "print('f1 score ',f1_scor)"
      ],
      "execution_count": 36,
      "outputs": [
        {
          "output_type": "stream",
          "text": [
            "Accuracy Score 0.8110699865410498\n",
            "f1 score  0.8182540944506281\n"
          ],
          "name": "stdout"
        }
      ]
    },
    {
      "cell_type": "markdown",
      "metadata": {
        "id": "tcQ9-VYtmtr2",
        "colab_type": "text"
      },
      "source": [
        "#Summary\n",
        "<table>\n",
        "<tr>\n",
        "<td colspan=2>BOW</td>\n",
        "<td colspan=2>TF-IDF</td>\n",
        "<td colspan=2>WORD2VEC</td>\n",
        "</tr>\n",
        "<td>Accuray</td>\n",
        "<td>f1_score</td>\n",
        "<td>Accuray</td>\n",
        "<td>f1_score</td>\n",
        "<td>Accuray</td>\n",
        "<td>f1_score</td>\n",
        "</tr>\n",
        "\n",
        "<td>0.8645693135935397</td>\n",
        "<td>0.8682122775937764</td>\n",
        "<td>0.8496803499327052</td>\n",
        "<td>0.85264359071890451</td>\n",
        "<td>0.8110699865410498</td>\n",
        "<td>0.8182540944506281</td>\n",
        "</tr>\n",
        "\n",
        "</table>\n",
        "\n"
      ]
    },
    {
      "cell_type": "code",
      "metadata": {
        "id": "pmNcOEK5msX7",
        "colab_type": "code",
        "colab": {}
      },
      "source": [
        ""
      ],
      "execution_count": null,
      "outputs": []
    }
  ]
}