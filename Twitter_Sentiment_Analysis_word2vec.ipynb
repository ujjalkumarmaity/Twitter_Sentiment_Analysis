{
  "nbformat": 4,
  "nbformat_minor": 0,
  "metadata": {
    "kernelspec": {
      "display_name": "Python 3",
      "language": "python",
      "name": "python3"
    },
    "language_info": {
      "codemirror_mode": {
        "name": "ipython",
        "version": 3
      },
      "file_extension": ".py",
      "mimetype": "text/x-python",
      "name": "python",
      "nbconvert_exporter": "python",
      "pygments_lexer": "ipython3",
      "version": "3.7.4"
    },
    "colab": {
      "name": "Twitter Sentiment Analysis - word2vec,.ipynb",
      "provenance": [],
      "collapsed_sections": [],
      "toc_visible": true,
      "include_colab_link": true
    }
  },
  "cells": [
    {
      "cell_type": "markdown",
      "metadata": {
        "id": "view-in-github",
        "colab_type": "text"
      },
      "source": [
        "<a href=\"https://colab.research.google.com/github/ujjalkumarmaity/Twitter_Sentiment_Analysis/blob/master/Twitter_Sentiment_Analysis_word2vec.ipynb\" target=\"_parent\"><img src=\"https://colab.research.google.com/assets/colab-badge.svg\" alt=\"Open In Colab\"/></a>"
      ]
    },
    {
      "cell_type": "markdown",
      "metadata": {
        "id": "y5PJwEdfWXxC",
        "colab_type": "text"
      },
      "source": [
        "__What is Sentiment Analysis?__\n",
        "\n",
        "Sentiment analysis is a process of identifying an attitude of the author on a topic that is being written about. "
      ]
    },
    {
      "cell_type": "markdown",
      "metadata": {
        "id": "Yunc9XDuWXxF",
        "colab_type": "text"
      },
      "source": [
        "#### Table of contents\n",
        "\n",
        "1. Load the libraries\n",
        "1. Load Dataset\n",
        "1. EDA\n",
        "1. Preprocessing Tweet Text\n",
        "1. Featurization\n",
        "    1. Bag-of-Words\n",
        "    1. TF-IDF\n",
        "    1. Word2vec\n",
        "1. Resample\n",
        "    1. Upsampling BOW\n",
        "    2. Upsampling TF-IDF\n",
        "    1. Upsampling word2vec\n",
        "1. Split Dataset\n",
        "1. Model Selection\n",
        "    1. KNN\n",
        "1. Summary\n"
      ]
    },
    {
      "cell_type": "markdown",
      "metadata": {
        "id": "EVQhlPDoWXxK",
        "colab_type": "text"
      },
      "source": [
        "# Load the libraries"
      ]
    },
    {
      "cell_type": "code",
      "metadata": {
        "id": "wLBHYO2EWt2Z",
        "colab_type": "code",
        "colab": {
          "base_uri": "https://localhost:8080/",
          "height": 129
        },
        "outputId": "95e8be3d-7c7c-431c-9416-3e51f8cd77f0"
      },
      "source": [
        "from google.colab import drive\n",
        "drive.mount('/content/drive')"
      ],
      "execution_count": 2,
      "outputs": [
        {
          "output_type": "stream",
          "text": [
            "Go to this URL in a browser: https://accounts.google.com/o/oauth2/auth?client_id=947318989803-6bn6qk8qdgf4n4g3pfee6491hc0brc4i.apps.googleusercontent.com&redirect_uri=urn%3aietf%3awg%3aoauth%3a2.0%3aoob&response_type=code&scope=email%20https%3a%2f%2fwww.googleapis.com%2fauth%2fdocs.test%20https%3a%2f%2fwww.googleapis.com%2fauth%2fdrive%20https%3a%2f%2fwww.googleapis.com%2fauth%2fdrive.photos.readonly%20https%3a%2f%2fwww.googleapis.com%2fauth%2fpeopleapi.readonly\n",
            "\n",
            "Enter your authorization code:\n",
            "··········\n",
            "Mounted at /content/drive\n"
          ],
          "name": "stdout"
        }
      ]
    },
    {
      "cell_type": "code",
      "metadata": {
        "id": "gln-z21xWXxN",
        "colab_type": "code",
        "colab": {}
      },
      "source": [
        "import warnings\n",
        "warnings.filterwarnings('ignore')\n",
        "import pandas as pd\n",
        "import numpy as np\n",
        "import matplotlib.pyplot as plt\n",
        "import seaborn as sns\n",
        "import nltk\n",
        "from nltk.stem import PorterStemmer,WordNetLemmatizer\n",
        "from wordcloud import WordCloud\n",
        "import re\n",
        "import gensim\n",
        "from sklearn.model_selection import train_test_split\n",
        "from sklearn.feature_extraction.text import CountVectorizer,TfidfVectorizer\n",
        "from sklearn.utils import resample\n",
        "from sklearn.metrics import accuracy_score,f1_score"
      ],
      "execution_count": 3,
      "outputs": []
    },
    {
      "cell_type": "markdown",
      "metadata": {
        "id": "4aGXyK-mWXxd",
        "colab_type": "text"
      },
      "source": [
        "# Load Dataset"
      ]
    },
    {
      "cell_type": "code",
      "metadata": {
        "id": "3Mvcs9BjWXxf",
        "colab_type": "code",
        "colab": {
          "base_uri": "https://localhost:8080/",
          "height": 175
        },
        "outputId": "8bc0fa11-20b2-43d4-93ed-5b0c6aa29e8f"
      },
      "source": [
        "df=pd.read_csv('/content/drive/My Drive/Colab Notebooks/Twitter/train.csv.zip')\n",
        "test=pd.read_csv('/content/drive/My Drive/Colab Notebooks/Twitter/test.csv.zip')\n",
        "df.head(4)"
      ],
      "execution_count": 4,
      "outputs": [
        {
          "output_type": "execute_result",
          "data": {
            "text/html": [
              "<div>\n",
              "<style scoped>\n",
              "    .dataframe tbody tr th:only-of-type {\n",
              "        vertical-align: middle;\n",
              "    }\n",
              "\n",
              "    .dataframe tbody tr th {\n",
              "        vertical-align: top;\n",
              "    }\n",
              "\n",
              "    .dataframe thead th {\n",
              "        text-align: right;\n",
              "    }\n",
              "</style>\n",
              "<table border=\"1\" class=\"dataframe\">\n",
              "  <thead>\n",
              "    <tr style=\"text-align: right;\">\n",
              "      <th></th>\n",
              "      <th>id</th>\n",
              "      <th>label</th>\n",
              "      <th>tweet</th>\n",
              "    </tr>\n",
              "  </thead>\n",
              "  <tbody>\n",
              "    <tr>\n",
              "      <th>0</th>\n",
              "      <td>1</td>\n",
              "      <td>0</td>\n",
              "      <td>@user when a father is dysfunctional and is s...</td>\n",
              "    </tr>\n",
              "    <tr>\n",
              "      <th>1</th>\n",
              "      <td>2</td>\n",
              "      <td>0</td>\n",
              "      <td>@user @user thanks for #lyft credit i can't us...</td>\n",
              "    </tr>\n",
              "    <tr>\n",
              "      <th>2</th>\n",
              "      <td>3</td>\n",
              "      <td>0</td>\n",
              "      <td>bihday your majesty</td>\n",
              "    </tr>\n",
              "    <tr>\n",
              "      <th>3</th>\n",
              "      <td>4</td>\n",
              "      <td>0</td>\n",
              "      <td>#model   i love u take with u all the time in ...</td>\n",
              "    </tr>\n",
              "  </tbody>\n",
              "</table>\n",
              "</div>"
            ],
            "text/plain": [
              "   id  label                                              tweet\n",
              "0   1      0   @user when a father is dysfunctional and is s...\n",
              "1   2      0  @user @user thanks for #lyft credit i can't us...\n",
              "2   3      0                                bihday your majesty\n",
              "3   4      0  #model   i love u take with u all the time in ..."
            ]
          },
          "metadata": {
            "tags": []
          },
          "execution_count": 4
        }
      ]
    },
    {
      "cell_type": "markdown",
      "metadata": {
        "id": "nehjc8uFWXxs",
        "colab_type": "text"
      },
      "source": [
        "#  EDA"
      ]
    },
    {
      "cell_type": "code",
      "metadata": {
        "id": "oOmogVsaWXxt",
        "colab_type": "code",
        "colab": {
          "base_uri": "https://localhost:8080/",
          "height": 201
        },
        "outputId": "76a83332-798d-45c1-8721-cdb0f32b991f"
      },
      "source": [
        "df.info()"
      ],
      "execution_count": 5,
      "outputs": [
        {
          "output_type": "stream",
          "text": [
            "<class 'pandas.core.frame.DataFrame'>\n",
            "RangeIndex: 31962 entries, 0 to 31961\n",
            "Data columns (total 3 columns):\n",
            " #   Column  Non-Null Count  Dtype \n",
            "---  ------  --------------  ----- \n",
            " 0   id      31962 non-null  int64 \n",
            " 1   label   31962 non-null  int64 \n",
            " 2   tweet   31962 non-null  object\n",
            "dtypes: int64(2), object(1)\n",
            "memory usage: 749.2+ KB\n"
          ],
          "name": "stdout"
        }
      ]
    },
    {
      "cell_type": "code",
      "metadata": {
        "id": "cpLDlr9JWXx2",
        "colab_type": "code",
        "colab": {
          "base_uri": "https://localhost:8080/",
          "height": 90
        },
        "outputId": "505761c0-7cd4-4c1b-d746-bc93e21082b4"
      },
      "source": [
        "print('shape of train dataset',df.shape)\n",
        "df.label.value_counts()"
      ],
      "execution_count": 6,
      "outputs": [
        {
          "output_type": "stream",
          "text": [
            "shape of train dataset (31962, 3)\n"
          ],
          "name": "stdout"
        },
        {
          "output_type": "execute_result",
          "data": {
            "text/plain": [
              "0    29720\n",
              "1     2242\n",
              "Name: label, dtype: int64"
            ]
          },
          "metadata": {
            "tags": []
          },
          "execution_count": 6
        }
      ]
    },
    {
      "cell_type": "code",
      "metadata": {
        "id": "O8e4ttghWXx-",
        "colab_type": "code",
        "colab": {
          "base_uri": "https://localhost:8080/",
          "height": 279
        },
        "outputId": "61c34243-89e8-472d-94d0-277b1245930e"
      },
      "source": [
        "# \n",
        "sns.countplot(df.label,)\n",
        "plt.xlabel('class label')\n",
        "plt.ylabel('number of tweets')\n",
        "plt.show()"
      ],
      "execution_count": 7,
      "outputs": [
        {
          "output_type": "display_data",
          "data": {
            "image/png": "[encoded data removed]",
            "text/plain": [
              "<Figure size 432x288 with 1 Axes>"
            ]
          },
          "metadata": {
            "tags": [],
            "needs_background": "light"
          }
        }
      ]
    },
    {
      "cell_type": "code",
      "metadata": {
        "id": "fWBFmBH4WXyJ",
        "colab_type": "code",
        "colab": {
          "base_uri": "https://localhost:8080/",
          "height": 541
        },
        "outputId": "0dfa964d-0146-44ec-ee50-60fd9270418f"
      },
      "source": [
        "plt.hist(df[df['label']==1].tweet.str.len(),bins=20,label='class 1')\n",
        "plt.legend()\n",
        "plt.xlabel('length of tweets')\n",
        "plt.ylabel('number of tweets')\n",
        "plt.show()\n",
        "plt.hist(df[df['label']==0].tweet.str.len(),color='yellow',bins=20,label='class 0')\n",
        "plt.legend()\n",
        "plt.xlabel('length of tweets')\n",
        "plt.ylabel('number of tweets')\n",
        "plt.show()"
      ],
      "execution_count": 8,
      "outputs": [
        {
          "output_type": "display_data",
          "data": {
            "image/png": "[encoded data removed]",
            "text/plain": [
              "<Figure size 432x288 with 1 Axes>"
            ]
          },
          "metadata": {
            "tags": [],
            "needs_background": "light"
          }
        },
        {
          "output_type": "display_data",
          "data": {
            "image/png": "[encoded data removed]",
            "text/plain": [
              "<Figure size 432x288 with 1 Axes>"
            ]
          },
          "metadata": {
            "tags": [],
            "needs_background": "light"
          }
        }
      ]
    },
    {
      "cell_type": "markdown",
      "metadata": {
        "id": "j2F5HlwPWXyQ",
        "colab_type": "text"
      },
      "source": [
        "#   Preprocessing Tweet Text\n",
        "\n",
        "1. Removing Twitter Handles (@user)\n",
        "2. Removing urls from text \n",
        "3. Removing Punctuations, Numbers, and Special Characters\n",
        "\n",
        "5. Convert the word to lowercase\n",
        "6. Remove Stopwords\n",
        "7. Stemming the word\n",
        "8. Lemmatization<br>\n",
        "\n",
        "After which we collect the words used to describe positive and negative reviews"
      ]
    },
    {
      "cell_type": "code",
      "metadata": {
        "id": "Kl-PSHglWXyR",
        "colab_type": "code",
        "colab": {
          "base_uri": "https://localhost:8080/",
          "height": 35
        },
        "outputId": "fe225593-cdc4-49b6-9811-29adfa8d0d40"
      },
      "source": [
        "text=df['tweet'].values.tolist()\n",
        "text_test=test['tweet'].values.tolist()\n",
        "text+=text_test\n",
        "print(len(text))"
      ],
      "execution_count": 9,
      "outputs": [
        {
          "output_type": "stream",
          "text": [
            "49159\n"
          ],
          "name": "stdout"
        }
      ]
    },
    {
      "cell_type": "code",
      "metadata": {
        "id": "QIAPatCtWXyY",
        "colab_type": "code",
        "colab": {}
      },
      "source": [
        "import nltk\n",
        "stopword=nltk.corpus.stopwords.words('english')\n",
        "stopword.remove('not')\n",
        "for index,text_ in enumerate(text):\n",
        "    text_=re.sub(r'@[\\w]*','',text_) #Removing Twitter Handles (@user)\n",
        "    text_=re.sub(r'http/S+','',text_) #Removing urls from text \n",
        "    text_=re.sub(r'[^A-Za-z#]',' ',text_) #Removing Punctuations, Numbers, and Special Characters\n",
        "    text_=\" \".join(i.lower() for i in text_.split() if i.lower() not in stopword) #Removing stopword\n",
        "    text[index]=text_"
      ],
      "execution_count": 34,
      "outputs": []
    },
    {
      "cell_type": "code",
      "metadata": {
        "id": "k8c4eQr6WXyf",
        "colab_type": "code",
        "colab": {}
      },
      "source": [
        "#Stemming the word\n",
        "pt=PorterStemmer()\n",
        "wordnet=WordNetLemmatizer()\n",
        "for index,text_ in enumerate(text):\n",
        "    text_=\" \".join(pt.stem(i) for i in text_.split())\n",
        "    text_=\" \".join(wordnet.lemmatize(i) for i in text_.split())  \n",
        "    text[index]=text_\n"
      ],
      "execution_count": 11,
      "outputs": []
    },
    {
      "cell_type": "code",
      "metadata": {
        "scrolled": true,
        "id": "gjNP4Q6mWXyk",
        "colab_type": "code",
        "colab": {
          "base_uri": "https://localhost:8080/",
          "height": 206
        },
        "outputId": "c2dd35c3-9eec-433f-82d9-88600f378e75"
      },
      "source": [
        "df['preprocess_tweet']=text[:len(df)]\n",
        "df['length_tweet']=df['preprocess_tweet'].str.len()\n",
        "test['preprocess_tweet']=text[len(df):]\n",
        "df.head()"
      ],
      "execution_count": 12,
      "outputs": [
        {
          "output_type": "execute_result",
          "data": {
            "text/html": [
              "<div>\n",
              "<style scoped>\n",
              "    .dataframe tbody tr th:only-of-type {\n",
              "        vertical-align: middle;\n",
              "    }\n",
              "\n",
              "    .dataframe tbody tr th {\n",
              "        vertical-align: top;\n",
              "    }\n",
              "\n",
              "    .dataframe thead th {\n",
              "        text-align: right;\n",
              "    }\n",
              "</style>\n",
              "<table border=\"1\" class=\"dataframe\">\n",
              "  <thead>\n",
              "    <tr style=\"text-align: right;\">\n",
              "      <th></th>\n",
              "      <th>id</th>\n",
              "      <th>label</th>\n",
              "      <th>tweet</th>\n",
              "      <th>preprocess_tweet</th>\n",
              "      <th>length_tweet</th>\n",
              "    </tr>\n",
              "  </thead>\n",
              "  <tbody>\n",
              "    <tr>\n",
              "      <th>0</th>\n",
              "      <td>1</td>\n",
              "      <td>0</td>\n",
              "      <td>@user when a father is dysfunctional and is s...</td>\n",
              "      <td>father dysfunct selfish drag kid dysfunct #run</td>\n",
              "      <td>46</td>\n",
              "    </tr>\n",
              "    <tr>\n",
              "      <th>1</th>\n",
              "      <td>2</td>\n",
              "      <td>0</td>\n",
              "      <td>@user @user thanks for #lyft credit i can't us...</td>\n",
              "      <td>thank #lyft credit use caus offer wheelchair v...</td>\n",
              "      <td>73</td>\n",
              "    </tr>\n",
              "    <tr>\n",
              "      <th>2</th>\n",
              "      <td>3</td>\n",
              "      <td>0</td>\n",
              "      <td>bihday your majesty</td>\n",
              "      <td>bihday majesti</td>\n",
              "      <td>14</td>\n",
              "    </tr>\n",
              "    <tr>\n",
              "      <th>3</th>\n",
              "      <td>4</td>\n",
              "      <td>0</td>\n",
              "      <td>#model   i love u take with u all the time in ...</td>\n",
              "      <td>#model love u take u time ur</td>\n",
              "      <td>28</td>\n",
              "    </tr>\n",
              "    <tr>\n",
              "      <th>4</th>\n",
              "      <td>5</td>\n",
              "      <td>0</td>\n",
              "      <td>factsguide: society now    #motivation</td>\n",
              "      <td>factsguid societi #motiv</td>\n",
              "      <td>24</td>\n",
              "    </tr>\n",
              "  </tbody>\n",
              "</table>\n",
              "</div>"
            ],
            "text/plain": [
              "   id  label  ...                                   preprocess_tweet length_tweet\n",
              "0   1      0  ...     father dysfunct selfish drag kid dysfunct #run           46\n",
              "1   2      0  ...  thank #lyft credit use caus offer wheelchair v...           73\n",
              "2   3      0  ...                                     bihday majesti           14\n",
              "3   4      0  ...                       #model love u take u time ur           28\n",
              "4   5      0  ...                           factsguid societi #motiv           24\n",
              "\n",
              "[5 rows x 5 columns]"
            ]
          },
          "metadata": {
            "tags": []
          },
          "execution_count": 12
        }
      ]
    },
    {
      "cell_type": "code",
      "metadata": {
        "id": "fSeMUl9LWXyt",
        "colab_type": "code",
        "colab": {}
      },
      "source": [
        ""
      ],
      "execution_count": 33,
      "outputs": []
    },
    {
      "cell_type": "code",
      "metadata": {
        "id": "lGo97BEvWXy0",
        "colab_type": "code",
        "colab": {}
      },
      "source": [
        "\n"
      ],
      "execution_count": 13,
      "outputs": []
    },
    {
      "cell_type": "markdown",
      "metadata": {
        "id": "QAFzJ26TWXy6",
        "colab_type": "text"
      },
      "source": [
        "# Featurization"
      ]
    },
    {
      "cell_type": "markdown",
      "metadata": {
        "id": "KqZzPYAcWXy7",
        "colab_type": "text"
      },
      "source": [
        "###BOW"
      ]
    },
    {
      "cell_type": "code",
      "metadata": {
        "id": "5UoV9n9NWXy9",
        "colab_type": "code",
        "colab": {}
      },
      "source": [
        "train=df.copy()\n",
        "train.drop(columns=['id','tweet','preprocess_tweet'],inplace=True)\n"
      ],
      "execution_count": 14,
      "outputs": []
    },
    {
      "cell_type": "code",
      "metadata": {
        "id": "ijuvNDk-WXzD",
        "colab_type": "code",
        "colab": {
          "base_uri": "https://localhost:8080/",
          "height": 311
        },
        "outputId": "f628054f-5818-4d34-869a-50fff26e6b48"
      },
      "source": [
        "bow=CountVectorizer( min_df=2, max_features=1000)\n",
        "bow.fit(df['preprocess_tweet'])\n",
        "bow_df=bow.transform(df['preprocess_tweet']).toarray()\n",
        "print('feature name==',bow.get_feature_names()[:10])\n",
        "print('number of uniqe words',bow_df.shape[1])\n",
        "print('shape',bow_df.shape)\n",
        "bow_train=pd.DataFrame(bow_df)\n",
        "bow_train['length_tweet']=df['length_tweet']\n",
        "bow_train['label']=df['label']\n",
        "bow_train.head()"
      ],
      "execution_count": 15,
      "outputs": [
        {
          "output_type": "stream",
          "text": [
            "feature name== ['abl', 'absolut', 'accept', 'account', 'act', 'action', 'actor', 'actual', 'ad', 'adapt']\n",
            "number of uniqe words 1000\n",
            "shape (31962, 1000)\n"
          ],
          "name": "stdout"
        },
        {
          "output_type": "execute_result",
          "data": {
            "text/html": [
              "<div>\n",
              "<style scoped>\n",
              "    .dataframe tbody tr th:only-of-type {\n",
              "        vertical-align: middle;\n",
              "    }\n",
              "\n",
              "    .dataframe tbody tr th {\n",
              "        vertical-align: top;\n",
              "    }\n",
              "\n",
              "    .dataframe thead th {\n",
              "        text-align: right;\n",
              "    }\n",
              "</style>\n",
              "<table border=\"1\" class=\"dataframe\">\n",
              "  <thead>\n",
              "    <tr style=\"text-align: right;\">\n",
              "      <th></th>\n",
              "      <th>0</th>\n",
              "      <th>1</th>\n",
              "      <th>2</th>\n",
              "      <th>3</th>\n",
              "      <th>4</th>\n",
              "      <th>5</th>\n",
              "      <th>6</th>\n",
              "      <th>7</th>\n",
              "      <th>8</th>\n",
              "      <th>9</th>\n",
              "      <th>10</th>\n",
              "      <th>11</th>\n",
              "      <th>12</th>\n",
              "      <th>13</th>\n",
              "      <th>14</th>\n",
              "      <th>15</th>\n",
              "      <th>16</th>\n",
              "      <th>17</th>\n",
              "      <th>18</th>\n",
              "      <th>19</th>\n",
              "      <th>20</th>\n",
              "      <th>21</th>\n",
              "      <th>22</th>\n",
              "      <th>23</th>\n",
              "      <th>24</th>\n",
              "      <th>25</th>\n",
              "      <th>26</th>\n",
              "      <th>27</th>\n",
              "      <th>28</th>\n",
              "      <th>29</th>\n",
              "      <th>30</th>\n",
              "      <th>31</th>\n",
              "      <th>32</th>\n",
              "      <th>33</th>\n",
              "      <th>34</th>\n",
              "      <th>35</th>\n",
              "      <th>36</th>\n",
              "      <th>37</th>\n",
              "      <th>38</th>\n",
              "      <th>39</th>\n",
              "      <th>...</th>\n",
              "      <th>962</th>\n",
              "      <th>963</th>\n",
              "      <th>964</th>\n",
              "      <th>965</th>\n",
              "      <th>966</th>\n",
              "      <th>967</th>\n",
              "      <th>968</th>\n",
              "      <th>969</th>\n",
              "      <th>970</th>\n",
              "      <th>971</th>\n",
              "      <th>972</th>\n",
              "      <th>973</th>\n",
              "      <th>974</th>\n",
              "      <th>975</th>\n",
              "      <th>976</th>\n",
              "      <th>977</th>\n",
              "      <th>978</th>\n",
              "      <th>979</th>\n",
              "      <th>980</th>\n",
              "      <th>981</th>\n",
              "      <th>982</th>\n",
              "      <th>983</th>\n",
              "      <th>984</th>\n",
              "      <th>985</th>\n",
              "      <th>986</th>\n",
              "      <th>987</th>\n",
              "      <th>988</th>\n",
              "      <th>989</th>\n",
              "      <th>990</th>\n",
              "      <th>991</th>\n",
              "      <th>992</th>\n",
              "      <th>993</th>\n",
              "      <th>994</th>\n",
              "      <th>995</th>\n",
              "      <th>996</th>\n",
              "      <th>997</th>\n",
              "      <th>998</th>\n",
              "      <th>999</th>\n",
              "      <th>length_tweet</th>\n",
              "      <th>label</th>\n",
              "    </tr>\n",
              "  </thead>\n",
              "  <tbody>\n",
              "    <tr>\n",
              "      <th>0</th>\n",
              "      <td>0</td>\n",
              "      <td>0</td>\n",
              "      <td>0</td>\n",
              "      <td>0</td>\n",
              "      <td>0</td>\n",
              "      <td>0</td>\n",
              "      <td>0</td>\n",
              "      <td>0</td>\n",
              "      <td>0</td>\n",
              "      <td>0</td>\n",
              "      <td>0</td>\n",
              "      <td>0</td>\n",
              "      <td>0</td>\n",
              "      <td>0</td>\n",
              "      <td>0</td>\n",
              "      <td>0</td>\n",
              "      <td>0</td>\n",
              "      <td>0</td>\n",
              "      <td>0</td>\n",
              "      <td>0</td>\n",
              "      <td>0</td>\n",
              "      <td>0</td>\n",
              "      <td>0</td>\n",
              "      <td>0</td>\n",
              "      <td>0</td>\n",
              "      <td>0</td>\n",
              "      <td>0</td>\n",
              "      <td>0</td>\n",
              "      <td>0</td>\n",
              "      <td>0</td>\n",
              "      <td>0</td>\n",
              "      <td>0</td>\n",
              "      <td>0</td>\n",
              "      <td>0</td>\n",
              "      <td>0</td>\n",
              "      <td>0</td>\n",
              "      <td>0</td>\n",
              "      <td>0</td>\n",
              "      <td>0</td>\n",
              "      <td>0</td>\n",
              "      <td>...</td>\n",
              "      <td>0</td>\n",
              "      <td>0</td>\n",
              "      <td>0</td>\n",
              "      <td>0</td>\n",
              "      <td>0</td>\n",
              "      <td>0</td>\n",
              "      <td>0</td>\n",
              "      <td>0</td>\n",
              "      <td>0</td>\n",
              "      <td>0</td>\n",
              "      <td>0</td>\n",
              "      <td>0</td>\n",
              "      <td>0</td>\n",
              "      <td>0</td>\n",
              "      <td>0</td>\n",
              "      <td>0</td>\n",
              "      <td>0</td>\n",
              "      <td>0</td>\n",
              "      <td>0</td>\n",
              "      <td>0</td>\n",
              "      <td>0</td>\n",
              "      <td>0</td>\n",
              "      <td>0</td>\n",
              "      <td>0</td>\n",
              "      <td>0</td>\n",
              "      <td>0</td>\n",
              "      <td>0</td>\n",
              "      <td>0</td>\n",
              "      <td>0</td>\n",
              "      <td>0</td>\n",
              "      <td>0</td>\n",
              "      <td>0</td>\n",
              "      <td>0</td>\n",
              "      <td>0</td>\n",
              "      <td>0</td>\n",
              "      <td>0</td>\n",
              "      <td>0</td>\n",
              "      <td>0</td>\n",
              "      <td>46</td>\n",
              "      <td>0</td>\n",
              "    </tr>\n",
              "    <tr>\n",
              "      <th>1</th>\n",
              "      <td>0</td>\n",
              "      <td>0</td>\n",
              "      <td>0</td>\n",
              "      <td>0</td>\n",
              "      <td>0</td>\n",
              "      <td>0</td>\n",
              "      <td>0</td>\n",
              "      <td>0</td>\n",
              "      <td>0</td>\n",
              "      <td>0</td>\n",
              "      <td>0</td>\n",
              "      <td>0</td>\n",
              "      <td>0</td>\n",
              "      <td>0</td>\n",
              "      <td>0</td>\n",
              "      <td>0</td>\n",
              "      <td>0</td>\n",
              "      <td>0</td>\n",
              "      <td>0</td>\n",
              "      <td>0</td>\n",
              "      <td>0</td>\n",
              "      <td>0</td>\n",
              "      <td>0</td>\n",
              "      <td>0</td>\n",
              "      <td>0</td>\n",
              "      <td>0</td>\n",
              "      <td>0</td>\n",
              "      <td>0</td>\n",
              "      <td>0</td>\n",
              "      <td>0</td>\n",
              "      <td>0</td>\n",
              "      <td>0</td>\n",
              "      <td>0</td>\n",
              "      <td>0</td>\n",
              "      <td>0</td>\n",
              "      <td>0</td>\n",
              "      <td>0</td>\n",
              "      <td>0</td>\n",
              "      <td>0</td>\n",
              "      <td>0</td>\n",
              "      <td>...</td>\n",
              "      <td>0</td>\n",
              "      <td>0</td>\n",
              "      <td>0</td>\n",
              "      <td>0</td>\n",
              "      <td>0</td>\n",
              "      <td>0</td>\n",
              "      <td>0</td>\n",
              "      <td>0</td>\n",
              "      <td>0</td>\n",
              "      <td>0</td>\n",
              "      <td>0</td>\n",
              "      <td>0</td>\n",
              "      <td>0</td>\n",
              "      <td>0</td>\n",
              "      <td>0</td>\n",
              "      <td>0</td>\n",
              "      <td>0</td>\n",
              "      <td>0</td>\n",
              "      <td>0</td>\n",
              "      <td>0</td>\n",
              "      <td>0</td>\n",
              "      <td>0</td>\n",
              "      <td>0</td>\n",
              "      <td>0</td>\n",
              "      <td>0</td>\n",
              "      <td>0</td>\n",
              "      <td>0</td>\n",
              "      <td>0</td>\n",
              "      <td>0</td>\n",
              "      <td>0</td>\n",
              "      <td>0</td>\n",
              "      <td>0</td>\n",
              "      <td>0</td>\n",
              "      <td>0</td>\n",
              "      <td>0</td>\n",
              "      <td>0</td>\n",
              "      <td>0</td>\n",
              "      <td>0</td>\n",
              "      <td>73</td>\n",
              "      <td>0</td>\n",
              "    </tr>\n",
              "    <tr>\n",
              "      <th>2</th>\n",
              "      <td>0</td>\n",
              "      <td>0</td>\n",
              "      <td>0</td>\n",
              "      <td>0</td>\n",
              "      <td>0</td>\n",
              "      <td>0</td>\n",
              "      <td>0</td>\n",
              "      <td>0</td>\n",
              "      <td>0</td>\n",
              "      <td>0</td>\n",
              "      <td>0</td>\n",
              "      <td>0</td>\n",
              "      <td>0</td>\n",
              "      <td>0</td>\n",
              "      <td>0</td>\n",
              "      <td>0</td>\n",
              "      <td>0</td>\n",
              "      <td>0</td>\n",
              "      <td>0</td>\n",
              "      <td>0</td>\n",
              "      <td>0</td>\n",
              "      <td>0</td>\n",
              "      <td>0</td>\n",
              "      <td>0</td>\n",
              "      <td>0</td>\n",
              "      <td>0</td>\n",
              "      <td>0</td>\n",
              "      <td>0</td>\n",
              "      <td>0</td>\n",
              "      <td>0</td>\n",
              "      <td>0</td>\n",
              "      <td>0</td>\n",
              "      <td>0</td>\n",
              "      <td>0</td>\n",
              "      <td>0</td>\n",
              "      <td>0</td>\n",
              "      <td>0</td>\n",
              "      <td>0</td>\n",
              "      <td>0</td>\n",
              "      <td>0</td>\n",
              "      <td>...</td>\n",
              "      <td>0</td>\n",
              "      <td>0</td>\n",
              "      <td>0</td>\n",
              "      <td>0</td>\n",
              "      <td>0</td>\n",
              "      <td>0</td>\n",
              "      <td>0</td>\n",
              "      <td>0</td>\n",
              "      <td>0</td>\n",
              "      <td>0</td>\n",
              "      <td>0</td>\n",
              "      <td>0</td>\n",
              "      <td>0</td>\n",
              "      <td>0</td>\n",
              "      <td>0</td>\n",
              "      <td>0</td>\n",
              "      <td>0</td>\n",
              "      <td>0</td>\n",
              "      <td>0</td>\n",
              "      <td>0</td>\n",
              "      <td>0</td>\n",
              "      <td>0</td>\n",
              "      <td>0</td>\n",
              "      <td>0</td>\n",
              "      <td>0</td>\n",
              "      <td>0</td>\n",
              "      <td>0</td>\n",
              "      <td>0</td>\n",
              "      <td>0</td>\n",
              "      <td>0</td>\n",
              "      <td>0</td>\n",
              "      <td>0</td>\n",
              "      <td>0</td>\n",
              "      <td>0</td>\n",
              "      <td>0</td>\n",
              "      <td>0</td>\n",
              "      <td>0</td>\n",
              "      <td>0</td>\n",
              "      <td>14</td>\n",
              "      <td>0</td>\n",
              "    </tr>\n",
              "    <tr>\n",
              "      <th>3</th>\n",
              "      <td>0</td>\n",
              "      <td>0</td>\n",
              "      <td>0</td>\n",
              "      <td>0</td>\n",
              "      <td>0</td>\n",
              "      <td>0</td>\n",
              "      <td>0</td>\n",
              "      <td>0</td>\n",
              "      <td>0</td>\n",
              "      <td>0</td>\n",
              "      <td>0</td>\n",
              "      <td>0</td>\n",
              "      <td>0</td>\n",
              "      <td>0</td>\n",
              "      <td>0</td>\n",
              "      <td>0</td>\n",
              "      <td>0</td>\n",
              "      <td>0</td>\n",
              "      <td>0</td>\n",
              "      <td>0</td>\n",
              "      <td>0</td>\n",
              "      <td>0</td>\n",
              "      <td>0</td>\n",
              "      <td>0</td>\n",
              "      <td>0</td>\n",
              "      <td>0</td>\n",
              "      <td>0</td>\n",
              "      <td>0</td>\n",
              "      <td>0</td>\n",
              "      <td>0</td>\n",
              "      <td>0</td>\n",
              "      <td>0</td>\n",
              "      <td>0</td>\n",
              "      <td>0</td>\n",
              "      <td>0</td>\n",
              "      <td>0</td>\n",
              "      <td>0</td>\n",
              "      <td>0</td>\n",
              "      <td>0</td>\n",
              "      <td>0</td>\n",
              "      <td>...</td>\n",
              "      <td>0</td>\n",
              "      <td>0</td>\n",
              "      <td>0</td>\n",
              "      <td>0</td>\n",
              "      <td>0</td>\n",
              "      <td>0</td>\n",
              "      <td>0</td>\n",
              "      <td>0</td>\n",
              "      <td>0</td>\n",
              "      <td>0</td>\n",
              "      <td>0</td>\n",
              "      <td>0</td>\n",
              "      <td>0</td>\n",
              "      <td>0</td>\n",
              "      <td>0</td>\n",
              "      <td>0</td>\n",
              "      <td>0</td>\n",
              "      <td>0</td>\n",
              "      <td>0</td>\n",
              "      <td>0</td>\n",
              "      <td>0</td>\n",
              "      <td>0</td>\n",
              "      <td>0</td>\n",
              "      <td>0</td>\n",
              "      <td>0</td>\n",
              "      <td>0</td>\n",
              "      <td>0</td>\n",
              "      <td>0</td>\n",
              "      <td>0</td>\n",
              "      <td>0</td>\n",
              "      <td>0</td>\n",
              "      <td>0</td>\n",
              "      <td>0</td>\n",
              "      <td>0</td>\n",
              "      <td>0</td>\n",
              "      <td>0</td>\n",
              "      <td>0</td>\n",
              "      <td>0</td>\n",
              "      <td>28</td>\n",
              "      <td>0</td>\n",
              "    </tr>\n",
              "    <tr>\n",
              "      <th>4</th>\n",
              "      <td>0</td>\n",
              "      <td>0</td>\n",
              "      <td>0</td>\n",
              "      <td>0</td>\n",
              "      <td>0</td>\n",
              "      <td>0</td>\n",
              "      <td>0</td>\n",
              "      <td>0</td>\n",
              "      <td>0</td>\n",
              "      <td>0</td>\n",
              "      <td>0</td>\n",
              "      <td>0</td>\n",
              "      <td>0</td>\n",
              "      <td>0</td>\n",
              "      <td>0</td>\n",
              "      <td>0</td>\n",
              "      <td>0</td>\n",
              "      <td>0</td>\n",
              "      <td>0</td>\n",
              "      <td>0</td>\n",
              "      <td>0</td>\n",
              "      <td>0</td>\n",
              "      <td>0</td>\n",
              "      <td>0</td>\n",
              "      <td>0</td>\n",
              "      <td>0</td>\n",
              "      <td>0</td>\n",
              "      <td>0</td>\n",
              "      <td>0</td>\n",
              "      <td>0</td>\n",
              "      <td>0</td>\n",
              "      <td>0</td>\n",
              "      <td>0</td>\n",
              "      <td>0</td>\n",
              "      <td>0</td>\n",
              "      <td>0</td>\n",
              "      <td>0</td>\n",
              "      <td>0</td>\n",
              "      <td>0</td>\n",
              "      <td>0</td>\n",
              "      <td>...</td>\n",
              "      <td>0</td>\n",
              "      <td>0</td>\n",
              "      <td>0</td>\n",
              "      <td>0</td>\n",
              "      <td>0</td>\n",
              "      <td>0</td>\n",
              "      <td>0</td>\n",
              "      <td>0</td>\n",
              "      <td>0</td>\n",
              "      <td>0</td>\n",
              "      <td>0</td>\n",
              "      <td>0</td>\n",
              "      <td>0</td>\n",
              "      <td>0</td>\n",
              "      <td>0</td>\n",
              "      <td>0</td>\n",
              "      <td>0</td>\n",
              "      <td>0</td>\n",
              "      <td>0</td>\n",
              "      <td>0</td>\n",
              "      <td>0</td>\n",
              "      <td>0</td>\n",
              "      <td>0</td>\n",
              "      <td>0</td>\n",
              "      <td>0</td>\n",
              "      <td>0</td>\n",
              "      <td>0</td>\n",
              "      <td>0</td>\n",
              "      <td>0</td>\n",
              "      <td>0</td>\n",
              "      <td>0</td>\n",
              "      <td>0</td>\n",
              "      <td>0</td>\n",
              "      <td>0</td>\n",
              "      <td>0</td>\n",
              "      <td>0</td>\n",
              "      <td>0</td>\n",
              "      <td>0</td>\n",
              "      <td>24</td>\n",
              "      <td>0</td>\n",
              "    </tr>\n",
              "  </tbody>\n",
              "</table>\n",
              "<p>5 rows × 1002 columns</p>\n",
              "</div>"
            ],
            "text/plain": [
              "   0  1  2  3  4  5  6  7  ...  994  995  996  997  998  999  length_tweet  label\n",
              "0  0  0  0  0  0  0  0  0  ...    0    0    0    0    0    0            46      0\n",
              "1  0  0  0  0  0  0  0  0  ...    0    0    0    0    0    0            73      0\n",
              "2  0  0  0  0  0  0  0  0  ...    0    0    0    0    0    0            14      0\n",
              "3  0  0  0  0  0  0  0  0  ...    0    0    0    0    0    0            28      0\n",
              "4  0  0  0  0  0  0  0  0  ...    0    0    0    0    0    0            24      0\n",
              "\n",
              "[5 rows x 1002 columns]"
            ]
          },
          "metadata": {
            "tags": []
          },
          "execution_count": 15
        }
      ]
    },
    {
      "cell_type": "markdown",
      "metadata": {
        "id": "snfas7BtthC3",
        "colab_type": "text"
      },
      "source": [
        "### TF-IDF Features (Bi-Grams)"
      ]
    },
    {
      "cell_type": "code",
      "metadata": {
        "id": "tI0wLzBwcjHx",
        "colab_type": "code",
        "colab": {
          "base_uri": "https://localhost:8080/",
          "height": 292
        },
        "outputId": "2dca9b1e-7675-4179-bb9f-86047d4d1592"
      },
      "source": [
        "tfidf=TfidfVectorizer(ngram_range=(1, 2),min_df=2,max_features=1000)\n",
        "tfidf.fit(df['preprocess_tweet'])\n",
        "tfidf_df=tfidf.transform(df['preprocess_tweet']).toarray()\n",
        "print('number of uniqe words',bow_df.shape[1])\n",
        "print('shape',tfidf_df.shape)\n",
        "tfidf_train=pd.DataFrame(tfidf_df)\n",
        "tfidf_train['length_tweet']=df['length_tweet']\n",
        "tfidf_train['label']=df['label']\n",
        "tfidf_train.head()"
      ],
      "execution_count": 16,
      "outputs": [
        {
          "output_type": "stream",
          "text": [
            "number of uniqe words 1000\n",
            "shape (31962, 1000)\n"
          ],
          "name": "stdout"
        },
        {
          "output_type": "execute_result",
          "data": {
            "text/html": [
              "<div>\n",
              "<style scoped>\n",
              "    .dataframe tbody tr th:only-of-type {\n",
              "        vertical-align: middle;\n",
              "    }\n",
              "\n",
              "    .dataframe tbody tr th {\n",
              "        vertical-align: top;\n",
              "    }\n",
              "\n",
              "    .dataframe thead th {\n",
              "        text-align: right;\n",
              "    }\n",
              "</style>\n",
              "<table border=\"1\" class=\"dataframe\">\n",
              "  <thead>\n",
              "    <tr style=\"text-align: right;\">\n",
              "      <th></th>\n",
              "      <th>0</th>\n",
              "      <th>1</th>\n",
              "      <th>2</th>\n",
              "      <th>3</th>\n",
              "      <th>4</th>\n",
              "      <th>5</th>\n",
              "      <th>6</th>\n",
              "      <th>7</th>\n",
              "      <th>8</th>\n",
              "      <th>9</th>\n",
              "      <th>10</th>\n",
              "      <th>11</th>\n",
              "      <th>12</th>\n",
              "      <th>13</th>\n",
              "      <th>14</th>\n",
              "      <th>15</th>\n",
              "      <th>16</th>\n",
              "      <th>17</th>\n",
              "      <th>18</th>\n",
              "      <th>19</th>\n",
              "      <th>20</th>\n",
              "      <th>21</th>\n",
              "      <th>22</th>\n",
              "      <th>23</th>\n",
              "      <th>24</th>\n",
              "      <th>25</th>\n",
              "      <th>26</th>\n",
              "      <th>27</th>\n",
              "      <th>28</th>\n",
              "      <th>29</th>\n",
              "      <th>30</th>\n",
              "      <th>31</th>\n",
              "      <th>32</th>\n",
              "      <th>33</th>\n",
              "      <th>34</th>\n",
              "      <th>35</th>\n",
              "      <th>36</th>\n",
              "      <th>37</th>\n",
              "      <th>38</th>\n",
              "      <th>39</th>\n",
              "      <th>...</th>\n",
              "      <th>962</th>\n",
              "      <th>963</th>\n",
              "      <th>964</th>\n",
              "      <th>965</th>\n",
              "      <th>966</th>\n",
              "      <th>967</th>\n",
              "      <th>968</th>\n",
              "      <th>969</th>\n",
              "      <th>970</th>\n",
              "      <th>971</th>\n",
              "      <th>972</th>\n",
              "      <th>973</th>\n",
              "      <th>974</th>\n",
              "      <th>975</th>\n",
              "      <th>976</th>\n",
              "      <th>977</th>\n",
              "      <th>978</th>\n",
              "      <th>979</th>\n",
              "      <th>980</th>\n",
              "      <th>981</th>\n",
              "      <th>982</th>\n",
              "      <th>983</th>\n",
              "      <th>984</th>\n",
              "      <th>985</th>\n",
              "      <th>986</th>\n",
              "      <th>987</th>\n",
              "      <th>988</th>\n",
              "      <th>989</th>\n",
              "      <th>990</th>\n",
              "      <th>991</th>\n",
              "      <th>992</th>\n",
              "      <th>993</th>\n",
              "      <th>994</th>\n",
              "      <th>995</th>\n",
              "      <th>996</th>\n",
              "      <th>997</th>\n",
              "      <th>998</th>\n",
              "      <th>999</th>\n",
              "      <th>length_tweet</th>\n",
              "      <th>label</th>\n",
              "    </tr>\n",
              "  </thead>\n",
              "  <tbody>\n",
              "    <tr>\n",
              "      <th>0</th>\n",
              "      <td>0.0</td>\n",
              "      <td>0.0</td>\n",
              "      <td>0.0</td>\n",
              "      <td>0.0</td>\n",
              "      <td>0.0</td>\n",
              "      <td>0.0</td>\n",
              "      <td>0.0</td>\n",
              "      <td>0.0</td>\n",
              "      <td>0.0</td>\n",
              "      <td>0.0</td>\n",
              "      <td>0.0</td>\n",
              "      <td>0.0</td>\n",
              "      <td>0.0</td>\n",
              "      <td>0.0</td>\n",
              "      <td>0.0</td>\n",
              "      <td>0.0</td>\n",
              "      <td>0.0</td>\n",
              "      <td>0.0</td>\n",
              "      <td>0.0</td>\n",
              "      <td>0.0</td>\n",
              "      <td>0.0</td>\n",
              "      <td>0.0</td>\n",
              "      <td>0.0</td>\n",
              "      <td>0.0</td>\n",
              "      <td>0.0</td>\n",
              "      <td>0.0</td>\n",
              "      <td>0.0</td>\n",
              "      <td>0.0</td>\n",
              "      <td>0.0</td>\n",
              "      <td>0.0</td>\n",
              "      <td>0.0</td>\n",
              "      <td>0.0</td>\n",
              "      <td>0.0</td>\n",
              "      <td>0.0</td>\n",
              "      <td>0.0</td>\n",
              "      <td>0.0</td>\n",
              "      <td>0.0</td>\n",
              "      <td>0.0</td>\n",
              "      <td>0.0</td>\n",
              "      <td>0.0</td>\n",
              "      <td>...</td>\n",
              "      <td>0.0</td>\n",
              "      <td>0.0</td>\n",
              "      <td>0.0</td>\n",
              "      <td>0.0</td>\n",
              "      <td>0.0</td>\n",
              "      <td>0.0</td>\n",
              "      <td>0.0</td>\n",
              "      <td>0.0</td>\n",
              "      <td>0.0</td>\n",
              "      <td>0.0</td>\n",
              "      <td>0.0</td>\n",
              "      <td>0.0</td>\n",
              "      <td>0.0</td>\n",
              "      <td>0.0</td>\n",
              "      <td>0.0</td>\n",
              "      <td>0.0</td>\n",
              "      <td>0.0</td>\n",
              "      <td>0.0</td>\n",
              "      <td>0.0</td>\n",
              "      <td>0.0</td>\n",
              "      <td>0.0</td>\n",
              "      <td>0.0</td>\n",
              "      <td>0.0</td>\n",
              "      <td>0.0</td>\n",
              "      <td>0.0</td>\n",
              "      <td>0.0</td>\n",
              "      <td>0.0</td>\n",
              "      <td>0.0</td>\n",
              "      <td>0.0</td>\n",
              "      <td>0.0</td>\n",
              "      <td>0.0</td>\n",
              "      <td>0.0</td>\n",
              "      <td>0.0</td>\n",
              "      <td>0.0</td>\n",
              "      <td>0.0</td>\n",
              "      <td>0.0</td>\n",
              "      <td>0.0</td>\n",
              "      <td>0.0</td>\n",
              "      <td>46</td>\n",
              "      <td>0</td>\n",
              "    </tr>\n",
              "    <tr>\n",
              "      <th>1</th>\n",
              "      <td>0.0</td>\n",
              "      <td>0.0</td>\n",
              "      <td>0.0</td>\n",
              "      <td>0.0</td>\n",
              "      <td>0.0</td>\n",
              "      <td>0.0</td>\n",
              "      <td>0.0</td>\n",
              "      <td>0.0</td>\n",
              "      <td>0.0</td>\n",
              "      <td>0.0</td>\n",
              "      <td>0.0</td>\n",
              "      <td>0.0</td>\n",
              "      <td>0.0</td>\n",
              "      <td>0.0</td>\n",
              "      <td>0.0</td>\n",
              "      <td>0.0</td>\n",
              "      <td>0.0</td>\n",
              "      <td>0.0</td>\n",
              "      <td>0.0</td>\n",
              "      <td>0.0</td>\n",
              "      <td>0.0</td>\n",
              "      <td>0.0</td>\n",
              "      <td>0.0</td>\n",
              "      <td>0.0</td>\n",
              "      <td>0.0</td>\n",
              "      <td>0.0</td>\n",
              "      <td>0.0</td>\n",
              "      <td>0.0</td>\n",
              "      <td>0.0</td>\n",
              "      <td>0.0</td>\n",
              "      <td>0.0</td>\n",
              "      <td>0.0</td>\n",
              "      <td>0.0</td>\n",
              "      <td>0.0</td>\n",
              "      <td>0.0</td>\n",
              "      <td>0.0</td>\n",
              "      <td>0.0</td>\n",
              "      <td>0.0</td>\n",
              "      <td>0.0</td>\n",
              "      <td>0.0</td>\n",
              "      <td>...</td>\n",
              "      <td>0.0</td>\n",
              "      <td>0.0</td>\n",
              "      <td>0.0</td>\n",
              "      <td>0.0</td>\n",
              "      <td>0.0</td>\n",
              "      <td>0.0</td>\n",
              "      <td>0.0</td>\n",
              "      <td>0.0</td>\n",
              "      <td>0.0</td>\n",
              "      <td>0.0</td>\n",
              "      <td>0.0</td>\n",
              "      <td>0.0</td>\n",
              "      <td>0.0</td>\n",
              "      <td>0.0</td>\n",
              "      <td>0.0</td>\n",
              "      <td>0.0</td>\n",
              "      <td>0.0</td>\n",
              "      <td>0.0</td>\n",
              "      <td>0.0</td>\n",
              "      <td>0.0</td>\n",
              "      <td>0.0</td>\n",
              "      <td>0.0</td>\n",
              "      <td>0.0</td>\n",
              "      <td>0.0</td>\n",
              "      <td>0.0</td>\n",
              "      <td>0.0</td>\n",
              "      <td>0.0</td>\n",
              "      <td>0.0</td>\n",
              "      <td>0.0</td>\n",
              "      <td>0.0</td>\n",
              "      <td>0.0</td>\n",
              "      <td>0.0</td>\n",
              "      <td>0.0</td>\n",
              "      <td>0.0</td>\n",
              "      <td>0.0</td>\n",
              "      <td>0.0</td>\n",
              "      <td>0.0</td>\n",
              "      <td>0.0</td>\n",
              "      <td>73</td>\n",
              "      <td>0</td>\n",
              "    </tr>\n",
              "    <tr>\n",
              "      <th>2</th>\n",
              "      <td>0.0</td>\n",
              "      <td>0.0</td>\n",
              "      <td>0.0</td>\n",
              "      <td>0.0</td>\n",
              "      <td>0.0</td>\n",
              "      <td>0.0</td>\n",
              "      <td>0.0</td>\n",
              "      <td>0.0</td>\n",
              "      <td>0.0</td>\n",
              "      <td>0.0</td>\n",
              "      <td>0.0</td>\n",
              "      <td>0.0</td>\n",
              "      <td>0.0</td>\n",
              "      <td>0.0</td>\n",
              "      <td>0.0</td>\n",
              "      <td>0.0</td>\n",
              "      <td>0.0</td>\n",
              "      <td>0.0</td>\n",
              "      <td>0.0</td>\n",
              "      <td>0.0</td>\n",
              "      <td>0.0</td>\n",
              "      <td>0.0</td>\n",
              "      <td>0.0</td>\n",
              "      <td>0.0</td>\n",
              "      <td>0.0</td>\n",
              "      <td>0.0</td>\n",
              "      <td>0.0</td>\n",
              "      <td>0.0</td>\n",
              "      <td>0.0</td>\n",
              "      <td>0.0</td>\n",
              "      <td>0.0</td>\n",
              "      <td>0.0</td>\n",
              "      <td>0.0</td>\n",
              "      <td>0.0</td>\n",
              "      <td>0.0</td>\n",
              "      <td>0.0</td>\n",
              "      <td>0.0</td>\n",
              "      <td>0.0</td>\n",
              "      <td>0.0</td>\n",
              "      <td>0.0</td>\n",
              "      <td>...</td>\n",
              "      <td>0.0</td>\n",
              "      <td>0.0</td>\n",
              "      <td>0.0</td>\n",
              "      <td>0.0</td>\n",
              "      <td>0.0</td>\n",
              "      <td>0.0</td>\n",
              "      <td>0.0</td>\n",
              "      <td>0.0</td>\n",
              "      <td>0.0</td>\n",
              "      <td>0.0</td>\n",
              "      <td>0.0</td>\n",
              "      <td>0.0</td>\n",
              "      <td>0.0</td>\n",
              "      <td>0.0</td>\n",
              "      <td>0.0</td>\n",
              "      <td>0.0</td>\n",
              "      <td>0.0</td>\n",
              "      <td>0.0</td>\n",
              "      <td>0.0</td>\n",
              "      <td>0.0</td>\n",
              "      <td>0.0</td>\n",
              "      <td>0.0</td>\n",
              "      <td>0.0</td>\n",
              "      <td>0.0</td>\n",
              "      <td>0.0</td>\n",
              "      <td>0.0</td>\n",
              "      <td>0.0</td>\n",
              "      <td>0.0</td>\n",
              "      <td>0.0</td>\n",
              "      <td>0.0</td>\n",
              "      <td>0.0</td>\n",
              "      <td>0.0</td>\n",
              "      <td>0.0</td>\n",
              "      <td>0.0</td>\n",
              "      <td>0.0</td>\n",
              "      <td>0.0</td>\n",
              "      <td>0.0</td>\n",
              "      <td>0.0</td>\n",
              "      <td>14</td>\n",
              "      <td>0</td>\n",
              "    </tr>\n",
              "    <tr>\n",
              "      <th>3</th>\n",
              "      <td>0.0</td>\n",
              "      <td>0.0</td>\n",
              "      <td>0.0</td>\n",
              "      <td>0.0</td>\n",
              "      <td>0.0</td>\n",
              "      <td>0.0</td>\n",
              "      <td>0.0</td>\n",
              "      <td>0.0</td>\n",
              "      <td>0.0</td>\n",
              "      <td>0.0</td>\n",
              "      <td>0.0</td>\n",
              "      <td>0.0</td>\n",
              "      <td>0.0</td>\n",
              "      <td>0.0</td>\n",
              "      <td>0.0</td>\n",
              "      <td>0.0</td>\n",
              "      <td>0.0</td>\n",
              "      <td>0.0</td>\n",
              "      <td>0.0</td>\n",
              "      <td>0.0</td>\n",
              "      <td>0.0</td>\n",
              "      <td>0.0</td>\n",
              "      <td>0.0</td>\n",
              "      <td>0.0</td>\n",
              "      <td>0.0</td>\n",
              "      <td>0.0</td>\n",
              "      <td>0.0</td>\n",
              "      <td>0.0</td>\n",
              "      <td>0.0</td>\n",
              "      <td>0.0</td>\n",
              "      <td>0.0</td>\n",
              "      <td>0.0</td>\n",
              "      <td>0.0</td>\n",
              "      <td>0.0</td>\n",
              "      <td>0.0</td>\n",
              "      <td>0.0</td>\n",
              "      <td>0.0</td>\n",
              "      <td>0.0</td>\n",
              "      <td>0.0</td>\n",
              "      <td>0.0</td>\n",
              "      <td>...</td>\n",
              "      <td>0.0</td>\n",
              "      <td>0.0</td>\n",
              "      <td>0.0</td>\n",
              "      <td>0.0</td>\n",
              "      <td>0.0</td>\n",
              "      <td>0.0</td>\n",
              "      <td>0.0</td>\n",
              "      <td>0.0</td>\n",
              "      <td>0.0</td>\n",
              "      <td>0.0</td>\n",
              "      <td>0.0</td>\n",
              "      <td>0.0</td>\n",
              "      <td>0.0</td>\n",
              "      <td>0.0</td>\n",
              "      <td>0.0</td>\n",
              "      <td>0.0</td>\n",
              "      <td>0.0</td>\n",
              "      <td>0.0</td>\n",
              "      <td>0.0</td>\n",
              "      <td>0.0</td>\n",
              "      <td>0.0</td>\n",
              "      <td>0.0</td>\n",
              "      <td>0.0</td>\n",
              "      <td>0.0</td>\n",
              "      <td>0.0</td>\n",
              "      <td>0.0</td>\n",
              "      <td>0.0</td>\n",
              "      <td>0.0</td>\n",
              "      <td>0.0</td>\n",
              "      <td>0.0</td>\n",
              "      <td>0.0</td>\n",
              "      <td>0.0</td>\n",
              "      <td>0.0</td>\n",
              "      <td>0.0</td>\n",
              "      <td>0.0</td>\n",
              "      <td>0.0</td>\n",
              "      <td>0.0</td>\n",
              "      <td>0.0</td>\n",
              "      <td>28</td>\n",
              "      <td>0</td>\n",
              "    </tr>\n",
              "    <tr>\n",
              "      <th>4</th>\n",
              "      <td>0.0</td>\n",
              "      <td>0.0</td>\n",
              "      <td>0.0</td>\n",
              "      <td>0.0</td>\n",
              "      <td>0.0</td>\n",
              "      <td>0.0</td>\n",
              "      <td>0.0</td>\n",
              "      <td>0.0</td>\n",
              "      <td>0.0</td>\n",
              "      <td>0.0</td>\n",
              "      <td>0.0</td>\n",
              "      <td>0.0</td>\n",
              "      <td>0.0</td>\n",
              "      <td>0.0</td>\n",
              "      <td>0.0</td>\n",
              "      <td>0.0</td>\n",
              "      <td>0.0</td>\n",
              "      <td>0.0</td>\n",
              "      <td>0.0</td>\n",
              "      <td>0.0</td>\n",
              "      <td>0.0</td>\n",
              "      <td>0.0</td>\n",
              "      <td>0.0</td>\n",
              "      <td>0.0</td>\n",
              "      <td>0.0</td>\n",
              "      <td>0.0</td>\n",
              "      <td>0.0</td>\n",
              "      <td>0.0</td>\n",
              "      <td>0.0</td>\n",
              "      <td>0.0</td>\n",
              "      <td>0.0</td>\n",
              "      <td>0.0</td>\n",
              "      <td>0.0</td>\n",
              "      <td>0.0</td>\n",
              "      <td>0.0</td>\n",
              "      <td>0.0</td>\n",
              "      <td>0.0</td>\n",
              "      <td>0.0</td>\n",
              "      <td>0.0</td>\n",
              "      <td>0.0</td>\n",
              "      <td>...</td>\n",
              "      <td>0.0</td>\n",
              "      <td>0.0</td>\n",
              "      <td>0.0</td>\n",
              "      <td>0.0</td>\n",
              "      <td>0.0</td>\n",
              "      <td>0.0</td>\n",
              "      <td>0.0</td>\n",
              "      <td>0.0</td>\n",
              "      <td>0.0</td>\n",
              "      <td>0.0</td>\n",
              "      <td>0.0</td>\n",
              "      <td>0.0</td>\n",
              "      <td>0.0</td>\n",
              "      <td>0.0</td>\n",
              "      <td>0.0</td>\n",
              "      <td>0.0</td>\n",
              "      <td>0.0</td>\n",
              "      <td>0.0</td>\n",
              "      <td>0.0</td>\n",
              "      <td>0.0</td>\n",
              "      <td>0.0</td>\n",
              "      <td>0.0</td>\n",
              "      <td>0.0</td>\n",
              "      <td>0.0</td>\n",
              "      <td>0.0</td>\n",
              "      <td>0.0</td>\n",
              "      <td>0.0</td>\n",
              "      <td>0.0</td>\n",
              "      <td>0.0</td>\n",
              "      <td>0.0</td>\n",
              "      <td>0.0</td>\n",
              "      <td>0.0</td>\n",
              "      <td>0.0</td>\n",
              "      <td>0.0</td>\n",
              "      <td>0.0</td>\n",
              "      <td>0.0</td>\n",
              "      <td>0.0</td>\n",
              "      <td>0.0</td>\n",
              "      <td>24</td>\n",
              "      <td>0</td>\n",
              "    </tr>\n",
              "  </tbody>\n",
              "</table>\n",
              "<p>5 rows × 1002 columns</p>\n",
              "</div>"
            ],
            "text/plain": [
              "     0    1    2    3    4    5  ...  996  997  998  999  length_tweet  label\n",
              "0  0.0  0.0  0.0  0.0  0.0  0.0  ...  0.0  0.0  0.0  0.0            46      0\n",
              "1  0.0  0.0  0.0  0.0  0.0  0.0  ...  0.0  0.0  0.0  0.0            73      0\n",
              "2  0.0  0.0  0.0  0.0  0.0  0.0  ...  0.0  0.0  0.0  0.0            14      0\n",
              "3  0.0  0.0  0.0  0.0  0.0  0.0  ...  0.0  0.0  0.0  0.0            28      0\n",
              "4  0.0  0.0  0.0  0.0  0.0  0.0  ...  0.0  0.0  0.0  0.0            24      0\n",
              "\n",
              "[5 rows x 1002 columns]"
            ]
          },
          "metadata": {
            "tags": []
          },
          "execution_count": 16
        }
      ]
    },
    {
      "cell_type": "markdown",
      "metadata": {
        "id": "vVnvNDOSwkNw",
        "colab_type": "text"
      },
      "source": [
        "###Word2vec\n",
        "__size:__ The number of dimensions of the embeddings and the default is 100.\n",
        "\n",
        "__window:__ The maximum distance between a target word and words around the target word. The default window is 5.\n",
        "\n",
        "__min_count:__ The minimum count of words to consider when training the model; words with occurrence less than this count will be ignored. The default for min_count is 5.\n",
        "\n",
        "__workers:__ The number of partitions during training and the default workers is 3.\n",
        "\n",
        "__sg:__ The training algorithm, either CBOW(0) or skip gram(1). The default training algorithm is CBOW."
      ]
    },
    {
      "cell_type": "code",
      "metadata": {
        "id": "ktHTDqEUxvOd",
        "colab_type": "code",
        "colab": {
          "base_uri": "https://localhost:8080/",
          "height": 35
        },
        "outputId": "1282afce-b45d-49bc-a9e4-440c3333564d"
      },
      "source": [
        "tokenize=df['preprocess_tweet'].apply(lambda x: x.split())\n",
        "w2vec_model=gensim.models.Word2Vec(tokenize,min_count = 1, size = 100, window = 5, sg = 1)\n",
        "w2vec_model.train(tokenize,total_examples= len(df['preprocess_tweet']),epochs=20)"
      ],
      "execution_count": 17,
      "outputs": [
        {
          "output_type": "execute_result",
          "data": {
            "text/plain": [
              "(4813662, 5011220)"
            ]
          },
          "metadata": {
            "tags": []
          },
          "execution_count": 17
        }
      ]
    },
    {
      "cell_type": "code",
      "metadata": {
        "id": "irG-nBTh5yvX",
        "colab_type": "code",
        "colab": {
          "base_uri": "https://localhost:8080/",
          "height": 201
        },
        "outputId": "3f95da00-df8c-4acc-bd6b-1bc5d0719070"
      },
      "source": [
        "w2vec_model.most_similar('father')"
      ],
      "execution_count": 18,
      "outputs": [
        {
          "output_type": "execute_result",
          "data": {
            "text/plain": [
              "[('#fathersday', 0.7850511074066162),\n",
              " ('dad', 0.7521795034408569),\n",
              " ('#dad', 0.7398676872253418),\n",
              " ('#father', 0.7331924438476562),\n",
              " ('fathersday', 0.7148988246917725),\n",
              " ('papa', 0.710792064666748),\n",
              " ('#hackney', 0.6768671274185181),\n",
              " ('hrithik', 0.6764564514160156),\n",
              " ('#daddi', 0.6736965179443359),\n",
              " ('#felizdiadelpadr', 0.6735095381736755)]"
            ]
          },
          "metadata": {
            "tags": []
          },
          "execution_count": 18
        }
      ]
    },
    {
      "cell_type": "code",
      "metadata": {
        "id": "JY1phcBQ9H09",
        "colab_type": "code",
        "colab": {
          "base_uri": "https://localhost:8080/",
          "height": 74
        },
        "outputId": "5caa321a-4ae6-40ab-e29a-174c7cb186af"
      },
      "source": [
        "w2v_words = list(w2vec_model.wv.vocab)\n",
        "print(\"number of words that occured minimum 5 times \",len(w2v_words))\n",
        "print(\"sample words \", w2v_words[0:50])"
      ],
      "execution_count": 19,
      "outputs": [
        {
          "output_type": "stream",
          "text": [
            "number of words that occured minimum 5 times  36842\n",
            "sample words  ['father', 'dysfunct', 'selfish', 'drag', 'kid', '#run', 'thank', '#lyft', 'credit', 'use', 'caus', 'offer', 'wheelchair', 'van', 'pdx', '#disapoint', '#getthank', 'bihday', 'majesti', '#model', 'love', 'u', 'take', 'time', 'ur', 'factsguid', 'societi', '#motiv', 'huge', 'fan', 'fare', 'big', 'talk', 'leav', 'chao', 'pay', 'disput', 'get', '#allshowandnogo', 'camp', 'tomorrow', 'danni', 'next', 'school', 'year', 'exam', 'think', '#school', '#exam', '#hate']\n"
          ],
          "name": "stdout"
        }
      ]
    },
    {
      "cell_type": "code",
      "metadata": {
        "id": "tO9YiOU19HyJ",
        "colab_type": "code",
        "colab": {
          "base_uri": "https://localhost:8080/",
          "height": 72
        },
        "outputId": "756a2a35-1164-4333-b008-30ec78923aa0"
      },
      "source": [
        "vector=[]\n",
        "from tqdm import tqdm\n",
        "for sent in tqdm(tokenize):\n",
        "  sent_vec=np.zeros(100)\n",
        "  count =0\n",
        "  for word in sent: \n",
        "    if word in w2v_words:\n",
        "      vec = w2vec_model.wv[word]\n",
        "      sent_vec += vec \n",
        "      count += 1\n",
        "  if count != 0:\n",
        "    sent_vec /= count #normalize\n",
        "  vector.append(sent_vec)\n",
        "print(len(vector))\n",
        "print(len(vector[0]))        "
      ],
      "execution_count": 21,
      "outputs": [
        {
          "output_type": "stream",
          "text": [
            "100%|██████████| 31962/31962 [00:23<00:00, 1376.07it/s]"
          ],
          "name": "stderr"
        },
        {
          "output_type": "stream",
          "text": [
            "31962\n",
            "100\n"
          ],
          "name": "stdout"
        },
        {
          "output_type": "stream",
          "text": [
            "\n"
          ],
          "name": "stderr"
        }
      ]
    },
    {
      "cell_type": "code",
      "metadata": {
        "id": "8dnm7AIHQZV0",
        "colab_type": "code",
        "colab": {
          "base_uri": "https://localhost:8080/",
          "height": 476
        },
        "outputId": "65bba06f-4cfb-4a7f-8c48-4e8e2d07e19b"
      },
      "source": [
        "#example\n",
        "l='father dysfunct selfish drag kid dysfunct'\n",
        "count=0\n",
        "vcc=np.zeros(100)\n",
        "for word in l:\n",
        "  if word in w2v_words:\n",
        "    v=w2vec_model.wv[word]\n",
        "    vcc+=v\n",
        "    count+=1\n",
        "vcc"
      ],
      "execution_count": 22,
      "outputs": [
        {
          "output_type": "execute_result",
          "data": {
            "text/plain": [
              "array([  0.91146523,   0.19254029,  -5.33413239,   1.77129817,\n",
              "         3.93843668,  -2.07992977,  -0.40524426,  11.83810888,\n",
              "        -4.79120433,  -1.82969081,   4.73461972,   3.30368719,\n",
              "       -13.09859578,  15.80826025,   1.53046007, -12.68571611,\n",
              "         8.36263441,   6.29655315,   0.92606603,   1.92379364,\n",
              "        -4.13300864,   0.88979801,  -2.32401064,   6.59359596,\n",
              "        -3.36224241,   7.18753285,   8.49213998,   4.75367435,\n",
              "        21.37358405,  -5.26452677,   2.99436364,  -3.46574163,\n",
              "        -8.2754163 ,  -3.92128712,   7.66723774,   3.03709563,\n",
              "        -4.56741019,   2.67773311,   2.44705757,   7.84918264,\n",
              "       -10.29537304, -10.46700041,   2.74154223,  -8.12427359,\n",
              "        13.18823193,  12.24374422,  -1.87443534,  15.19453245,\n",
              "         5.66711175,  16.97487455, -13.27168938,  -9.83208083,\n",
              "         7.40258518,  -6.98420832,  -7.12414303,   8.19903404,\n",
              "       -10.53523948,   8.87091764,  -7.79694048,   4.03617226,\n",
              "         8.59358842,   6.62909203,  10.59675463,  -5.33136314,\n",
              "       -10.46381125,   6.69054185, -11.99697267,   7.03941123,\n",
              "        -8.07251544,   3.54266782,   2.56590302,  -8.83850726,\n",
              "        -7.12371032,  -4.35939002,  -7.29442378, -14.31221112,\n",
              "       -14.45862933,  -5.46173335,   2.38489718,  -2.84350388,\n",
              "         8.20834357,   6.23576167,  -0.47916248,  -8.48871913,\n",
              "         4.90017756,   6.23322728, -15.76709158,  -2.11499437,\n",
              "       -19.72047988,   7.70427328,  -9.13389167,  10.27496818,\n",
              "        -4.77674974,  -1.94897728,  -7.12096034,  -4.71564086,\n",
              "        -0.87702771,   3.15800697, -15.20042363,  -9.61333981])"
            ]
          },
          "metadata": {
            "tags": []
          },
          "execution_count": 22
        }
      ]
    },
    {
      "cell_type": "code",
      "metadata": {
        "id": "PqDCPRDIOmYT",
        "colab_type": "code",
        "colab": {
          "base_uri": "https://localhost:8080/",
          "height": 274
        },
        "outputId": "556f8249-fe0c-4619-8017-04df4a5795a4"
      },
      "source": [
        "\n",
        "print('number of uniqe words',len(vector[1]))\n",
        "w2v_train=pd.DataFrame(vector)\n",
        "w2v_train['length_tweet']=df['length_tweet']\n",
        "w2v_train['label']=df['label']\n",
        "w2v_train.head()"
      ],
      "execution_count": 23,
      "outputs": [
        {
          "output_type": "stream",
          "text": [
            "number of uniqe words 100\n"
          ],
          "name": "stdout"
        },
        {
          "output_type": "execute_result",
          "data": {
            "text/html": [
              "<div>\n",
              "<style scoped>\n",
              "    .dataframe tbody tr th:only-of-type {\n",
              "        vertical-align: middle;\n",
              "    }\n",
              "\n",
              "    .dataframe tbody tr th {\n",
              "        vertical-align: top;\n",
              "    }\n",
              "\n",
              "    .dataframe thead th {\n",
              "        text-align: right;\n",
              "    }\n",
              "</style>\n",
              "<table border=\"1\" class=\"dataframe\">\n",
              "  <thead>\n",
              "    <tr style=\"text-align: right;\">\n",
              "      <th></th>\n",
              "      <th>0</th>\n",
              "      <th>1</th>\n",
              "      <th>2</th>\n",
              "      <th>3</th>\n",
              "      <th>4</th>\n",
              "      <th>5</th>\n",
              "      <th>6</th>\n",
              "      <th>7</th>\n",
              "      <th>8</th>\n",
              "      <th>9</th>\n",
              "      <th>10</th>\n",
              "      <th>11</th>\n",
              "      <th>12</th>\n",
              "      <th>13</th>\n",
              "      <th>14</th>\n",
              "      <th>15</th>\n",
              "      <th>16</th>\n",
              "      <th>17</th>\n",
              "      <th>18</th>\n",
              "      <th>19</th>\n",
              "      <th>20</th>\n",
              "      <th>21</th>\n",
              "      <th>22</th>\n",
              "      <th>23</th>\n",
              "      <th>24</th>\n",
              "      <th>25</th>\n",
              "      <th>26</th>\n",
              "      <th>27</th>\n",
              "      <th>28</th>\n",
              "      <th>29</th>\n",
              "      <th>30</th>\n",
              "      <th>31</th>\n",
              "      <th>32</th>\n",
              "      <th>33</th>\n",
              "      <th>34</th>\n",
              "      <th>35</th>\n",
              "      <th>36</th>\n",
              "      <th>37</th>\n",
              "      <th>38</th>\n",
              "      <th>39</th>\n",
              "      <th>...</th>\n",
              "      <th>62</th>\n",
              "      <th>63</th>\n",
              "      <th>64</th>\n",
              "      <th>65</th>\n",
              "      <th>66</th>\n",
              "      <th>67</th>\n",
              "      <th>68</th>\n",
              "      <th>69</th>\n",
              "      <th>70</th>\n",
              "      <th>71</th>\n",
              "      <th>72</th>\n",
              "      <th>73</th>\n",
              "      <th>74</th>\n",
              "      <th>75</th>\n",
              "      <th>76</th>\n",
              "      <th>77</th>\n",
              "      <th>78</th>\n",
              "      <th>79</th>\n",
              "      <th>80</th>\n",
              "      <th>81</th>\n",
              "      <th>82</th>\n",
              "      <th>83</th>\n",
              "      <th>84</th>\n",
              "      <th>85</th>\n",
              "      <th>86</th>\n",
              "      <th>87</th>\n",
              "      <th>88</th>\n",
              "      <th>89</th>\n",
              "      <th>90</th>\n",
              "      <th>91</th>\n",
              "      <th>92</th>\n",
              "      <th>93</th>\n",
              "      <th>94</th>\n",
              "      <th>95</th>\n",
              "      <th>96</th>\n",
              "      <th>97</th>\n",
              "      <th>98</th>\n",
              "      <th>99</th>\n",
              "      <th>length_tweet</th>\n",
              "      <th>label</th>\n",
              "    </tr>\n",
              "  </thead>\n",
              "  <tbody>\n",
              "    <tr>\n",
              "      <th>0</th>\n",
              "      <td>-0.258498</td>\n",
              "      <td>-0.363275</td>\n",
              "      <td>-0.182613</td>\n",
              "      <td>0.114784</td>\n",
              "      <td>0.018073</td>\n",
              "      <td>-0.063409</td>\n",
              "      <td>0.340427</td>\n",
              "      <td>0.094704</td>\n",
              "      <td>0.194918</td>\n",
              "      <td>0.158666</td>\n",
              "      <td>0.657784</td>\n",
              "      <td>0.228584</td>\n",
              "      <td>-0.376127</td>\n",
              "      <td>0.156812</td>\n",
              "      <td>-0.330914</td>\n",
              "      <td>-0.126343</td>\n",
              "      <td>0.201187</td>\n",
              "      <td>-0.011972</td>\n",
              "      <td>-0.437127</td>\n",
              "      <td>-0.203495</td>\n",
              "      <td>0.107064</td>\n",
              "      <td>-0.079798</td>\n",
              "      <td>-0.154787</td>\n",
              "      <td>-0.080725</td>\n",
              "      <td>-0.041133</td>\n",
              "      <td>0.458095</td>\n",
              "      <td>-0.253720</td>\n",
              "      <td>0.210340</td>\n",
              "      <td>0.379523</td>\n",
              "      <td>-0.319876</td>\n",
              "      <td>0.221717</td>\n",
              "      <td>-0.361232</td>\n",
              "      <td>-0.018458</td>\n",
              "      <td>-0.001730</td>\n",
              "      <td>0.075320</td>\n",
              "      <td>0.096050</td>\n",
              "      <td>-0.273906</td>\n",
              "      <td>0.083476</td>\n",
              "      <td>-0.231442</td>\n",
              "      <td>0.098473</td>\n",
              "      <td>...</td>\n",
              "      <td>0.382450</td>\n",
              "      <td>0.177539</td>\n",
              "      <td>-0.302095</td>\n",
              "      <td>-0.088466</td>\n",
              "      <td>-0.220610</td>\n",
              "      <td>0.279996</td>\n",
              "      <td>-0.368313</td>\n",
              "      <td>-0.009138</td>\n",
              "      <td>0.161668</td>\n",
              "      <td>-0.136315</td>\n",
              "      <td>-0.102314</td>\n",
              "      <td>-0.198336</td>\n",
              "      <td>0.062777</td>\n",
              "      <td>-0.155959</td>\n",
              "      <td>-0.928972</td>\n",
              "      <td>0.126713</td>\n",
              "      <td>0.277651</td>\n",
              "      <td>-0.136796</td>\n",
              "      <td>-0.271792</td>\n",
              "      <td>0.287029</td>\n",
              "      <td>0.166319</td>\n",
              "      <td>-0.076897</td>\n",
              "      <td>0.206499</td>\n",
              "      <td>0.010580</td>\n",
              "      <td>-0.497806</td>\n",
              "      <td>-0.071477</td>\n",
              "      <td>0.025400</td>\n",
              "      <td>0.031300</td>\n",
              "      <td>-0.115399</td>\n",
              "      <td>0.575292</td>\n",
              "      <td>0.056156</td>\n",
              "      <td>0.255877</td>\n",
              "      <td>-0.180024</td>\n",
              "      <td>-0.037735</td>\n",
              "      <td>-0.118911</td>\n",
              "      <td>-0.195026</td>\n",
              "      <td>-0.312150</td>\n",
              "      <td>-0.958338</td>\n",
              "      <td>46</td>\n",
              "      <td>0</td>\n",
              "    </tr>\n",
              "    <tr>\n",
              "      <th>1</th>\n",
              "      <td>-0.053422</td>\n",
              "      <td>-0.258770</td>\n",
              "      <td>0.056477</td>\n",
              "      <td>0.497901</td>\n",
              "      <td>-0.113738</td>\n",
              "      <td>0.015618</td>\n",
              "      <td>-0.041178</td>\n",
              "      <td>0.194600</td>\n",
              "      <td>0.052603</td>\n",
              "      <td>-0.037233</td>\n",
              "      <td>0.130904</td>\n",
              "      <td>-0.160858</td>\n",
              "      <td>-0.225924</td>\n",
              "      <td>0.490282</td>\n",
              "      <td>0.002568</td>\n",
              "      <td>-0.106653</td>\n",
              "      <td>-0.030865</td>\n",
              "      <td>-0.013573</td>\n",
              "      <td>-0.121293</td>\n",
              "      <td>-0.240836</td>\n",
              "      <td>0.093321</td>\n",
              "      <td>-0.007004</td>\n",
              "      <td>-0.075903</td>\n",
              "      <td>0.191452</td>\n",
              "      <td>-0.145477</td>\n",
              "      <td>0.128534</td>\n",
              "      <td>0.109407</td>\n",
              "      <td>0.205624</td>\n",
              "      <td>0.337993</td>\n",
              "      <td>0.016516</td>\n",
              "      <td>0.036019</td>\n",
              "      <td>-0.032813</td>\n",
              "      <td>-0.278498</td>\n",
              "      <td>-0.067947</td>\n",
              "      <td>0.348615</td>\n",
              "      <td>0.067286</td>\n",
              "      <td>0.052527</td>\n",
              "      <td>-0.191579</td>\n",
              "      <td>-0.074194</td>\n",
              "      <td>0.210625</td>\n",
              "      <td>...</td>\n",
              "      <td>0.391175</td>\n",
              "      <td>0.457126</td>\n",
              "      <td>-0.369447</td>\n",
              "      <td>0.121294</td>\n",
              "      <td>-0.022755</td>\n",
              "      <td>-0.098587</td>\n",
              "      <td>-0.191753</td>\n",
              "      <td>-0.071790</td>\n",
              "      <td>0.066927</td>\n",
              "      <td>-0.278556</td>\n",
              "      <td>-0.279941</td>\n",
              "      <td>-0.024243</td>\n",
              "      <td>-0.264530</td>\n",
              "      <td>-0.062848</td>\n",
              "      <td>-0.412762</td>\n",
              "      <td>0.013867</td>\n",
              "      <td>-0.014928</td>\n",
              "      <td>-0.019720</td>\n",
              "      <td>-0.115466</td>\n",
              "      <td>-0.045108</td>\n",
              "      <td>0.136947</td>\n",
              "      <td>-0.051864</td>\n",
              "      <td>0.193095</td>\n",
              "      <td>0.273055</td>\n",
              "      <td>-0.135602</td>\n",
              "      <td>-0.041858</td>\n",
              "      <td>-0.231231</td>\n",
              "      <td>0.196460</td>\n",
              "      <td>-0.094322</td>\n",
              "      <td>0.273354</td>\n",
              "      <td>0.208360</td>\n",
              "      <td>0.162876</td>\n",
              "      <td>-0.195775</td>\n",
              "      <td>-0.202772</td>\n",
              "      <td>0.163974</td>\n",
              "      <td>-0.332390</td>\n",
              "      <td>0.044228</td>\n",
              "      <td>-0.478079</td>\n",
              "      <td>73</td>\n",
              "      <td>0</td>\n",
              "    </tr>\n",
              "    <tr>\n",
              "      <th>2</th>\n",
              "      <td>-0.567869</td>\n",
              "      <td>-0.360663</td>\n",
              "      <td>0.506734</td>\n",
              "      <td>0.320363</td>\n",
              "      <td>-0.706200</td>\n",
              "      <td>0.729753</td>\n",
              "      <td>0.143181</td>\n",
              "      <td>-0.062848</td>\n",
              "      <td>-0.730173</td>\n",
              "      <td>-0.945091</td>\n",
              "      <td>-0.038537</td>\n",
              "      <td>0.033834</td>\n",
              "      <td>0.025494</td>\n",
              "      <td>1.149924</td>\n",
              "      <td>-0.085004</td>\n",
              "      <td>-0.516884</td>\n",
              "      <td>0.445175</td>\n",
              "      <td>-0.689048</td>\n",
              "      <td>-0.602614</td>\n",
              "      <td>0.127899</td>\n",
              "      <td>-0.106483</td>\n",
              "      <td>0.012667</td>\n",
              "      <td>0.252349</td>\n",
              "      <td>-0.110407</td>\n",
              "      <td>-0.165382</td>\n",
              "      <td>0.315986</td>\n",
              "      <td>-0.098461</td>\n",
              "      <td>0.085191</td>\n",
              "      <td>0.009117</td>\n",
              "      <td>-0.619408</td>\n",
              "      <td>0.436665</td>\n",
              "      <td>-0.914977</td>\n",
              "      <td>0.146619</td>\n",
              "      <td>0.580473</td>\n",
              "      <td>-0.608835</td>\n",
              "      <td>-0.673068</td>\n",
              "      <td>0.002969</td>\n",
              "      <td>0.022684</td>\n",
              "      <td>0.411453</td>\n",
              "      <td>0.024828</td>\n",
              "      <td>...</td>\n",
              "      <td>-0.308422</td>\n",
              "      <td>0.313025</td>\n",
              "      <td>0.045458</td>\n",
              "      <td>-0.271773</td>\n",
              "      <td>-0.525007</td>\n",
              "      <td>0.572177</td>\n",
              "      <td>-0.376419</td>\n",
              "      <td>-0.839088</td>\n",
              "      <td>0.142155</td>\n",
              "      <td>-0.338460</td>\n",
              "      <td>0.277288</td>\n",
              "      <td>-0.035523</td>\n",
              "      <td>-0.819051</td>\n",
              "      <td>-0.640518</td>\n",
              "      <td>-0.085101</td>\n",
              "      <td>0.004264</td>\n",
              "      <td>-0.167519</td>\n",
              "      <td>-0.347701</td>\n",
              "      <td>-0.215960</td>\n",
              "      <td>-0.656132</td>\n",
              "      <td>-0.011149</td>\n",
              "      <td>0.576302</td>\n",
              "      <td>0.183731</td>\n",
              "      <td>0.412700</td>\n",
              "      <td>-0.165208</td>\n",
              "      <td>-0.125331</td>\n",
              "      <td>-0.527012</td>\n",
              "      <td>1.544439</td>\n",
              "      <td>-0.263991</td>\n",
              "      <td>0.466085</td>\n",
              "      <td>0.740062</td>\n",
              "      <td>-0.135937</td>\n",
              "      <td>-0.076820</td>\n",
              "      <td>-0.176314</td>\n",
              "      <td>0.186221</td>\n",
              "      <td>-0.950036</td>\n",
              "      <td>-0.452120</td>\n",
              "      <td>-0.428834</td>\n",
              "      <td>14</td>\n",
              "      <td>0</td>\n",
              "    </tr>\n",
              "    <tr>\n",
              "      <th>3</th>\n",
              "      <td>-0.417183</td>\n",
              "      <td>-0.274130</td>\n",
              "      <td>0.264695</td>\n",
              "      <td>-0.187070</td>\n",
              "      <td>0.456043</td>\n",
              "      <td>-0.142716</td>\n",
              "      <td>-0.061042</td>\n",
              "      <td>0.621747</td>\n",
              "      <td>-0.689632</td>\n",
              "      <td>-0.275849</td>\n",
              "      <td>-0.150516</td>\n",
              "      <td>0.013822</td>\n",
              "      <td>-0.099166</td>\n",
              "      <td>0.364272</td>\n",
              "      <td>-0.487306</td>\n",
              "      <td>-0.508059</td>\n",
              "      <td>0.808673</td>\n",
              "      <td>0.156681</td>\n",
              "      <td>0.092398</td>\n",
              "      <td>-0.031006</td>\n",
              "      <td>0.218915</td>\n",
              "      <td>-0.289423</td>\n",
              "      <td>0.241733</td>\n",
              "      <td>0.262408</td>\n",
              "      <td>-0.040458</td>\n",
              "      <td>0.075887</td>\n",
              "      <td>0.411707</td>\n",
              "      <td>-0.064360</td>\n",
              "      <td>0.265685</td>\n",
              "      <td>0.168776</td>\n",
              "      <td>1.098974</td>\n",
              "      <td>0.024603</td>\n",
              "      <td>-0.576183</td>\n",
              "      <td>-0.156587</td>\n",
              "      <td>0.566580</td>\n",
              "      <td>-0.026044</td>\n",
              "      <td>-0.388801</td>\n",
              "      <td>0.183036</td>\n",
              "      <td>0.176797</td>\n",
              "      <td>0.747720</td>\n",
              "      <td>...</td>\n",
              "      <td>0.099874</td>\n",
              "      <td>0.617330</td>\n",
              "      <td>0.089691</td>\n",
              "      <td>0.206799</td>\n",
              "      <td>-0.141607</td>\n",
              "      <td>0.006238</td>\n",
              "      <td>-0.223067</td>\n",
              "      <td>-0.129710</td>\n",
              "      <td>0.043490</td>\n",
              "      <td>-0.251572</td>\n",
              "      <td>-0.735757</td>\n",
              "      <td>0.377478</td>\n",
              "      <td>-0.383257</td>\n",
              "      <td>-0.279226</td>\n",
              "      <td>-0.311086</td>\n",
              "      <td>0.174512</td>\n",
              "      <td>0.336242</td>\n",
              "      <td>-0.366160</td>\n",
              "      <td>0.133984</td>\n",
              "      <td>0.805791</td>\n",
              "      <td>0.341736</td>\n",
              "      <td>-0.366312</td>\n",
              "      <td>-0.036911</td>\n",
              "      <td>0.567689</td>\n",
              "      <td>-0.310358</td>\n",
              "      <td>-0.180089</td>\n",
              "      <td>-0.852253</td>\n",
              "      <td>0.569599</td>\n",
              "      <td>-0.249196</td>\n",
              "      <td>-0.107741</td>\n",
              "      <td>-0.200470</td>\n",
              "      <td>0.281890</td>\n",
              "      <td>0.152629</td>\n",
              "      <td>-0.363850</td>\n",
              "      <td>-0.196422</td>\n",
              "      <td>-0.501577</td>\n",
              "      <td>-0.701197</td>\n",
              "      <td>-0.777078</td>\n",
              "      <td>28</td>\n",
              "      <td>0</td>\n",
              "    </tr>\n",
              "    <tr>\n",
              "      <th>4</th>\n",
              "      <td>-0.115846</td>\n",
              "      <td>-0.392109</td>\n",
              "      <td>-0.506213</td>\n",
              "      <td>0.475562</td>\n",
              "      <td>-0.069108</td>\n",
              "      <td>0.231304</td>\n",
              "      <td>-0.098725</td>\n",
              "      <td>0.250521</td>\n",
              "      <td>0.118837</td>\n",
              "      <td>-0.205882</td>\n",
              "      <td>0.133387</td>\n",
              "      <td>0.079181</td>\n",
              "      <td>-0.212256</td>\n",
              "      <td>0.182296</td>\n",
              "      <td>-0.730242</td>\n",
              "      <td>0.317524</td>\n",
              "      <td>0.258074</td>\n",
              "      <td>0.949315</td>\n",
              "      <td>-0.157568</td>\n",
              "      <td>-0.296560</td>\n",
              "      <td>0.312530</td>\n",
              "      <td>0.354884</td>\n",
              "      <td>-0.254076</td>\n",
              "      <td>0.011800</td>\n",
              "      <td>-0.243304</td>\n",
              "      <td>0.051508</td>\n",
              "      <td>0.432054</td>\n",
              "      <td>0.816026</td>\n",
              "      <td>0.499784</td>\n",
              "      <td>-0.254661</td>\n",
              "      <td>-0.218129</td>\n",
              "      <td>0.111486</td>\n",
              "      <td>-0.325867</td>\n",
              "      <td>-0.251837</td>\n",
              "      <td>0.159011</td>\n",
              "      <td>-0.065167</td>\n",
              "      <td>-0.340783</td>\n",
              "      <td>0.310203</td>\n",
              "      <td>-0.261576</td>\n",
              "      <td>0.956752</td>\n",
              "      <td>...</td>\n",
              "      <td>0.707811</td>\n",
              "      <td>0.446990</td>\n",
              "      <td>-0.510817</td>\n",
              "      <td>0.274500</td>\n",
              "      <td>-0.158340</td>\n",
              "      <td>0.289517</td>\n",
              "      <td>-0.489353</td>\n",
              "      <td>-0.174748</td>\n",
              "      <td>0.419921</td>\n",
              "      <td>-0.479476</td>\n",
              "      <td>0.354829</td>\n",
              "      <td>-0.124777</td>\n",
              "      <td>0.279369</td>\n",
              "      <td>0.034154</td>\n",
              "      <td>-0.745449</td>\n",
              "      <td>0.138215</td>\n",
              "      <td>0.714756</td>\n",
              "      <td>-0.578932</td>\n",
              "      <td>0.353309</td>\n",
              "      <td>-0.074568</td>\n",
              "      <td>0.292778</td>\n",
              "      <td>0.273068</td>\n",
              "      <td>-0.160787</td>\n",
              "      <td>-0.078914</td>\n",
              "      <td>-0.482776</td>\n",
              "      <td>0.198390</td>\n",
              "      <td>-0.429481</td>\n",
              "      <td>0.115503</td>\n",
              "      <td>-0.398800</td>\n",
              "      <td>-0.084847</td>\n",
              "      <td>0.481051</td>\n",
              "      <td>0.133564</td>\n",
              "      <td>0.182645</td>\n",
              "      <td>-0.378844</td>\n",
              "      <td>0.070192</td>\n",
              "      <td>-0.182899</td>\n",
              "      <td>0.058103</td>\n",
              "      <td>-0.436180</td>\n",
              "      <td>24</td>\n",
              "      <td>0</td>\n",
              "    </tr>\n",
              "  </tbody>\n",
              "</table>\n",
              "<p>5 rows × 102 columns</p>\n",
              "</div>"
            ],
            "text/plain": [
              "          0         1         2  ...        99  length_tweet  label\n",
              "0 -0.258498 -0.363275 -0.182613  ... -0.958338            46      0\n",
              "1 -0.053422 -0.258770  0.056477  ... -0.478079            73      0\n",
              "2 -0.567869 -0.360663  0.506734  ... -0.428834            14      0\n",
              "3 -0.417183 -0.274130  0.264695  ... -0.777078            28      0\n",
              "4 -0.115846 -0.392109 -0.506213  ... -0.436180            24      0\n",
              "\n",
              "[5 rows x 102 columns]"
            ]
          },
          "metadata": {
            "tags": []
          },
          "execution_count": 23
        }
      ]
    },
    {
      "cell_type": "code",
      "metadata": {
        "id": "bno6BF8uXWj_",
        "colab_type": "code",
        "colab": {}
      },
      "source": [
        ""
      ],
      "execution_count": 23,
      "outputs": []
    },
    {
      "cell_type": "markdown",
      "metadata": {
        "id": "aDAZQPo2ckOA",
        "colab_type": "text"
      },
      "source": [
        "#Resample"
      ]
    },
    {
      "cell_type": "markdown",
      "metadata": {
        "id": "qyBl_7dphiqx",
        "colab_type": "text"
      },
      "source": [
        "##Upsampling BOW"
      ]
    },
    {
      "cell_type": "code",
      "metadata": {
        "id": "_gwsiRZect0l",
        "colab_type": "code",
        "colab": {
          "base_uri": "https://localhost:8080/",
          "height": 316
        },
        "outputId": "48b32273-85ce-47fc-b6c6-105cb950e112"
      },
      "source": [
        "major_class_0,major_class_1=bow_train.label.value_counts()\n",
        "df_major=bow_train[bow_train['label']==0]\n",
        "df_minor=bow_train[bow_train['label']==1]\n",
        "df_minor_upsampled = resample(df_minor, \n",
        "                                 replace=True,     # sample with replacement\n",
        "                                 n_samples=major_class_0)\n",
        "df_bow_upsampled = pd.concat([df_major, df_minor_upsampled])\n",
        "print('shape',df_bow_upsampled.shape)\n",
        "sns.countplot(df_bow_upsampled.label)"
      ],
      "execution_count": 24,
      "outputs": [
        {
          "output_type": "stream",
          "text": [
            "shape (59440, 1002)\n"
          ],
          "name": "stdout"
        },
        {
          "output_type": "execute_result",
          "data": {
            "text/plain": [
              "<matplotlib.axes._subplots.AxesSubplot at 0x7f16260a2f60>"
            ]
          },
          "metadata": {
            "tags": []
          },
          "execution_count": 24
        },
        {
          "output_type": "display_data",
          "data": {
            "image/png": "[encoded data removed]",
            "text/plain": [
              "<Figure size 432x288 with 1 Axes>"
            ]
          },
          "metadata": {
            "tags": [],
            "needs_background": "light"
          }
        }
      ]
    },
    {
      "cell_type": "markdown",
      "metadata": {
        "id": "DcXm4-2nh8qU",
        "colab_type": "text"
      },
      "source": [
        "##Upsampling TF-IDF"
      ]
    },
    {
      "cell_type": "code",
      "metadata": {
        "id": "-92Lrks_ihFr",
        "colab_type": "code",
        "colab": {
          "base_uri": "https://localhost:8080/",
          "height": 316
        },
        "outputId": "8b53bcb7-7387-484f-b457-879a27733d54"
      },
      "source": [
        "major_class_0,major_class_1=tfidf_train.label.value_counts()\n",
        "df_major=tfidf_train[tfidf_train['label']==0]\n",
        "df_minor=tfidf_train[tfidf_train['label']==1]\n",
        "df_minor_upsampled = resample(df_minor, \n",
        "                                 replace=True,     # sample with replacement\n",
        "                                 n_samples=major_class_0)\n",
        "df_tfidf_upsampled = pd.concat([df_major, df_minor_upsampled])\n",
        "print('shape',df_tfidf_upsampled.shape)\n",
        "sns.countplot(df_tfidf_upsampled.label)"
      ],
      "execution_count": 25,
      "outputs": [
        {
          "output_type": "stream",
          "text": [
            "shape (59440, 1002)\n"
          ],
          "name": "stdout"
        },
        {
          "output_type": "execute_result",
          "data": {
            "text/plain": [
              "<matplotlib.axes._subplots.AxesSubplot at 0x7f16260a2668>"
            ]
          },
          "metadata": {
            "tags": []
          },
          "execution_count": 25
        },
        {
          "output_type": "display_data",
          "data": {
            "image/png": "[encoded data removed]",
            "text/plain": [
              "<Figure size 432x288 with 1 Axes>"
            ]
          },
          "metadata": {
            "tags": [],
            "needs_background": "light"
          }
        }
      ]
    },
    {
      "cell_type": "markdown",
      "metadata": {
        "id": "otKNRsUOi3uT",
        "colab_type": "text"
      },
      "source": [
        "##Upsampling  word2vec"
      ]
    },
    {
      "cell_type": "code",
      "metadata": {
        "id": "IC_kKXYYihJN",
        "colab_type": "code",
        "colab": {
          "base_uri": "https://localhost:8080/",
          "height": 316
        },
        "outputId": "0c9d7158-029e-42ff-8f0e-607da4b1bf85"
      },
      "source": [
        "major_class_0,major_class_1=w2v_train.label.value_counts()\n",
        "df_major=w2v_train[w2v_train['label']==0]\n",
        "df_minor=w2v_train[w2v_train['label']==1]\n",
        "df_minor_upsampled = resample(df_minor, \n",
        "                                 replace=True,     # sample with replacement\n",
        "                                 n_samples=major_class_0)\n",
        "df_w2v_upsampled = pd.concat([df_major, df_minor_upsampled])\n",
        "print('shape',df_w2v_upsampled.shape)\n",
        "sns.countplot(df_w2v_upsampled.label)"
      ],
      "execution_count": 26,
      "outputs": [
        {
          "output_type": "stream",
          "text": [
            "shape (59440, 102)\n"
          ],
          "name": "stdout"
        },
        {
          "output_type": "execute_result",
          "data": {
            "text/plain": [
              "<matplotlib.axes._subplots.AxesSubplot at 0x7f162166b550>"
            ]
          },
          "metadata": {
            "tags": []
          },
          "execution_count": 26
        },
        {
          "output_type": "display_data",
          "data": {
            "image/png": "[encoded data removed]",
            "text/plain": [
              "<Figure size 432x288 with 1 Axes>"
            ]
          },
          "metadata": {
            "tags": [],
            "needs_background": "light"
          }
        }
      ]
    },
    {
      "cell_type": "markdown",
      "metadata": {
        "id": "_9DKbyeyjY0m",
        "colab_type": "text"
      },
      "source": [
        "# Split Dataset"
      ]
    },
    {
      "cell_type": "code",
      "metadata": {
        "id": "VeBiQFw8WXzK",
        "colab_type": "code",
        "colab": {}
      },
      "source": [
        "x=df_bow_upsampled.iloc[:,0:-1]\n",
        "y=df_bow_upsampled['label']\n",
        "x_train_bow,x_test_bow,y_train_bow,y_test_bow=train_test_split(x,y,test_size=0.2)"
      ],
      "execution_count": 27,
      "outputs": []
    },
    {
      "cell_type": "code",
      "metadata": {
        "id": "jOnl7DRxj4xv",
        "colab_type": "code",
        "colab": {}
      },
      "source": [
        "x=df_tfidf_upsampled.iloc[:,0:-1]\n",
        "y=df_tfidf_upsampled['label']\n",
        "x_train_tfidf,x_test_tfidf,y_train_tfidf,y_test_tfidf=train_test_split(x,y,test_size=0.2)"
      ],
      "execution_count": 28,
      "outputs": []
    },
    {
      "cell_type": "code",
      "metadata": {
        "id": "1NI_sKZ_j6uq",
        "colab_type": "code",
        "colab": {}
      },
      "source": [
        "x=df_w2v_upsampled.iloc[:,0:-1]\n",
        "y=df_w2v_upsampled['label']\n",
        "x_train_w2v,x_test_w2v,y_train_w2v,y_test_w2v=train_test_split(x,y,test_size=0.2)"
      ],
      "execution_count": 29,
      "outputs": []
    },
    {
      "cell_type": "markdown",
      "metadata": {
        "id": "PIMfJGHDkLQd",
        "colab_type": "text"
      },
      "source": [
        "#Model Selection"
      ]
    },
    {
      "cell_type": "code",
      "metadata": {
        "id": "tHoEw3CqlICd",
        "colab_type": "code",
        "colab": {}
      },
      "source": [
        "def f1_score_(y_proba,y_test):\n",
        "  proba = y_proba[:,1] >= 0.3\n",
        "  proba = proba.astype(np.int) \n",
        "  return f1_score( proba,y_test)   \n"
      ],
      "execution_count": 30,
      "outputs": []
    },
    {
      "cell_type": "markdown",
      "metadata": {
        "id": "J0IMkpq3kQHw",
        "colab_type": "text"
      },
      "source": [
        "##KNN"
      ]
    },
    {
      "cell_type": "code",
      "metadata": {
        "scrolled": true,
        "id": "QBKRy0tOWXzO",
        "colab_type": "code",
        "colab": {
          "base_uri": "https://localhost:8080/",
          "height": 182
        },
        "outputId": "7883a138-02c5-4b61-b5c4-556e500b8ba2"
      },
      "source": [
        "#use Bow\n",
        "from sklearn.neighbors import KNeighborsClassifier\n",
        "k=[3,5,7,11]\n",
        "accuracy=[]\n",
        "for i in tqdm(k):\n",
        "  model=KNeighborsClassifier(n_neighbors=i)\n",
        "  model.fit(x_train_bow,y_train_bow)\n",
        "  y_pred=model.predict(x_test_bow)\n",
        "  acc=accuracy_score(y_pred,y_test_bow)\n",
        "  print('for k=',i,'Accuracy Score',acc)\n",
        "  accuracy.append(acc)\n",
        "  y_proba=model.predict_proba(x_test_bow)\n",
        "  f1_scor=f1_score_(y_proba,y_test_bow)\n",
        "  print('for k=',i,'f1 score ',f1_scor)"
      ],
      "execution_count": 31,
      "outputs": [
        {
          "output_type": "stream",
          "text": [
            "\r  0%|          | 0/4 [00:00<?, ?it/s]"
          ],
          "name": "stderr"
        },
        {
          "output_type": "stream",
          "text": [
            "for k= 3 Accuracy Score 0.8681864064602961\n"
          ],
          "name": "stdout"
        },
        {
          "output_type": "stream",
          "text": [
            "\r 25%|██▌       | 1/4 [01:37<04:52, 97.62s/it]"
          ],
          "name": "stderr"
        },
        {
          "output_type": "stream",
          "text": [
            "for k= 3 f1 score  0.8384620752215477\n",
            "for k= 5 Accuracy Score 0.8405114401076716\n"
          ],
          "name": "stdout"
        },
        {
          "output_type": "stream",
          "text": [
            "\r 50%|█████     | 2/4 [03:23<03:20, 100.20s/it]"
          ],
          "name": "stderr"
        },
        {
          "output_type": "stream",
          "text": [
            "for k= 5 f1 score  0.8299329137561381\n",
            "for k= 7 Accuracy Score 0.8201547779273217\n"
          ],
          "name": "stdout"
        },
        {
          "output_type": "stream",
          "text": [
            "\r 75%|███████▌  | 3/4 [05:17<01:44, 104.21s/it]"
          ],
          "name": "stderr"
        },
        {
          "output_type": "stream",
          "text": [
            "for k= 7 f1 score  0.8190749079001228\n",
            "for k= 11 Accuracy Score 0.7850773889636609\n"
          ],
          "name": "stdout"
        },
        {
          "output_type": "stream",
          "text": [
            "100%|██████████| 4/4 [07:26<00:00, 111.51s/it]"
          ],
          "name": "stderr"
        },
        {
          "output_type": "stream",
          "text": [
            "for k= 11 f1 score  0.7800259403372244\n"
          ],
          "name": "stdout"
        },
        {
          "output_type": "stream",
          "text": [
            "\n"
          ],
          "name": "stderr"
        }
      ]
    },
    {
      "cell_type": "code",
      "metadata": {
        "id": "0c1jyK2RiPRJ",
        "colab_type": "code",
        "colab": {
          "base_uri": "https://localhost:8080/",
          "height": 127
        },
        "outputId": "1074d49c-5855-4d3c-f145-7eccd093a6ca"
      },
      "source": [
        "#use tfidf\n",
        "k=[3,5,11]\n",
        "accuracy_tfidf=[]\n",
        "for i in k:\n",
        "  model=KNeighborsClassifier(n_neighbors=i)\n",
        "  model.fit(x_train_tfidf,y_train_tfidf)\n",
        "  y_pred=model.predict(x_test_tfidf)\n",
        "  acc=accuracy_score(y_pred,y_test_tfidf)\n",
        "  print('for k=',i,'Accuracy Score',acc)\n",
        "  accuracy_tfidf.append(acc)\n",
        "  y_proba=model.predict_proba(x_test_tfidf)\n",
        "  f1_scor=f1_score_(y_proba,y_test_tfidf)\n",
        "  print('for k=',i,'f1 score ',f1_scor)"
      ],
      "execution_count": 32,
      "outputs": [
        {
          "output_type": "stream",
          "text": [
            "for k= 3 Accuracy Score 0.856914535666218\n",
            "for k= 3 f1 score  0.8520794626268402\n",
            "for k= 5 Accuracy Score 0.84185733512786\n",
            "for k= 5 f1 score  0.8429833863556027\n",
            "for k= 11 Accuracy Score 0.8036675639300135\n",
            "for k= 11 f1 score  0.8097859327217125\n"
          ],
          "name": "stdout"
        }
      ]
    },
    {
      "cell_type": "code",
      "metadata": {
        "id": "iMnzsdEZiyad",
        "colab_type": "code",
        "colab": {
          "base_uri": "https://localhost:8080/",
          "height": 146
        },
        "outputId": "6c711e38-d036-4edf-e885-2f1aa7753445"
      },
      "source": [
        "#use word2vec\n",
        "from sklearn.neighbors import KNeighborsClassifier\n",
        "k=[3,5,11]\n",
        "accuracy_w2v=[]\n",
        "for i in tqdm(k):\n",
        "  model=KNeighborsClassifier(n_neighbors=i)\n",
        "  model.fit(x_train_w2v,y_train_w2v)\n",
        "  y_pred=model.predict(x_test_w2v)\n",
        "  acc=accuracy_score(y_pred,y_test_w2v)\n",
        "  print('for k=',i,'Accuracy Score',acc)\n",
        "  accuracy_w2v.append(acc)\n",
        "  y_proba=model.predict_proba(x_test_w2v)\n",
        "  f1_scor=f1_score_(y_proba,y_test_w2v)\n",
        "  print('for k=',i,'f1 score ',f1_scor)"
      ],
      "execution_count": 33,
      "outputs": [
        {
          "output_type": "stream",
          "text": [
            "\r  0%|          | 0/3 [00:00<?, ?it/s]"
          ],
          "name": "stderr"
        },
        {
          "output_type": "stream",
          "text": [
            "for k= 3 Accuracy Score 0.9531460296096904\n"
          ],
          "name": "stdout"
        },
        {
          "output_type": "stream",
          "text": [
            "\r 33%|███▎      | 1/3 [00:12<00:25, 12.76s/it]"
          ],
          "name": "stderr"
        },
        {
          "output_type": "stream",
          "text": [
            "for k= 3 f1 score  0.941370120708575\n",
            "for k= 5 Accuracy Score 0.9362382234185733\n"
          ],
          "name": "stdout"
        },
        {
          "output_type": "stream",
          "text": [
            "\r 67%|██████▋   | 2/3 [00:26<00:13, 13.08s/it]"
          ],
          "name": "stderr"
        },
        {
          "output_type": "stream",
          "text": [
            "for k= 5 f1 score  0.9263401465483996\n",
            "for k= 11 Accuracy Score 0.8855989232839838\n"
          ],
          "name": "stdout"
        },
        {
          "output_type": "stream",
          "text": [
            "100%|██████████| 3/3 [00:44<00:00, 14.99s/it]"
          ],
          "name": "stderr"
        },
        {
          "output_type": "stream",
          "text": [
            "for k= 11 f1 score  0.8777883419878594\n"
          ],
          "name": "stdout"
        },
        {
          "output_type": "stream",
          "text": [
            "\n"
          ],
          "name": "stderr"
        }
      ]
    },
    {
      "cell_type": "markdown",
      "metadata": {
        "id": "tcQ9-VYtmtr2",
        "colab_type": "text"
      },
      "source": [
        "#Summary\n",
        "<table>\n",
        "<tr>\n",
        "<td>K</td>\n",
        "<td colspan=2>BOW</td>\n",
        "<td colspan=2>TF-IDF</td>\n",
        "<td colspan=2>WORD2VEC</td>\n",
        "</tr>\n",
        "<tr><td>    </td>\n",
        "<td>Accuray</td>\n",
        "<td>f1_score</td>\n",
        "<td>Accuray</td>\n",
        "<td>f1_score</td>\n",
        "<td>Accuray</td>\n",
        "<td>f1_score</td>\n",
        "</tr>\n",
        "<tr><td>  3 </td>\n",
        "<td>0.8681864064602961</td>\n",
        "<td>0.8384620752215477</td>\n",
        "<td>0.856914535666218</td>\n",
        "<td>8520794626268402</td>\n",
        "<td>0.9531460296096904</td>\n",
        "<td>0.941370120708575</td>\n",
        "</tr>\n",
        "<tr><td>  5 </td>\n",
        "<td>0.8405114401076716</td>\n",
        "<td>0.8299329137561381</td>\n",
        "<td>0.84185733512786</td>\n",
        "<td>0.8429833863556027</td>\n",
        "<td>0.9362382234185733</td>\n",
        "<td>0.9263401465483996</td>\n",
        "</tr>\n",
        "<tr><td>  7 </td>\n",
        "<td>0.8201547779273217</td>\n",
        "<td>0.8190749079001228</td>\n",
        "<td> </td>\n",
        "<td> </td>\n",
        "<td> </td>\n",
        "<td> </td>\n",
        "</tr>\n",
        "<tr><td>  11 </td>\n",
        "<td>0.7850773889636609</td>\n",
        "<td>0.7800259403372244</td>\n",
        "<td>0.8036675639300135</td>\n",
        "<td> 0.8097859327217125</td>\n",
        "<td>0.8855989232839838</td>\n",
        "<td>0.8777883419878594</td>\n",
        "</tr>\n",
        "</table>\n",
        "\n",
        "\n"
      ]
    },
    {
      "cell_type": "code",
      "metadata": {
        "id": "pmNcOEK5msX7",
        "colab_type": "code",
        "colab": {}
      },
      "source": [
        ""
      ],
      "execution_count": null,
      "outputs": []
    }
  ]
}